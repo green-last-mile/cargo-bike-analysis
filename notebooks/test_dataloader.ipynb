{
 "cells": [
  {
   "cell_type": "code",
   "execution_count": 1,
   "metadata": {},
   "outputs": [],
   "source": [
    "%load_ext autoreload\n",
    "%autoreload 2"
   ]
  },
  {
   "cell_type": "code",
   "execution_count": 14,
   "metadata": {},
   "outputs": [],
   "source": [
    "import os\n",
    "import sys\n",
    "from pathlib import Path\n",
    "\n",
    "# add the\n",
    "ROOT = Path(os.getcwd())\n",
    "while not (ROOT / \".git\").exists():\n",
    "    ROOT = ROOT.parent\n",
    "\n",
    "sys.path.append(str(ROOT))\n",
    "\n",
    "from src.osm_tags import build_tag_filter\n",
    "from src import load_data as ld\n",
    "\n",
    "import polars as pl\n",
    "import geopolars as gpl\n",
    "import geopandas as gpd\n",
    "import pandas as pd"
   ]
  },
  {
   "cell_type": "code",
   "execution_count": 3,
   "metadata": {},
   "outputs": [],
   "source": [
    "config_path = ROOT / \"config\" / \"paper.yaml\""
   ]
  },
  {
   "cell_type": "code",
   "execution_count": 4,
   "metadata": {},
   "outputs": [],
   "source": [
    "dataloader = ld.DataLoader(config_path)"
   ]
  },
  {
   "cell_type": "code",
   "execution_count": 28,
   "metadata": {},
   "outputs": [
    {
     "name": "stdout",
     "output_type": "stream",
     "text": [
      "Loading service time data for London, UK.\n",
      "Loading service time data for Brussels, Belgium.\n"
     ]
    },
    {
     "data": {
      "text/plain": [
       "{'london': shape: (12_106, 3)\n",
       " ┌─────────────────┬──────────────┬────────────┐\n",
       " │ region_id       ┆ service_time ┆ city       │\n",
       " │ ---             ┆ ---          ┆ ---        │\n",
       " │ str             ┆ f64          ┆ str        │\n",
       " ╞═════════════════╪══════════════╪════════════╡\n",
       " │ 891fa441b53ffff ┆ 185.0        ┆ London, UK │\n",
       " │ 891fa441bdbffff ┆ 309.0        ┆ London, UK │\n",
       " │ 891fa441b83ffff ┆ 197.0        ┆ London, UK │\n",
       " │ 891fa44194fffff ┆ 566.0        ┆ London, UK │\n",
       " │ …               ┆ …            ┆ …          │\n",
       " │ 891fa44c443ffff ┆ 171.0        ┆ London, UK │\n",
       " │ 891fa44e067ffff ┆ 157.0        ┆ London, UK │\n",
       " │ 891fa440277ffff ┆ 194.0        ┆ London, UK │\n",
       " │ 891fa441c6fffff ┆ 296.0        ┆ London, UK │\n",
       " └─────────────────┴──────────────┴────────────┘,\n",
       " 'brussels': shape: (9_595, 3)\n",
       " ┌─────────────────┬──────────────┬───────────────────┐\n",
       " │ region_id       ┆ service_time ┆ city              │\n",
       " │ ---             ┆ ---          ┆ ---               │\n",
       " │ str             ┆ f64          ┆ str               │\n",
       " ╞═════════════════╪══════════════╪═══════════════════╡\n",
       " │ 89194ad1367ffff ┆ 182.0        ┆ Brussels, Belgium │\n",
       " │ 89194e69ab7ffff ┆ 30.0         ┆ Brussels, Belgium │\n",
       " │ 89194ad3073ffff ┆ 10.0         ┆ Brussels, Belgium │\n",
       " │ 89195da6e07ffff ┆ 272.0        ┆ Brussels, Belgium │\n",
       " │ …               ┆ …            ┆ …                 │\n",
       " │ 89194e69e63ffff ┆ 387.0        ┆ Brussels, Belgium │\n",
       " │ 89195da6d23ffff ┆ 335.0        ┆ Brussels, Belgium │\n",
       " │ 89195da6d27ffff ┆ 229.0        ┆ Brussels, Belgium │\n",
       " │ 89195da6d23ffff ┆ 375.0        ┆ Brussels, Belgium │\n",
       " └─────────────────┴──────────────┴───────────────────┘}"
      ]
     },
     "execution_count": 28,
     "metadata": {},
     "output_type": "execute_result"
    }
   ],
   "source": [
    "dataloader.load_cities(\"london\", \"brussels\").get_columns(\"service time\")"
   ]
  }
 ],
 "metadata": {
  "kernelspec": {
   "display_name": ".venv",
   "language": "python",
   "name": "python3"
  },
  "language_info": {
   "codemirror_mode": {
    "name": "ipython",
    "version": 3
   },
   "file_extension": ".py",
   "mimetype": "text/x-python",
   "name": "python",
   "nbconvert_exporter": "python",
   "pygments_lexer": "ipython3",
   "version": "3.10.12"
  }
 },
 "nbformat": 4,
 "nbformat_minor": 2
}
