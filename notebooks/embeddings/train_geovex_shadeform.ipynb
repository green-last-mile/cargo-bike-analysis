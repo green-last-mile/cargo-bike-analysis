{
 "cells": [
  {
   "cell_type": "code",
   "execution_count": 1,
   "metadata": {},
   "outputs": [],
   "source": [
    "%load_ext autoreload\n",
    "%autoreload 2"
   ]
  },
  {
   "cell_type": "code",
   "execution_count": 2,
   "metadata": {},
   "outputs": [
    {
     "name": "stdout",
     "output_type": "stream",
     "text": [
      "Requirement already satisfied: polars in /Users/max/.pyenv/versions/3.9.10/envs/cargo-bike-analysis/lib/python3.9/site-packages (0.19.19)\n",
      "Requirement already satisfied: srai[all] in /Users/max/.pyenv/versions/3.9.10/envs/cargo-bike-analysis/lib/python3.9/site-packages (0.6.2)\n",
      "Requirement already satisfied: h3ronpy in /Users/max/.pyenv/versions/3.9.10/envs/cargo-bike-analysis/lib/python3.9/site-packages (0.19.0)\n",
      "Requirement already satisfied: omegaconf in /Users/max/.pyenv/versions/3.9.10/envs/cargo-bike-analysis/lib/python3.9/site-packages (2.3.0)\n",
      "Requirement already satisfied: wandb in /Users/max/.pyenv/versions/3.9.10/envs/cargo-bike-analysis/lib/python3.9/site-packages (0.16.1)\n",
      "^C\n",
      "\u001b[31mERROR: Operation cancelled by user\u001b[0m\u001b[31m\n",
      "\u001b[0m\n",
      "\u001b[1m[\u001b[0m\u001b[34;49mnotice\u001b[0m\u001b[1;39;49m]\u001b[0m\u001b[39;49m A new release of pip is available: \u001b[0m\u001b[31;49m23.2.1\u001b[0m\u001b[39;49m -> \u001b[0m\u001b[32;49m23.3.2\u001b[0m\n",
      "\u001b[1m[\u001b[0m\u001b[34;49mnotice\u001b[0m\u001b[1;39;49m]\u001b[0m\u001b[39;49m To update, run: \u001b[0m\u001b[32;49mpip install --upgrade pip\u001b[0m\n"
     ]
    }
   ],
   "source": [
    "!pip install polars \"srai[all]\" h3ronpy omegaconf wandb pytorch"
   ]
  },
  {
   "cell_type": "markdown",
   "metadata": {},
   "source": [
    "# Training GeoVex model\n"
   ]
  },
  {
   "cell_type": "code",
   "execution_count": null,
   "metadata": {},
   "outputs": [
    {
     "name": "stderr",
     "output_type": "stream",
     "text": [
      "/home/shadeform/.local/lib/python3.10/site-packages/tqdm/auto.py:21: TqdmWarning: IProgress not found. Please update jupyter and ipywidgets. See https://ipywidgets.readthedocs.io/en/stable/user_install.html\n",
      "  from .autonotebook import tqdm as notebook_tqdm\n",
      "/usr/lib/python3/dist-packages/pkg_resources/__init__.py:116: PkgResourcesDeprecationWarning: 0.1.43ubuntu1 is an invalid version and will not be supported in a future release\n",
      "  warnings.warn(\n",
      "/usr/lib/python3/dist-packages/pkg_resources/__init__.py:116: PkgResourcesDeprecationWarning: 1.1build1 is an invalid version and will not be supported in a future release\n",
      "  warnings.warn(\n"
     ]
    }
   ],
   "source": [
    "import os\n",
    "import sys\n",
    "from pathlib import Path\n",
    "\n",
    "# add the\n",
    "ROOT = Path(os.getcwd())\n",
    "# while not (ROOT / \".git\").exists():\n",
    "ROOT = ROOT\n",
    "\n",
    "sys.path.append(str(ROOT))\n",
    "\n",
    "from src.config import CargoBikeConfig, load_config\n",
    "from src.osm_tags import build_tag_filter\n",
    "\n",
    "\n",
    "import polars as pl\n",
    "from h3ronpy.polars import grid_disk\n",
    "from srai.h3 import ring_buffer_h3_indexes\n",
    "from srai.neighbourhoods.h3_neighbourhood import H3Neighbourhood\n",
    "from srai.embedders.geovex.model import GeoVexModel\n",
    "from srai.embedders.geovex.dataset import HexagonalDataset"
   ]
  },
  {
   "cell_type": "code",
   "execution_count": null,
   "metadata": {},
   "outputs": [],
   "source": []
  },
  {
   "cell_type": "markdown",
   "metadata": {},
   "source": [
    "## Load Config\n"
   ]
  },
  {
   "cell_type": "markdown",
   "metadata": {},
   "source": []
  },
  {
   "cell_type": "code",
   "execution_count": null,
   "metadata": {},
   "outputs": [],
   "source": [
    "config = load_config(ROOT / \"config\" / \"paper.yaml\")\n",
    "\n",
    "target_tags = build_tag_filter(config)\n",
    "target_tag_list = [f\"{t}_{st}\" for t, sts in target_tags.items() for st in sts]"
   ]
  },
  {
   "cell_type": "markdown",
   "metadata": {},
   "source": [
    "## Load the Tag Data\n"
   ]
  },
  {
   "cell_type": "code",
   "execution_count": null,
   "metadata": {},
   "outputs": [
    {
     "data": {
      "text/html": [
       "<div><style>\n",
       ".dataframe > thead > tr,\n",
       ".dataframe > tbody > tr {\n",
       "  text-align: right;\n",
       "  white-space: pre-wrap;\n",
       "}\n",
       "</style>\n",
       "<small>shape: (5, 756)</small><table border=\"1\" class=\"dataframe\"><thead><tr><th>amenity_bar</th><th>amenity_biergarten</th><th>amenity_cafe</th><th>amenity_fast_food</th><th>amenity_food_court</th><th>amenity_ice_cream</th><th>amenity_pub</th><th>amenity_restaurant</th><th>amenity_college</th><th>amenity_driving_school</th><th>amenity_kindergarten</th><th>amenity_language_school</th><th>amenity_library</th><th>amenity_toy_library</th><th>amenity_music_school</th><th>amenity_school</th><th>amenity_university</th><th>amenity_bicycle_parking</th><th>amenity_bicycle_repair_station</th><th>amenity_bicycle_rental</th><th>amenity_boat_rental</th><th>amenity_boat_sharing</th><th>amenity_bus_station</th><th>amenity_car_rental</th><th>amenity_car_sharing</th><th>amenity_car_wash</th><th>amenity_vehicle_inspection</th><th>amenity_charging_station</th><th>amenity_ferry_terminal</th><th>amenity_fuel</th><th>amenity_grit_bin</th><th>amenity_motorcycle_parking</th><th>amenity_parking</th><th>amenity_parking_entrance</th><th>amenity_parking_space</th><th>amenity_taxi</th><th>amenity_atm</th><th>&hellip;</th><th>sport_zurkhaneh_sport</th><th>water_river</th><th>water_oxbow</th><th>water_canal</th><th>water_ditch</th><th>water_lock</th><th>water_fish_pass</th><th>water_lake</th><th>water_reservoir</th><th>water_pond</th><th>water_basin</th><th>water_lagoon</th><th>water_stream_pool</th><th>water_reflecting_pool</th><th>water_moat</th><th>water_wastewater</th><th>waterway_river</th><th>waterway_riverbank</th><th>waterway_stream</th><th>waterway_tidal_channel</th><th>waterway_canal</th><th>waterway_drain</th><th>waterway_ditch</th><th>waterway_pressurised</th><th>waterway_fairway</th><th>waterway_dock</th><th>waterway_boatyard</th><th>waterway_dam</th><th>waterway_weir</th><th>waterway_waterfall</th><th>waterway_lock_gate</th><th>waterway_soakhole</th><th>waterway_turning_point</th><th>waterway_water_point</th><th>waterway_fuel</th><th>region_id</th><th>city</th></tr><tr><td>i64</td><td>i64</td><td>i64</td><td>i64</td><td>i64</td><td>i64</td><td>i64</td><td>i64</td><td>i64</td><td>i64</td><td>i64</td><td>i64</td><td>i64</td><td>i64</td><td>i64</td><td>i64</td><td>i64</td><td>i64</td><td>i64</td><td>i64</td><td>i64</td><td>i64</td><td>i64</td><td>i64</td><td>i64</td><td>i64</td><td>i64</td><td>i64</td><td>i64</td><td>i64</td><td>i64</td><td>i64</td><td>i64</td><td>i64</td><td>i64</td><td>i64</td><td>i64</td><td>&hellip;</td><td>i64</td><td>i64</td><td>i64</td><td>i64</td><td>i64</td><td>i64</td><td>i64</td><td>i64</td><td>i64</td><td>i64</td><td>i64</td><td>i64</td><td>i64</td><td>i64</td><td>i64</td><td>i64</td><td>i64</td><td>i64</td><td>i64</td><td>i64</td><td>i64</td><td>i64</td><td>i64</td><td>i64</td><td>i64</td><td>i64</td><td>i64</td><td>i64</td><td>i64</td><td>i64</td><td>i64</td><td>i64</td><td>i64</td><td>i64</td><td>i64</td><td>str</td><td>str</td></tr></thead><tbody><tr><td>0</td><td>0</td><td>0</td><td>0</td><td>0</td><td>0</td><td>0</td><td>0</td><td>0</td><td>0</td><td>0</td><td>0</td><td>0</td><td>0</td><td>0</td><td>0</td><td>0</td><td>0</td><td>0</td><td>0</td><td>0</td><td>0</td><td>0</td><td>0</td><td>0</td><td>0</td><td>0</td><td>0</td><td>0</td><td>0</td><td>0</td><td>0</td><td>0</td><td>0</td><td>0</td><td>0</td><td>0</td><td>&hellip;</td><td>0</td><td>0</td><td>0</td><td>0</td><td>0</td><td>0</td><td>0</td><td>0</td><td>0</td><td>0</td><td>0</td><td>0</td><td>0</td><td>0</td><td>0</td><td>0</td><td>0</td><td>0</td><td>0</td><td>0</td><td>0</td><td>0</td><td>0</td><td>0</td><td>0</td><td>0</td><td>0</td><td>0</td><td>0</td><td>0</td><td>0</td><td>0</td><td>0</td><td>0</td><td>0</td><td>&quot;892a3029a33fff…</td><td>&quot;Boston, USA&quot;</td></tr><tr><td>0</td><td>0</td><td>0</td><td>0</td><td>0</td><td>0</td><td>0</td><td>0</td><td>0</td><td>0</td><td>0</td><td>0</td><td>0</td><td>0</td><td>0</td><td>0</td><td>0</td><td>0</td><td>0</td><td>0</td><td>0</td><td>0</td><td>0</td><td>0</td><td>0</td><td>0</td><td>0</td><td>0</td><td>0</td><td>0</td><td>0</td><td>0</td><td>0</td><td>0</td><td>0</td><td>0</td><td>0</td><td>&hellip;</td><td>0</td><td>0</td><td>0</td><td>0</td><td>0</td><td>0</td><td>0</td><td>0</td><td>0</td><td>0</td><td>0</td><td>0</td><td>0</td><td>0</td><td>0</td><td>0</td><td>0</td><td>0</td><td>0</td><td>0</td><td>0</td><td>0</td><td>0</td><td>0</td><td>0</td><td>0</td><td>0</td><td>0</td><td>0</td><td>0</td><td>0</td><td>0</td><td>0</td><td>0</td><td>0</td><td>&quot;892a3065c8ffff…</td><td>&quot;Boston, USA&quot;</td></tr><tr><td>0</td><td>0</td><td>0</td><td>0</td><td>0</td><td>0</td><td>0</td><td>0</td><td>0</td><td>0</td><td>0</td><td>0</td><td>0</td><td>0</td><td>0</td><td>0</td><td>0</td><td>0</td><td>0</td><td>0</td><td>0</td><td>0</td><td>0</td><td>0</td><td>0</td><td>0</td><td>0</td><td>0</td><td>0</td><td>0</td><td>0</td><td>0</td><td>0</td><td>0</td><td>0</td><td>0</td><td>0</td><td>&hellip;</td><td>0</td><td>0</td><td>0</td><td>0</td><td>0</td><td>0</td><td>0</td><td>0</td><td>0</td><td>0</td><td>0</td><td>0</td><td>0</td><td>0</td><td>0</td><td>0</td><td>0</td><td>0</td><td>0</td><td>0</td><td>0</td><td>0</td><td>0</td><td>0</td><td>0</td><td>0</td><td>0</td><td>0</td><td>0</td><td>0</td><td>0</td><td>0</td><td>0</td><td>0</td><td>0</td><td>&quot;892a302b077fff…</td><td>&quot;Boston, USA&quot;</td></tr><tr><td>0</td><td>0</td><td>0</td><td>0</td><td>0</td><td>0</td><td>0</td><td>0</td><td>0</td><td>0</td><td>0</td><td>0</td><td>0</td><td>0</td><td>0</td><td>0</td><td>0</td><td>0</td><td>0</td><td>0</td><td>0</td><td>0</td><td>0</td><td>0</td><td>0</td><td>0</td><td>0</td><td>0</td><td>0</td><td>0</td><td>0</td><td>0</td><td>1</td><td>0</td><td>0</td><td>0</td><td>0</td><td>&hellip;</td><td>0</td><td>0</td><td>0</td><td>0</td><td>0</td><td>0</td><td>0</td><td>0</td><td>0</td><td>0</td><td>0</td><td>0</td><td>0</td><td>0</td><td>0</td><td>0</td><td>0</td><td>0</td><td>0</td><td>0</td><td>0</td><td>0</td><td>0</td><td>0</td><td>0</td><td>0</td><td>0</td><td>0</td><td>0</td><td>0</td><td>0</td><td>0</td><td>0</td><td>0</td><td>0</td><td>&quot;892a3067227fff…</td><td>&quot;Boston, USA&quot;</td></tr><tr><td>0</td><td>0</td><td>0</td><td>0</td><td>0</td><td>0</td><td>0</td><td>0</td><td>0</td><td>0</td><td>0</td><td>0</td><td>0</td><td>0</td><td>0</td><td>0</td><td>0</td><td>0</td><td>0</td><td>0</td><td>0</td><td>0</td><td>0</td><td>0</td><td>0</td><td>0</td><td>0</td><td>0</td><td>0</td><td>0</td><td>0</td><td>0</td><td>0</td><td>0</td><td>0</td><td>0</td><td>0</td><td>&hellip;</td><td>0</td><td>0</td><td>0</td><td>0</td><td>0</td><td>0</td><td>0</td><td>0</td><td>0</td><td>0</td><td>0</td><td>0</td><td>0</td><td>0</td><td>0</td><td>0</td><td>0</td><td>0</td><td>3</td><td>0</td><td>0</td><td>0</td><td>0</td><td>0</td><td>0</td><td>0</td><td>0</td><td>0</td><td>0</td><td>0</td><td>0</td><td>0</td><td>0</td><td>0</td><td>0</td><td>&quot;892a339146ffff…</td><td>&quot;Boston, USA&quot;</td></tr></tbody></table></div>"
      ],
      "text/plain": [
       "shape: (5, 756)\n",
       "┌───────────┬───────────┬───────────┬───────────┬───┬───────────┬───────────┬───────────┬──────────┐\n",
       "│ amenity_b ┆ amenity_b ┆ amenity_c ┆ amenity_f ┆ … ┆ waterway_ ┆ waterway_ ┆ region_id ┆ city     │\n",
       "│ ar        ┆ iergarten ┆ afe       ┆ ast_food  ┆   ┆ water_poi ┆ fuel      ┆ ---       ┆ ---      │\n",
       "│ ---       ┆ ---       ┆ ---       ┆ ---       ┆   ┆ nt        ┆ ---       ┆ str       ┆ str      │\n",
       "│ i64       ┆ i64       ┆ i64       ┆ i64       ┆   ┆ ---       ┆ i64       ┆           ┆          │\n",
       "│           ┆           ┆           ┆           ┆   ┆ i64       ┆           ┆           ┆          │\n",
       "╞═══════════╪═══════════╪═══════════╪═══════════╪═══╪═══════════╪═══════════╪═══════════╪══════════╡\n",
       "│ 0         ┆ 0         ┆ 0         ┆ 0         ┆ … ┆ 0         ┆ 0         ┆ 892a3029a ┆ Boston,  │\n",
       "│           ┆           ┆           ┆           ┆   ┆           ┆           ┆ 33ffff    ┆ USA      │\n",
       "│ 0         ┆ 0         ┆ 0         ┆ 0         ┆ … ┆ 0         ┆ 0         ┆ 892a3065c ┆ Boston,  │\n",
       "│           ┆           ┆           ┆           ┆   ┆           ┆           ┆ 8fffff    ┆ USA      │\n",
       "│ 0         ┆ 0         ┆ 0         ┆ 0         ┆ … ┆ 0         ┆ 0         ┆ 892a302b0 ┆ Boston,  │\n",
       "│           ┆           ┆           ┆           ┆   ┆           ┆           ┆ 77ffff    ┆ USA      │\n",
       "│ 0         ┆ 0         ┆ 0         ┆ 0         ┆ … ┆ 0         ┆ 0         ┆ 892a30672 ┆ Boston,  │\n",
       "│           ┆           ┆           ┆           ┆   ┆           ┆           ┆ 27ffff    ┆ USA      │\n",
       "│ 0         ┆ 0         ┆ 0         ┆ 0         ┆ … ┆ 0         ┆ 0         ┆ 892a33914 ┆ Boston,  │\n",
       "│           ┆           ┆           ┆           ┆   ┆           ┆           ┆ 6fffff    ┆ USA      │\n",
       "└───────────┴───────────┴───────────┴───────────┴───┴───────────┴───────────┴───────────┴──────────┘"
      ]
     },
     "execution_count": 5,
     "metadata": {},
     "output_type": "execute_result"
    }
   ],
   "source": [
    "count_df_file = ROOT / \"data\" / \"geovex\" / \"count.parquet\"\n",
    "\n",
    "if not count_df_file.exists():\n",
    "    count_df_file.parent.mkdir(parents=True, exist_ok=True)\n",
    "\n",
    "    count_df = pl.concat(\n",
    "        pl.scan_parquet(city.count_file).with_columns(pl.lit(city.name).alias(\"city\"))\n",
    "        for city in config.Cities\n",
    "    ).collect()\n",
    "\n",
    "    count_df.write_parquet(\n",
    "        count_df_file,\n",
    "        compression=\"snappy\",\n",
    "    )\n",
    "else:\n",
    "    count_df = pl.read_parquet(count_df_file)\n",
    "\n",
    "count_df.head()"
   ]
  },
  {
   "cell_type": "markdown",
   "metadata": {},
   "source": [
    "### Clean the Dataset\n"
   ]
  },
  {
   "cell_type": "markdown",
   "metadata": {},
   "source": [
    "#### Drop Hexagons with No Building / Highway\n",
    "\n",
    "We do this b.c. we are only focused on hexagons that could have deliveries\n"
   ]
  },
  {
   "cell_type": "code",
   "execution_count": null,
   "metadata": {},
   "outputs": [],
   "source": [
    "keep_h3s = ring_buffer_h3_indexes(\n",
    "    count_df.filter(\n",
    "        (pl.sum_horizontal(pl.col(\"^building_.*$\")) > 0)\n",
    "        | (pl.sum_horizontal(pl.col(\"^highway_.*$\")) > 0),\n",
    "    )[\"region_id\"],\n",
    "    config.GeoVex.radius,\n",
    ")\n",
    "\n",
    "count_df = count_df.filter(pl.col(\"region_id\").is_in(keep_h3s))"
   ]
  },
  {
   "cell_type": "markdown",
   "metadata": {},
   "source": [
    "#### Drop Columns that Sum to Zero\n"
   ]
  },
  {
   "cell_type": "code",
   "execution_count": null,
   "metadata": {},
   "outputs": [],
   "source": [
    "# drop columns that sum to 0\n",
    "count_df = count_df.drop(\n",
    "    count_df.select([pl.col(target_tag_list).sum() <= 0])\n",
    "    .transpose(\n",
    "        include_header=True,\n",
    "        column_names=[\"drop\"],\n",
    "    )\n",
    "    .filter(pl.col(\"drop\"))[\"column\"]\n",
    ")\n",
    "\n",
    "target_tag_list = sorted(set(count_df.columns).intersection(set(target_tag_list)))"
   ]
  },
  {
   "cell_type": "code",
   "execution_count": null,
   "metadata": {},
   "outputs": [
    {
     "data": {
      "text/plain": [
       "681"
      ]
     },
     "execution_count": 8,
     "metadata": {},
     "output_type": "execute_result"
    }
   ],
   "source": [
    "len(target_tag_list)"
   ]
  },
  {
   "cell_type": "code",
   "execution_count": null,
   "metadata": {},
   "outputs": [],
   "source": [
    "# with open(ROOT / \"data\" / \"geovex\" / \"target_tags.txt\", \"w\") as f:\n",
    "#     f.write(\"\\n\".join(target_tag_list))"
   ]
  },
  {
   "cell_type": "markdown",
   "metadata": {},
   "source": [
    "## Create the Dataset\n"
   ]
  },
  {
   "cell_type": "markdown",
   "metadata": {},
   "source": [
    "### Make a Training and Validation Set\n",
    "\n",
    "Use 80/20 from each city\n"
   ]
  },
  {
   "cell_type": "code",
   "execution_count": null,
   "metadata": {},
   "outputs": [],
   "source": [
    "training_h3s = (\n",
    "    count_df.select([\"city\", \"region_id\"])\n",
    "    .group_by(\"city\")\n",
    "    .agg(pl.col(\"region_id\").sample(pl.count() * 0.9))\n",
    "    .explode(\"region_id\")\n",
    ")"
   ]
  },
  {
   "cell_type": "code",
   "execution_count": null,
   "metadata": {},
   "outputs": [],
   "source": [
    "test_h3s = count_df.select([\"city\", \"region_id\"]).filter(\n",
    "    ~pl.col(\"region_id\").is_in(training_h3s[\"region_id\"])\n",
    ")"
   ]
  },
  {
   "cell_type": "code",
   "execution_count": null,
   "metadata": {},
   "outputs": [
    {
     "name": "stderr",
     "output_type": "stream",
     "text": [
      "  0%|          | 0/35964 [00:00<?, ?it/s]"
     ]
    },
    {
     "name": "stderr",
     "output_type": "stream",
     "text": [
      "100%|██████████| 35964/35964 [00:17<00:00, 2080.37it/s]\n",
      "100%|██████████| 8994/8994 [00:04<00:00, 2008.14it/s]\n"
     ]
    }
   ],
   "source": [
    "from torch.utils.data import DataLoader\n",
    "from src.srai_patches.dataset import HexagonalDatasetPatch\n",
    "\n",
    "data_df = (\n",
    "    count_df.select(\n",
    "        target_tag_list\n",
    "        + [\n",
    "            \"region_id\",\n",
    "        ]\n",
    "    )\n",
    "    .to_pandas()\n",
    "    .set_index(\"region_id\")\n",
    ")\n",
    "\n",
    "train_dataset = HexagonalDatasetPatch(\n",
    "    target_indexes=training_h3s[\"region_id\"].to_list(),\n",
    "    data=data_df,\n",
    "    neighbourhood=H3Neighbourhood(),\n",
    "    neighbor_k_ring=config.GeoVex.radius,\n",
    ")\n",
    "\n",
    "test_dataset = HexagonalDatasetPatch(\n",
    "    target_indexes=test_h3s[\"region_id\"].to_list(),\n",
    "    data=data_df,\n",
    "    neighbourhood=H3Neighbourhood(),\n",
    "    neighbor_k_ring=config.GeoVex.radius,\n",
    ")"
   ]
  },
  {
   "cell_type": "code",
   "execution_count": null,
   "metadata": {},
   "outputs": [
    {
     "data": {
      "text/plain": [
       "0"
      ]
     },
     "execution_count": 13,
     "metadata": {},
     "output_type": "execute_result"
    }
   ],
   "source": [
    "len(\n",
    "    set(train_dataset.get_valid_cells()).intersection(\n",
    "        set(test_dataset.get_valid_cells())\n",
    "    )\n",
    ")"
   ]
  },
  {
   "cell_type": "code",
   "execution_count": null,
   "metadata": {},
   "outputs": [],
   "source": [
    "num_cpus = os.cpu_count()\n",
    "\n",
    "train_dataloader = DataLoader(\n",
    "    train_dataset,\n",
    "    batch_size=512,\n",
    "    shuffle=True,\n",
    "    num_workers=10,\n",
    "    pin_memory=True,\n",
    ")\n",
    "\n",
    "test_dataloader = DataLoader(\n",
    "    test_dataset,\n",
    "    batch_size=512,\n",
    "    shuffle=False,\n",
    "    num_workers=4,\n",
    "    persistent_workers=True,\n",
    "    pin_memory=True,\n",
    ")"
   ]
  },
  {
   "cell_type": "markdown",
   "metadata": {},
   "source": [
    "## Train the Model\n"
   ]
  },
  {
   "cell_type": "code",
   "execution_count": null,
   "metadata": {},
   "outputs": [],
   "source": [
    "model = GeoVexModel(\n",
    "    k_dim=data_df.shape[1],\n",
    "    radius=config.GeoVex.radius,\n",
    "    conv_layers=3,\n",
    "    emb_size=50,\n",
    "    learning_rate=0.00025,\n",
    ")"
   ]
  },
  {
   "cell_type": "code",
   "execution_count": null,
   "metadata": {},
   "outputs": [
    {
     "name": "stderr",
     "output_type": "stream",
     "text": [
      "Seed set to 42\n",
      "/usr/lib/python3/dist-packages/pkg_resources/__init__.py:116: PkgResourcesDeprecationWarning: 0.1.43ubuntu1 is an invalid version and will not be supported in a future release\n",
      "  warnings.warn(\n",
      "/usr/lib/python3/dist-packages/pkg_resources/__init__.py:116: PkgResourcesDeprecationWarning: 1.1build1 is an invalid version and will not be supported in a future release\n",
      "  warnings.warn(\n",
      "GPU available: True (cuda), used: True\n",
      "TPU available: False, using: 0 TPU cores\n",
      "IPU available: False, using: 0 IPUs\n",
      "HPU available: False, using: 0 HPUs\n"
     ]
    }
   ],
   "source": [
    "import os\n",
    "import torch\n",
    "import wandb\n",
    "from pytorch_lightning.loggers.wandb import WandbLogger\n",
    "import pytorch_lightning as pl_lightning\n",
    "from pytorch_lightning.callbacks import LambdaCallback, ModelCheckpoint\n",
    "from pytorch_lightning import seed_everything\n",
    "\n",
    "seed_everything(42)\n",
    "\n",
    "# this is required for some reason to get the data to save correctly\n",
    "wandb.finish()\n",
    "\n",
    "epochs = 100\n",
    "\n",
    "os.environ[\"WANDB_NOTEBOOK_NAME\"] = \"cluster-word2vec.ipynb\"\n",
    "\n",
    "logger = WandbLogger(\n",
    "    project=\"GeoVex\",\n",
    "    log_model=\"all\",\n",
    ")\n",
    "\n",
    "checkpoint_callback = ModelCheckpoint(\n",
    "    monitor=\"train_loss\",\n",
    "    mode=\"min\",\n",
    ")\n",
    "\n",
    "trainer = pl_lightning.Trainer(\n",
    "    accelerator=\"cuda\" if torch.cuda.is_available() else \"cpu\",\n",
    "    max_epochs=epochs,\n",
    "    logger=logger,\n",
    "    callbacks=[checkpoint_callback],\n",
    "    log_every_n_steps=20,\n",
    ")"
   ]
  },
  {
   "cell_type": "markdown",
   "metadata": {},
   "source": [
    "### Train\n"
   ]
  },
  {
   "cell_type": "code",
   "execution_count": null,
   "metadata": {},
   "outputs": [
    {
     "name": "stderr",
     "output_type": "stream",
     "text": [
      "You are using a CUDA device ('NVIDIA A100-SXM4-40GB') that has Tensor Cores. To properly utilize them, you should set `torch.set_float32_matmul_precision('medium' | 'high')` which will trade-off precision for performance. For more details, read https://pytorch.org/docs/stable/generated/torch.set_float32_matmul_precision.html#torch.set_float32_matmul_precision\n",
      "\u001b[34m\u001b[1mwandb\u001b[0m: \u001b[33mWARNING\u001b[0m WANDB_NOTEBOOK_NAME should be a path to a notebook file, couldn't find cluster-word2vec.ipynb.\n",
      "\u001b[34m\u001b[1mwandb\u001b[0m: Currently logged in as: \u001b[33m_max_\u001b[0m (\u001b[33mgreen-last-mile\u001b[0m). Use \u001b[1m`wandb login --relogin`\u001b[0m to force relogin\n"
     ]
    },
    {
     "data": {
      "text/html": [
       "Tracking run with wandb version 0.16.1"
      ],
      "text/plain": [
       "<IPython.core.display.HTML object>"
      ]
     },
     "metadata": {},
     "output_type": "display_data"
    },
    {
     "data": {
      "text/html": [
       "Run data is saved locally in <code>./wandb/run-20240105_030315-eikqiwy3</code>"
      ],
      "text/plain": [
       "<IPython.core.display.HTML object>"
      ]
     },
     "metadata": {},
     "output_type": "display_data"
    },
    {
     "data": {
      "text/html": [
       "Syncing run <strong><a href='https://wandb.ai/green-last-mile/GeoVex/runs/eikqiwy3' target=\"_blank\">playful-lake-103</a></strong> to <a href='https://wandb.ai/green-last-mile/GeoVex' target=\"_blank\">Weights & Biases</a> (<a href='https://wandb.me/run' target=\"_blank\">docs</a>)<br/>"
      ],
      "text/plain": [
       "<IPython.core.display.HTML object>"
      ]
     },
     "metadata": {},
     "output_type": "display_data"
    },
    {
     "data": {
      "text/html": [
       " View project at <a href='https://wandb.ai/green-last-mile/GeoVex' target=\"_blank\">https://wandb.ai/green-last-mile/GeoVex</a>"
      ],
      "text/plain": [
       "<IPython.core.display.HTML object>"
      ]
     },
     "metadata": {},
     "output_type": "display_data"
    },
    {
     "data": {
      "text/html": [
       " View run at <a href='https://wandb.ai/green-last-mile/GeoVex/runs/eikqiwy3' target=\"_blank\">https://wandb.ai/green-last-mile/GeoVex/runs/eikqiwy3</a>"
      ],
      "text/plain": [
       "<IPython.core.display.HTML object>"
      ]
     },
     "metadata": {},
     "output_type": "display_data"
    },
    {
     "name": "stderr",
     "output_type": "stream",
     "text": [
      "LOCAL_RANK: 0 - CUDA_VISIBLE_DEVICES: [0]\n",
      "\n",
      "  | Name    | Type       | Params\n",
      "---------------------------------------\n",
      "0 | encoder | Sequential | 4.4 M \n",
      "1 | decoder | Sequential | 3.2 M \n",
      "2 | _loss   | GeoVeXLoss | 0     \n",
      "---------------------------------------\n",
      "7.6 M     Trainable params\n",
      "0         Non-trainable params\n",
      "7.6 M     Total params\n",
      "30.370    Total estimated model params size (MB)\n"
     ]
    },
    {
     "name": "stdout",
     "output_type": "stream",
     "text": [
      "Epoch 31:   0%|          | 0/24 [00:00<?, ?it/s, v_num=iwy3]               "
     ]
    },
    {
     "name": "stderr",
     "output_type": "stream",
     "text": [
      "/home/shadeform/.local/lib/python3.10/site-packages/pytorch_lightning/trainer/call.py:54: Detected KeyboardInterrupt, attempting graceful shutdown...\n"
     ]
    },
    {
     "data": {
      "text/html": [
       "<style>\n",
       "    table.wandb td:nth-child(1) { padding: 0 10px; text-align: left ; width: auto;} td:nth-child(2) {text-align: left ; width: 100%}\n",
       "    .wandb-row { display: flex; flex-direction: row; flex-wrap: wrap; justify-content: flex-start; width: 100% }\n",
       "    .wandb-col { display: flex; flex-direction: column; flex-basis: 100%; flex: 1; padding: 10px; }\n",
       "    </style>\n",
       "<div class=\"wandb-row\"><div class=\"wandb-col\"><h3>Run history:</h3><br/><table class=\"wandb\"><tr><td>epoch</td><td>▁▁▁▁▂▂▂▂▂▃▃▃▃▃▄▄▄▄▄▄▅▅▅▅▅▅▆▆▆▆▆▇▇▇▇▇████</td></tr><tr><td>train_loss_epoch</td><td>█▅▄▃▂▂▂▂▂▁▁▁▁▁▁▁▁▁▁▁▁▁▁▁▁▁▁▁▁▁▁</td></tr><tr><td>train_loss_step</td><td>█▇▆▅▄▁▃▃▃▃▃▁▃▃▃▃▃▁▃▃▃▃▃▁▃▃▃▃▃▁▃▃▃▂▂▁▂</td></tr><tr><td>trainer/global_step</td><td>▁▁▁▁▁▂▂▂▂▂▃▂▂▂▄▂▂▃▃▄▃▃▃▃▅▃▃▃▄▆▄▄▄▇▄▄▄▄█▅</td></tr><tr><td>validation_loss_epoch</td><td>█▅▄▃▂▂▂▁▁▁▁▁▁▁▁▁▁▁▁▁▁▁▁▁▁▁▁▁▁▁▁</td></tr><tr><td>validation_loss_step</td><td>█▆▃▃▃▂▂▂▂▂▂▁▁▂▂▁▁▁▁▁▁▁▁▁▁▁▁▁▁▁▁▁▂▂▁▁▁▁▁▁</td></tr></table><br/></div><div class=\"wandb-col\"><h3>Run summary:</h3><br/><table class=\"wandb\"><tr><td>epoch</td><td>30</td></tr><tr><td>train_loss_epoch</td><td>1204.00598</td></tr><tr><td>train_loss_step</td><td>1187.60461</td></tr><tr><td>trainer/global_step</td><td>743</td></tr><tr><td>validation_loss_epoch</td><td>709.26624</td></tr><tr><td>validation_loss_step</td><td>620.57349</td></tr></table><br/></div></div>"
      ],
      "text/plain": [
       "<IPython.core.display.HTML object>"
      ]
     },
     "metadata": {},
     "output_type": "display_data"
    },
    {
     "data": {
      "text/html": [
       " View run <strong style=\"color:#cdcd00\">playful-lake-103</strong> at: <a href='https://wandb.ai/green-last-mile/GeoVex/runs/eikqiwy3' target=\"_blank\">https://wandb.ai/green-last-mile/GeoVex/runs/eikqiwy3</a><br/>Synced 5 W&B file(s), 0 media file(s), 29 artifact file(s) and 0 other file(s)"
      ],
      "text/plain": [
       "<IPython.core.display.HTML object>"
      ]
     },
     "metadata": {},
     "output_type": "display_data"
    },
    {
     "data": {
      "text/html": [
       "Find logs at: <code>./wandb/run-20240105_030315-eikqiwy3/logs</code>"
      ],
      "text/plain": [
       "<IPython.core.display.HTML object>"
      ]
     },
     "metadata": {},
     "output_type": "display_data"
    },
    {
     "ename": "NameError",
     "evalue": "name 'train_df' is not defined",
     "output_type": "error",
     "traceback": [
      "\u001b[0;31m---------------------------------------------------------------------------\u001b[0m",
      "\u001b[0;31mNameError\u001b[0m                                 Traceback (most recent call last)",
      "Cell \u001b[0;32mIn[18], line 7\u001b[0m\n\u001b[1;32m      3\u001b[0m logger\u001b[38;5;241m.\u001b[39mexperiment\u001b[38;5;241m.\u001b[39mfinish()\n\u001b[1;32m      5\u001b[0m run \u001b[38;5;241m=\u001b[39m logger\u001b[38;5;241m.\u001b[39mexperiment\n\u001b[0;32m----> 7\u001b[0m \u001b[43mtrain_df\u001b[49m\u001b[38;5;241m.\u001b[39mcolumns\u001b[38;5;241m.\u001b[39mto_series(name\u001b[38;5;241m=\u001b[39m\u001b[38;5;124m\"\u001b[39m\u001b[38;5;124mcolumn\u001b[39m\u001b[38;5;124m\"\u001b[39m)\u001b[38;5;241m.\u001b[39mto_csv(\n\u001b[1;32m      8\u001b[0m     Path(run\u001b[38;5;241m.\u001b[39mdir) \u001b[38;5;241m/\u001b[39m \u001b[38;5;124m\"\u001b[39m\u001b[38;5;124mcolumns.csv\u001b[39m\u001b[38;5;124m\"\u001b[39m, index\u001b[38;5;241m=\u001b[39m\u001b[38;5;28;01mFalse\u001b[39;00m\n\u001b[1;32m      9\u001b[0m )\n",
      "\u001b[0;31mNameError\u001b[0m: name 'train_df' is not defined"
     ]
    }
   ],
   "source": [
    "trainer.fit(model, train_dataloaders=train_dataloader, val_dataloaders=test_dataloader)\n",
    "\n",
    "logger.experiment.finish()\n",
    "\n",
    "run = logger.experiment\n"
   ]
  },
  {
   "cell_type": "markdown",
   "metadata": {},
   "source": [
    "## Create the Embeddings\n"
   ]
  },
  {
   "cell_type": "code",
   "execution_count": 20,
   "metadata": {},
   "outputs": [
    {
     "name": "stderr",
     "output_type": "stream",
     "text": [
      "100%|██████████| 44958/44958 [00:23<00:00, 1917.49it/s]\n"
     ]
    }
   ],
   "source": [
    "import pandas as pd\n",
    "import numpy as np\n",
    "from srai.constants import REGIONS_INDEX\n",
    "\n",
    "data_df = (\n",
    "    count_df.select(\n",
    "        target_tag_list\n",
    "        + [\n",
    "            \"region_id\",\n",
    "        ]\n",
    "    )\n",
    "    .to_pandas()\n",
    "    .set_index(\"region_id\")\n",
    ")\n",
    "\n",
    "dataset = HexagonalDataset(\n",
    "    # target_indexes=training_h3s[\"region_id\"].to_list(),\n",
    "    data=data_df,\n",
    "    neighbourhood=H3Neighbourhood(),\n",
    "    neighbor_k_ring=config.GeoVex.radius,\n",
    ")\n",
    "\n",
    "dataloader = DataLoader(dataset, batch_size=1024, shuffle=False, num_workers=10)\n",
    "\n",
    "\n",
    "embeddings = [\n",
    "    model.cuda().encoder(batch.cuda()).cpu().detach().numpy() for batch in dataloader  # type: ignore\n",
    "]\n",
    "\n",
    "df = pd.DataFrame(np.concatenate(embeddings), index=dataset.get_valid_cells())\n",
    "df.index.name = REGIONS_INDEX\n",
    "\n",
    "df.to_parquet(Path(run.dir) / \"embeddings.parquet\", compression=\"snappy\")"
   ]
  },
  {
   "cell_type": "code",
   "execution_count": 21,
   "metadata": {},
   "outputs": [
    {
     "data": {
      "text/plain": [
       "PosixPath('/home/shadeform/geovex/wandb/run-20240105_030315-eikqiwy3/files/embeddings.parquet')"
      ]
     },
     "execution_count": 21,
     "metadata": {},
     "output_type": "execute_result"
    }
   ],
   "source": [
    "(Path(run.dir) / \"embeddings.parquet\").absolute()"
   ]
  },
  {
   "cell_type": "code",
   "execution_count": 22,
   "metadata": {},
   "outputs": [
    {
     "data": {
      "text/html": [
       "<div>\n",
       "<style scoped>\n",
       "    .dataframe tbody tr th:only-of-type {\n",
       "        vertical-align: middle;\n",
       "    }\n",
       "\n",
       "    .dataframe tbody tr th {\n",
       "        vertical-align: top;\n",
       "    }\n",
       "\n",
       "    .dataframe thead th {\n",
       "        text-align: right;\n",
       "    }\n",
       "</style>\n",
       "<table border=\"1\" class=\"dataframe\">\n",
       "  <thead>\n",
       "    <tr style=\"text-align: right;\">\n",
       "      <th></th>\n",
       "      <th>0</th>\n",
       "      <th>1</th>\n",
       "      <th>2</th>\n",
       "      <th>3</th>\n",
       "      <th>4</th>\n",
       "      <th>5</th>\n",
       "      <th>6</th>\n",
       "      <th>7</th>\n",
       "      <th>8</th>\n",
       "      <th>9</th>\n",
       "      <th>...</th>\n",
       "      <th>40</th>\n",
       "      <th>41</th>\n",
       "      <th>42</th>\n",
       "      <th>43</th>\n",
       "      <th>44</th>\n",
       "      <th>45</th>\n",
       "      <th>46</th>\n",
       "      <th>47</th>\n",
       "      <th>48</th>\n",
       "      <th>49</th>\n",
       "    </tr>\n",
       "    <tr>\n",
       "      <th>region_id</th>\n",
       "      <th></th>\n",
       "      <th></th>\n",
       "      <th></th>\n",
       "      <th></th>\n",
       "      <th></th>\n",
       "      <th></th>\n",
       "      <th></th>\n",
       "      <th></th>\n",
       "      <th></th>\n",
       "      <th></th>\n",
       "      <th></th>\n",
       "      <th></th>\n",
       "      <th></th>\n",
       "      <th></th>\n",
       "      <th></th>\n",
       "      <th></th>\n",
       "      <th></th>\n",
       "      <th></th>\n",
       "      <th></th>\n",
       "      <th></th>\n",
       "      <th></th>\n",
       "    </tr>\n",
       "  </thead>\n",
       "  <tbody>\n",
       "    <tr>\n",
       "      <th>892a339a5afffff</th>\n",
       "      <td>3.008468</td>\n",
       "      <td>-6.218636</td>\n",
       "      <td>3.167253</td>\n",
       "      <td>-5.345560</td>\n",
       "      <td>3.089679</td>\n",
       "      <td>3.361192</td>\n",
       "      <td>2.645655</td>\n",
       "      <td>2.246335</td>\n",
       "      <td>0.023625</td>\n",
       "      <td>-1.522305</td>\n",
       "      <td>...</td>\n",
       "      <td>1.425137</td>\n",
       "      <td>4.334805</td>\n",
       "      <td>-4.044781</td>\n",
       "      <td>5.130377</td>\n",
       "      <td>2.705628</td>\n",
       "      <td>2.517802</td>\n",
       "      <td>-2.352568</td>\n",
       "      <td>1.447540</td>\n",
       "      <td>1.181890</td>\n",
       "      <td>-1.838629</td>\n",
       "    </tr>\n",
       "    <tr>\n",
       "      <th>892a3066a3bffff</th>\n",
       "      <td>2.900576</td>\n",
       "      <td>-4.953621</td>\n",
       "      <td>3.015917</td>\n",
       "      <td>-4.052948</td>\n",
       "      <td>2.526266</td>\n",
       "      <td>3.191200</td>\n",
       "      <td>2.278576</td>\n",
       "      <td>2.370381</td>\n",
       "      <td>-0.537876</td>\n",
       "      <td>-2.665453</td>\n",
       "      <td>...</td>\n",
       "      <td>0.971319</td>\n",
       "      <td>3.058970</td>\n",
       "      <td>-2.264176</td>\n",
       "      <td>4.277760</td>\n",
       "      <td>3.836319</td>\n",
       "      <td>2.361648</td>\n",
       "      <td>-2.357554</td>\n",
       "      <td>1.643557</td>\n",
       "      <td>1.242620</td>\n",
       "      <td>-1.947126</td>\n",
       "    </tr>\n",
       "    <tr>\n",
       "      <th>892a3066e17ffff</th>\n",
       "      <td>2.991765</td>\n",
       "      <td>-2.458879</td>\n",
       "      <td>1.748562</td>\n",
       "      <td>-2.870414</td>\n",
       "      <td>2.229912</td>\n",
       "      <td>4.270313</td>\n",
       "      <td>1.785876</td>\n",
       "      <td>4.174863</td>\n",
       "      <td>0.445850</td>\n",
       "      <td>-2.045090</td>\n",
       "      <td>...</td>\n",
       "      <td>-0.635486</td>\n",
       "      <td>3.441358</td>\n",
       "      <td>-0.276245</td>\n",
       "      <td>5.267743</td>\n",
       "      <td>1.940237</td>\n",
       "      <td>2.692774</td>\n",
       "      <td>-4.197291</td>\n",
       "      <td>2.992770</td>\n",
       "      <td>1.639096</td>\n",
       "      <td>-2.677036</td>\n",
       "    </tr>\n",
       "    <tr>\n",
       "      <th>892a3066b3bffff</th>\n",
       "      <td>2.417068</td>\n",
       "      <td>-5.508893</td>\n",
       "      <td>3.040622</td>\n",
       "      <td>-5.061748</td>\n",
       "      <td>2.756283</td>\n",
       "      <td>3.416097</td>\n",
       "      <td>2.153312</td>\n",
       "      <td>2.535958</td>\n",
       "      <td>-1.060595</td>\n",
       "      <td>-2.335514</td>\n",
       "      <td>...</td>\n",
       "      <td>0.369993</td>\n",
       "      <td>3.726042</td>\n",
       "      <td>-3.271048</td>\n",
       "      <td>4.367739</td>\n",
       "      <td>2.900891</td>\n",
       "      <td>2.333595</td>\n",
       "      <td>-2.681242</td>\n",
       "      <td>1.544899</td>\n",
       "      <td>1.432062</td>\n",
       "      <td>-2.209439</td>\n",
       "    </tr>\n",
       "    <tr>\n",
       "      <th>892a3066803ffff</th>\n",
       "      <td>2.756579</td>\n",
       "      <td>-5.839027</td>\n",
       "      <td>3.565192</td>\n",
       "      <td>-4.292718</td>\n",
       "      <td>1.611142</td>\n",
       "      <td>2.920071</td>\n",
       "      <td>1.804465</td>\n",
       "      <td>2.554294</td>\n",
       "      <td>0.637014</td>\n",
       "      <td>-2.318934</td>\n",
       "      <td>...</td>\n",
       "      <td>-0.468880</td>\n",
       "      <td>2.927581</td>\n",
       "      <td>-3.488756</td>\n",
       "      <td>3.423624</td>\n",
       "      <td>3.688035</td>\n",
       "      <td>3.346052</td>\n",
       "      <td>-2.700709</td>\n",
       "      <td>2.142959</td>\n",
       "      <td>0.231324</td>\n",
       "      <td>-2.851169</td>\n",
       "    </tr>\n",
       "    <tr>\n",
       "      <th>...</th>\n",
       "      <td>...</td>\n",
       "      <td>...</td>\n",
       "      <td>...</td>\n",
       "      <td>...</td>\n",
       "      <td>...</td>\n",
       "      <td>...</td>\n",
       "      <td>...</td>\n",
       "      <td>...</td>\n",
       "      <td>...</td>\n",
       "      <td>...</td>\n",
       "      <td>...</td>\n",
       "      <td>...</td>\n",
       "      <td>...</td>\n",
       "      <td>...</td>\n",
       "      <td>...</td>\n",
       "      <td>...</td>\n",
       "      <td>...</td>\n",
       "      <td>...</td>\n",
       "      <td>...</td>\n",
       "      <td>...</td>\n",
       "      <td>...</td>\n",
       "    </tr>\n",
       "    <tr>\n",
       "      <th>891fa44f4dbffff</th>\n",
       "      <td>3.660157</td>\n",
       "      <td>-5.766229</td>\n",
       "      <td>4.152099</td>\n",
       "      <td>-4.521164</td>\n",
       "      <td>3.523320</td>\n",
       "      <td>3.920768</td>\n",
       "      <td>2.894046</td>\n",
       "      <td>3.104259</td>\n",
       "      <td>-0.515101</td>\n",
       "      <td>-2.005774</td>\n",
       "      <td>...</td>\n",
       "      <td>-0.998065</td>\n",
       "      <td>4.350251</td>\n",
       "      <td>-3.790802</td>\n",
       "      <td>5.185569</td>\n",
       "      <td>4.034209</td>\n",
       "      <td>2.810549</td>\n",
       "      <td>-4.024291</td>\n",
       "      <td>1.962791</td>\n",
       "      <td>2.781991</td>\n",
       "      <td>-3.060663</td>\n",
       "    </tr>\n",
       "    <tr>\n",
       "      <th>891fa44060fffff</th>\n",
       "      <td>3.268006</td>\n",
       "      <td>-7.045927</td>\n",
       "      <td>3.990751</td>\n",
       "      <td>-5.940444</td>\n",
       "      <td>3.630116</td>\n",
       "      <td>3.836294</td>\n",
       "      <td>2.456876</td>\n",
       "      <td>3.495233</td>\n",
       "      <td>0.979446</td>\n",
       "      <td>-3.369663</td>\n",
       "      <td>...</td>\n",
       "      <td>0.737899</td>\n",
       "      <td>4.782680</td>\n",
       "      <td>-3.238692</td>\n",
       "      <td>4.672012</td>\n",
       "      <td>4.390110</td>\n",
       "      <td>3.258547</td>\n",
       "      <td>-3.119345</td>\n",
       "      <td>2.163912</td>\n",
       "      <td>0.260689</td>\n",
       "      <td>-2.559783</td>\n",
       "    </tr>\n",
       "    <tr>\n",
       "      <th>891fa441b9bffff</th>\n",
       "      <td>4.165100</td>\n",
       "      <td>-2.054721</td>\n",
       "      <td>1.722967</td>\n",
       "      <td>-0.608840</td>\n",
       "      <td>0.866216</td>\n",
       "      <td>3.124492</td>\n",
       "      <td>2.584760</td>\n",
       "      <td>2.581094</td>\n",
       "      <td>-0.235117</td>\n",
       "      <td>-3.362831</td>\n",
       "      <td>...</td>\n",
       "      <td>-0.948807</td>\n",
       "      <td>2.340863</td>\n",
       "      <td>0.015737</td>\n",
       "      <td>3.443399</td>\n",
       "      <td>4.500319</td>\n",
       "      <td>1.508626</td>\n",
       "      <td>-3.178720</td>\n",
       "      <td>2.718611</td>\n",
       "      <td>2.039006</td>\n",
       "      <td>-2.696587</td>\n",
       "    </tr>\n",
       "    <tr>\n",
       "      <th>891fa44132bffff</th>\n",
       "      <td>3.740758</td>\n",
       "      <td>-7.189814</td>\n",
       "      <td>4.837850</td>\n",
       "      <td>-5.300707</td>\n",
       "      <td>3.635916</td>\n",
       "      <td>4.088098</td>\n",
       "      <td>3.360220</td>\n",
       "      <td>3.410287</td>\n",
       "      <td>-0.789150</td>\n",
       "      <td>-2.721387</td>\n",
       "      <td>...</td>\n",
       "      <td>-0.506147</td>\n",
       "      <td>4.954031</td>\n",
       "      <td>-3.513622</td>\n",
       "      <td>4.514133</td>\n",
       "      <td>5.313316</td>\n",
       "      <td>3.499679</td>\n",
       "      <td>-3.141948</td>\n",
       "      <td>1.884048</td>\n",
       "      <td>1.825194</td>\n",
       "      <td>-3.362174</td>\n",
       "    </tr>\n",
       "    <tr>\n",
       "      <th>891fa44f3cfffff</th>\n",
       "      <td>3.273277</td>\n",
       "      <td>-9.209196</td>\n",
       "      <td>4.006895</td>\n",
       "      <td>-7.832621</td>\n",
       "      <td>3.553892</td>\n",
       "      <td>3.182891</td>\n",
       "      <td>2.914490</td>\n",
       "      <td>2.456491</td>\n",
       "      <td>1.893953</td>\n",
       "      <td>-1.734940</td>\n",
       "      <td>...</td>\n",
       "      <td>2.296448</td>\n",
       "      <td>4.625421</td>\n",
       "      <td>-4.594751</td>\n",
       "      <td>5.658513</td>\n",
       "      <td>3.886262</td>\n",
       "      <td>2.214043</td>\n",
       "      <td>-2.906699</td>\n",
       "      <td>1.585125</td>\n",
       "      <td>-0.048380</td>\n",
       "      <td>-2.369428</td>\n",
       "    </tr>\n",
       "  </tbody>\n",
       "</table>\n",
       "<p>29535 rows × 50 columns</p>\n",
       "</div>"
      ],
      "text/plain": [
       "                       0         1         2         3         4         5   \\\n",
       "region_id                                                                     \n",
       "892a339a5afffff  3.008468 -6.218636  3.167253 -5.345560  3.089679  3.361192   \n",
       "892a3066a3bffff  2.900576 -4.953621  3.015917 -4.052948  2.526266  3.191200   \n",
       "892a3066e17ffff  2.991765 -2.458879  1.748562 -2.870414  2.229912  4.270313   \n",
       "892a3066b3bffff  2.417068 -5.508893  3.040622 -5.061748  2.756283  3.416097   \n",
       "892a3066803ffff  2.756579 -5.839027  3.565192 -4.292718  1.611142  2.920071   \n",
       "...                   ...       ...       ...       ...       ...       ...   \n",
       "891fa44f4dbffff  3.660157 -5.766229  4.152099 -4.521164  3.523320  3.920768   \n",
       "891fa44060fffff  3.268006 -7.045927  3.990751 -5.940444  3.630116  3.836294   \n",
       "891fa441b9bffff  4.165100 -2.054721  1.722967 -0.608840  0.866216  3.124492   \n",
       "891fa44132bffff  3.740758 -7.189814  4.837850 -5.300707  3.635916  4.088098   \n",
       "891fa44f3cfffff  3.273277 -9.209196  4.006895 -7.832621  3.553892  3.182891   \n",
       "\n",
       "                       6         7         8         9   ...        40  \\\n",
       "region_id                                                ...             \n",
       "892a339a5afffff  2.645655  2.246335  0.023625 -1.522305  ...  1.425137   \n",
       "892a3066a3bffff  2.278576  2.370381 -0.537876 -2.665453  ...  0.971319   \n",
       "892a3066e17ffff  1.785876  4.174863  0.445850 -2.045090  ... -0.635486   \n",
       "892a3066b3bffff  2.153312  2.535958 -1.060595 -2.335514  ...  0.369993   \n",
       "892a3066803ffff  1.804465  2.554294  0.637014 -2.318934  ... -0.468880   \n",
       "...                   ...       ...       ...       ...  ...       ...   \n",
       "891fa44f4dbffff  2.894046  3.104259 -0.515101 -2.005774  ... -0.998065   \n",
       "891fa44060fffff  2.456876  3.495233  0.979446 -3.369663  ...  0.737899   \n",
       "891fa441b9bffff  2.584760  2.581094 -0.235117 -3.362831  ... -0.948807   \n",
       "891fa44132bffff  3.360220  3.410287 -0.789150 -2.721387  ... -0.506147   \n",
       "891fa44f3cfffff  2.914490  2.456491  1.893953 -1.734940  ...  2.296448   \n",
       "\n",
       "                       41        42        43        44        45        46  \\\n",
       "region_id                                                                     \n",
       "892a339a5afffff  4.334805 -4.044781  5.130377  2.705628  2.517802 -2.352568   \n",
       "892a3066a3bffff  3.058970 -2.264176  4.277760  3.836319  2.361648 -2.357554   \n",
       "892a3066e17ffff  3.441358 -0.276245  5.267743  1.940237  2.692774 -4.197291   \n",
       "892a3066b3bffff  3.726042 -3.271048  4.367739  2.900891  2.333595 -2.681242   \n",
       "892a3066803ffff  2.927581 -3.488756  3.423624  3.688035  3.346052 -2.700709   \n",
       "...                   ...       ...       ...       ...       ...       ...   \n",
       "891fa44f4dbffff  4.350251 -3.790802  5.185569  4.034209  2.810549 -4.024291   \n",
       "891fa44060fffff  4.782680 -3.238692  4.672012  4.390110  3.258547 -3.119345   \n",
       "891fa441b9bffff  2.340863  0.015737  3.443399  4.500319  1.508626 -3.178720   \n",
       "891fa44132bffff  4.954031 -3.513622  4.514133  5.313316  3.499679 -3.141948   \n",
       "891fa44f3cfffff  4.625421 -4.594751  5.658513  3.886262  2.214043 -2.906699   \n",
       "\n",
       "                       47        48        49  \n",
       "region_id                                      \n",
       "892a339a5afffff  1.447540  1.181890 -1.838629  \n",
       "892a3066a3bffff  1.643557  1.242620 -1.947126  \n",
       "892a3066e17ffff  2.992770  1.639096 -2.677036  \n",
       "892a3066b3bffff  1.544899  1.432062 -2.209439  \n",
       "892a3066803ffff  2.142959  0.231324 -2.851169  \n",
       "...                   ...       ...       ...  \n",
       "891fa44f4dbffff  1.962791  2.781991 -3.060663  \n",
       "891fa44060fffff  2.163912  0.260689 -2.559783  \n",
       "891fa441b9bffff  2.718611  2.039006 -2.696587  \n",
       "891fa44132bffff  1.884048  1.825194 -3.362174  \n",
       "891fa44f3cfffff  1.585125 -0.048380 -2.369428  \n",
       "\n",
       "[29535 rows x 50 columns]"
      ]
     },
     "execution_count": 22,
     "metadata": {},
     "output_type": "execute_result"
    }
   ],
   "source": [
    "df"
   ]
  }
 ],
 "metadata": {
  "kernelspec": {
   "display_name": "cargo-bike-analysis",
   "language": "python",
   "name": "python3"
  },
  "language_info": {
   "codemirror_mode": {
    "name": "ipython",
    "version": 3
   },
   "file_extension": ".py",
   "mimetype": "text/x-python",
   "name": "python",
   "nbconvert_exporter": "python",
   "pygments_lexer": "ipython3",
   "version": "3.9.10"
  }
 },
 "nbformat": 4,
 "nbformat_minor": 2
}
