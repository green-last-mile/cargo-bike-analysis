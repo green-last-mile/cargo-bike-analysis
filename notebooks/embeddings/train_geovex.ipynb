{
 "cells": [
  {
   "cell_type": "code",
   "execution_count": 1,
   "metadata": {},
   "outputs": [],
   "source": [
    "%load_ext autoreload\n",
    "%autoreload 2"
   ]
  },
  {
   "cell_type": "markdown",
   "metadata": {},
   "source": [
    "# Training GeoVex model\n"
   ]
  },
  {
   "cell_type": "code",
   "execution_count": 1,
   "metadata": {},
   "outputs": [
    {
     "name": "stderr",
     "output_type": "stream",
     "text": [
      "/Users/max/.pyenv/versions/3.9.10/envs/cargo-bike-analysis/lib/python3.9/site-packages/tqdm/auto.py:21: TqdmWarning: IProgress not found. Please update jupyter and ipywidgets. See https://ipywidgets.readthedocs.io/en/stable/user_install.html\n",
      "  from .autonotebook import tqdm as notebook_tqdm\n"
     ]
    }
   ],
   "source": [
    "import os\n",
    "import sys\n",
    "from pathlib import Path\n",
    "\n",
    "# add the\n",
    "ROOT = Path(os.getcwd())\n",
    "while not (ROOT / \".git\").exists():\n",
    "    ROOT = ROOT.parent\n",
    "\n",
    "sys.path.append(str(ROOT))\n",
    "\n",
    "from src.config import CargoBikeConfig, load_config\n",
    "from src.osm_tags import build_tag_filter\n",
    "\n",
    "\n",
    "import polars as pl\n",
    "from h3ronpy.polars import grid_disk\n",
    "from srai.h3 import ring_buffer_h3_indexes\n",
    "from srai.neighbourhoods.h3_neighbourhood import H3Neighbourhood\n",
    "from srai.embedders.geovex.model import GeoVexModel\n",
    "from srai.embedders.geovex.dataset import HexagonalDataset"
   ]
  },
  {
   "cell_type": "markdown",
   "metadata": {},
   "source": [
    "## Load Config\n"
   ]
  },
  {
   "cell_type": "code",
   "execution_count": 3,
   "metadata": {},
   "outputs": [],
   "source": [
    "config = load_config(ROOT / \"config\" / \"paper.yaml\")\n",
    "\n",
    "target_tags = build_tag_filter(config)\n",
    "target_tag_list = [f\"{t}_{st}\" for t, sts in target_tags.items() for st in sts]"
   ]
  },
  {
   "cell_type": "markdown",
   "metadata": {},
   "source": [
    "## Load the Tag Data\n"
   ]
  },
  {
   "cell_type": "code",
   "execution_count": 4,
   "metadata": {},
   "outputs": [
    {
     "data": {
      "text/html": [
       "<div><style>\n",
       ".dataframe > thead > tr > th,\n",
       ".dataframe > tbody > tr > td {\n",
       "  text-align: right;\n",
       "  white-space: pre-wrap;\n",
       "}\n",
       "</style>\n",
       "<small>shape: (5, 756)</small><table border=\"1\" class=\"dataframe\"><thead><tr><th>amenity_bar</th><th>amenity_biergarten</th><th>amenity_cafe</th><th>amenity_fast_food</th><th>amenity_food_court</th><th>amenity_ice_cream</th><th>amenity_pub</th><th>amenity_restaurant</th><th>amenity_college</th><th>amenity_driving_school</th><th>amenity_kindergarten</th><th>amenity_language_school</th><th>amenity_library</th><th>amenity_toy_library</th><th>amenity_music_school</th><th>amenity_school</th><th>amenity_university</th><th>amenity_bicycle_parking</th><th>amenity_bicycle_repair_station</th><th>amenity_bicycle_rental</th><th>amenity_boat_rental</th><th>amenity_boat_sharing</th><th>amenity_bus_station</th><th>amenity_car_rental</th><th>amenity_car_sharing</th><th>amenity_car_wash</th><th>amenity_vehicle_inspection</th><th>amenity_charging_station</th><th>amenity_ferry_terminal</th><th>amenity_fuel</th><th>amenity_grit_bin</th><th>amenity_motorcycle_parking</th><th>amenity_parking</th><th>amenity_parking_entrance</th><th>amenity_parking_space</th><th>amenity_taxi</th><th>amenity_atm</th><th>&hellip;</th><th>sport_zurkhaneh_sport</th><th>water_river</th><th>water_oxbow</th><th>water_canal</th><th>water_ditch</th><th>water_lock</th><th>water_fish_pass</th><th>water_lake</th><th>water_reservoir</th><th>water_pond</th><th>water_basin</th><th>water_lagoon</th><th>water_stream_pool</th><th>water_reflecting_pool</th><th>water_moat</th><th>water_wastewater</th><th>waterway_river</th><th>waterway_riverbank</th><th>waterway_stream</th><th>waterway_tidal_channel</th><th>waterway_canal</th><th>waterway_drain</th><th>waterway_ditch</th><th>waterway_pressurised</th><th>waterway_fairway</th><th>waterway_dock</th><th>waterway_boatyard</th><th>waterway_dam</th><th>waterway_weir</th><th>waterway_waterfall</th><th>waterway_lock_gate</th><th>waterway_soakhole</th><th>waterway_turning_point</th><th>waterway_water_point</th><th>waterway_fuel</th><th>region_id</th><th>city</th></tr><tr><td>i64</td><td>i64</td><td>i64</td><td>i64</td><td>i64</td><td>i64</td><td>i64</td><td>i64</td><td>i64</td><td>i64</td><td>i64</td><td>i64</td><td>i64</td><td>i64</td><td>i64</td><td>i64</td><td>i64</td><td>i64</td><td>i64</td><td>i64</td><td>i64</td><td>i64</td><td>i64</td><td>i64</td><td>i64</td><td>i64</td><td>i64</td><td>i64</td><td>i64</td><td>i64</td><td>i64</td><td>i64</td><td>i64</td><td>i64</td><td>i64</td><td>i64</td><td>i64</td><td>&hellip;</td><td>i64</td><td>i64</td><td>i64</td><td>i64</td><td>i64</td><td>i64</td><td>i64</td><td>i64</td><td>i64</td><td>i64</td><td>i64</td><td>i64</td><td>i64</td><td>i64</td><td>i64</td><td>i64</td><td>i64</td><td>i64</td><td>i64</td><td>i64</td><td>i64</td><td>i64</td><td>i64</td><td>i64</td><td>i64</td><td>i64</td><td>i64</td><td>i64</td><td>i64</td><td>i64</td><td>i64</td><td>i64</td><td>i64</td><td>i64</td><td>i64</td><td>str</td><td>str</td></tr></thead><tbody><tr><td>0</td><td>0</td><td>0</td><td>0</td><td>0</td><td>0</td><td>0</td><td>0</td><td>0</td><td>0</td><td>0</td><td>0</td><td>0</td><td>0</td><td>0</td><td>0</td><td>0</td><td>0</td><td>0</td><td>0</td><td>0</td><td>0</td><td>0</td><td>0</td><td>0</td><td>0</td><td>0</td><td>0</td><td>0</td><td>0</td><td>0</td><td>0</td><td>0</td><td>0</td><td>0</td><td>0</td><td>0</td><td>&hellip;</td><td>0</td><td>0</td><td>0</td><td>0</td><td>0</td><td>0</td><td>0</td><td>0</td><td>0</td><td>0</td><td>0</td><td>0</td><td>0</td><td>0</td><td>0</td><td>0</td><td>0</td><td>0</td><td>0</td><td>0</td><td>0</td><td>0</td><td>0</td><td>0</td><td>0</td><td>0</td><td>0</td><td>0</td><td>0</td><td>0</td><td>0</td><td>0</td><td>0</td><td>0</td><td>0</td><td>&quot;892a3029a33fff…</td><td>&quot;Boston, USA&quot;</td></tr><tr><td>0</td><td>0</td><td>0</td><td>0</td><td>0</td><td>0</td><td>0</td><td>0</td><td>0</td><td>0</td><td>0</td><td>0</td><td>0</td><td>0</td><td>0</td><td>0</td><td>0</td><td>0</td><td>0</td><td>0</td><td>0</td><td>0</td><td>0</td><td>0</td><td>0</td><td>0</td><td>0</td><td>0</td><td>0</td><td>0</td><td>0</td><td>0</td><td>0</td><td>0</td><td>0</td><td>0</td><td>0</td><td>&hellip;</td><td>0</td><td>0</td><td>0</td><td>0</td><td>0</td><td>0</td><td>0</td><td>0</td><td>0</td><td>0</td><td>0</td><td>0</td><td>0</td><td>0</td><td>0</td><td>0</td><td>0</td><td>0</td><td>0</td><td>0</td><td>0</td><td>0</td><td>0</td><td>0</td><td>0</td><td>0</td><td>0</td><td>0</td><td>0</td><td>0</td><td>0</td><td>0</td><td>0</td><td>0</td><td>0</td><td>&quot;892a3065c8ffff…</td><td>&quot;Boston, USA&quot;</td></tr><tr><td>0</td><td>0</td><td>0</td><td>0</td><td>0</td><td>0</td><td>0</td><td>0</td><td>0</td><td>0</td><td>0</td><td>0</td><td>0</td><td>0</td><td>0</td><td>0</td><td>0</td><td>0</td><td>0</td><td>0</td><td>0</td><td>0</td><td>0</td><td>0</td><td>0</td><td>0</td><td>0</td><td>0</td><td>0</td><td>0</td><td>0</td><td>0</td><td>0</td><td>0</td><td>0</td><td>0</td><td>0</td><td>&hellip;</td><td>0</td><td>0</td><td>0</td><td>0</td><td>0</td><td>0</td><td>0</td><td>0</td><td>0</td><td>0</td><td>0</td><td>0</td><td>0</td><td>0</td><td>0</td><td>0</td><td>0</td><td>0</td><td>0</td><td>0</td><td>0</td><td>0</td><td>0</td><td>0</td><td>0</td><td>0</td><td>0</td><td>0</td><td>0</td><td>0</td><td>0</td><td>0</td><td>0</td><td>0</td><td>0</td><td>&quot;892a302b077fff…</td><td>&quot;Boston, USA&quot;</td></tr><tr><td>0</td><td>0</td><td>0</td><td>0</td><td>0</td><td>0</td><td>0</td><td>0</td><td>0</td><td>0</td><td>0</td><td>0</td><td>0</td><td>0</td><td>0</td><td>0</td><td>0</td><td>0</td><td>0</td><td>0</td><td>0</td><td>0</td><td>0</td><td>0</td><td>0</td><td>0</td><td>0</td><td>0</td><td>0</td><td>0</td><td>0</td><td>0</td><td>1</td><td>0</td><td>0</td><td>0</td><td>0</td><td>&hellip;</td><td>0</td><td>0</td><td>0</td><td>0</td><td>0</td><td>0</td><td>0</td><td>0</td><td>0</td><td>0</td><td>0</td><td>0</td><td>0</td><td>0</td><td>0</td><td>0</td><td>0</td><td>0</td><td>0</td><td>0</td><td>0</td><td>0</td><td>0</td><td>0</td><td>0</td><td>0</td><td>0</td><td>0</td><td>0</td><td>0</td><td>0</td><td>0</td><td>0</td><td>0</td><td>0</td><td>&quot;892a3067227fff…</td><td>&quot;Boston, USA&quot;</td></tr><tr><td>0</td><td>0</td><td>0</td><td>0</td><td>0</td><td>0</td><td>0</td><td>0</td><td>0</td><td>0</td><td>0</td><td>0</td><td>0</td><td>0</td><td>0</td><td>0</td><td>0</td><td>0</td><td>0</td><td>0</td><td>0</td><td>0</td><td>0</td><td>0</td><td>0</td><td>0</td><td>0</td><td>0</td><td>0</td><td>0</td><td>0</td><td>0</td><td>0</td><td>0</td><td>0</td><td>0</td><td>0</td><td>&hellip;</td><td>0</td><td>0</td><td>0</td><td>0</td><td>0</td><td>0</td><td>0</td><td>0</td><td>0</td><td>0</td><td>0</td><td>0</td><td>0</td><td>0</td><td>0</td><td>0</td><td>0</td><td>0</td><td>3</td><td>0</td><td>0</td><td>0</td><td>0</td><td>0</td><td>0</td><td>0</td><td>0</td><td>0</td><td>0</td><td>0</td><td>0</td><td>0</td><td>0</td><td>0</td><td>0</td><td>&quot;892a339146ffff…</td><td>&quot;Boston, USA&quot;</td></tr></tbody></table></div>"
      ],
      "text/plain": [
       "shape: (5, 756)\n",
       "┌───────────┬───────────┬───────────┬───────────┬───┬───────────┬───────────┬───────────┬──────────┐\n",
       "│ amenity_b ┆ amenity_b ┆ amenity_c ┆ amenity_f ┆ … ┆ waterway_ ┆ waterway_ ┆ region_id ┆ city     │\n",
       "│ ar        ┆ iergarten ┆ afe       ┆ ast_food  ┆   ┆ water_poi ┆ fuel      ┆ ---       ┆ ---      │\n",
       "│ ---       ┆ ---       ┆ ---       ┆ ---       ┆   ┆ nt        ┆ ---       ┆ str       ┆ str      │\n",
       "│ i64       ┆ i64       ┆ i64       ┆ i64       ┆   ┆ ---       ┆ i64       ┆           ┆          │\n",
       "│           ┆           ┆           ┆           ┆   ┆ i64       ┆           ┆           ┆          │\n",
       "╞═══════════╪═══════════╪═══════════╪═══════════╪═══╪═══════════╪═══════════╪═══════════╪══════════╡\n",
       "│ 0         ┆ 0         ┆ 0         ┆ 0         ┆ … ┆ 0         ┆ 0         ┆ 892a3029a ┆ Boston,  │\n",
       "│           ┆           ┆           ┆           ┆   ┆           ┆           ┆ 33ffff    ┆ USA      │\n",
       "│ 0         ┆ 0         ┆ 0         ┆ 0         ┆ … ┆ 0         ┆ 0         ┆ 892a3065c ┆ Boston,  │\n",
       "│           ┆           ┆           ┆           ┆   ┆           ┆           ┆ 8fffff    ┆ USA      │\n",
       "│ 0         ┆ 0         ┆ 0         ┆ 0         ┆ … ┆ 0         ┆ 0         ┆ 892a302b0 ┆ Boston,  │\n",
       "│           ┆           ┆           ┆           ┆   ┆           ┆           ┆ 77ffff    ┆ USA      │\n",
       "│ 0         ┆ 0         ┆ 0         ┆ 0         ┆ … ┆ 0         ┆ 0         ┆ 892a30672 ┆ Boston,  │\n",
       "│           ┆           ┆           ┆           ┆   ┆           ┆           ┆ 27ffff    ┆ USA      │\n",
       "│ 0         ┆ 0         ┆ 0         ┆ 0         ┆ … ┆ 0         ┆ 0         ┆ 892a33914 ┆ Boston,  │\n",
       "│           ┆           ┆           ┆           ┆   ┆           ┆           ┆ 6fffff    ┆ USA      │\n",
       "└───────────┴───────────┴───────────┴───────────┴───┴───────────┴───────────┴───────────┴──────────┘"
      ]
     },
     "execution_count": 4,
     "metadata": {},
     "output_type": "execute_result"
    }
   ],
   "source": [
    "count_df_file = ROOT / \"data\" / \"geovex\" / \"count.parquet\"\n",
    "\n",
    "if not count_df_file.exists():\n",
    "    count_df_file.parent.mkdir(parents=True, exist_ok=True)\n",
    "\n",
    "    count_df = pl.concat(\n",
    "        pl.scan_parquet(city.count_file).with_columns(pl.lit(city.name).alias(\"city\"))\n",
    "        for city in config.Cities\n",
    "    ).collect()\n",
    "\n",
    "    count_df.write_parquet(\n",
    "        count_df_file,\n",
    "        compression=\"snappy\",\n",
    "    )\n",
    "else:\n",
    "    count_df = pl.read_parquet(count_df_file)\n",
    "\n",
    "count_df.head()"
   ]
  },
  {
   "cell_type": "markdown",
   "metadata": {},
   "source": [
    "### Clean the Dataset\n"
   ]
  },
  {
   "cell_type": "markdown",
   "metadata": {},
   "source": [
    "#### Drop Hexagons with No Building / Highway\n",
    "\n",
    "We do this b.c. we are only focused on hexagons that could have deliveries\n"
   ]
  },
  {
   "cell_type": "code",
   "execution_count": 5,
   "metadata": {},
   "outputs": [],
   "source": [
    "keep_h3s = ring_buffer_h3_indexes(\n",
    "    count_df.filter(\n",
    "        (pl.sum_horizontal(pl.col(\"^building_.*$\")) > 0)\n",
    "        | (pl.sum_horizontal(pl.col(\"^highway_.*$\")) > 0),\n",
    "    )[\"region_id\"],\n",
    "    config.GeoVex.radius,\n",
    ")\n",
    "\n",
    "count_df = count_df.filter(pl.col(\"region_id\").is_in(keep_h3s))"
   ]
  },
  {
   "cell_type": "markdown",
   "metadata": {},
   "source": [
    "#### Drop Columns that Sum to Zero\n"
   ]
  },
  {
   "cell_type": "code",
   "execution_count": 6,
   "metadata": {},
   "outputs": [],
   "source": [
    "# drop columns that sum to 0\n",
    "count_df = count_df.drop(\n",
    "    count_df.select([pl.col(target_tag_list).sum() <= 0])\n",
    "    .transpose(\n",
    "        include_header=True,\n",
    "        column_names=[\"drop\"],\n",
    "    )\n",
    "    .filter(pl.col(\"drop\"))[\"column\"]\n",
    ")\n",
    "\n",
    "target_tag_list = sorted(\n",
    "    set(count_df.columns).intersection(set(target_tag_list))\n",
    ")"
   ]
  },
  {
   "cell_type": "markdown",
   "metadata": {},
   "source": [
    "## Create the Dataset"
   ]
  },
  {
   "cell_type": "code",
   "execution_count": 7,
   "metadata": {},
   "outputs": [
    {
     "name": "stderr",
     "output_type": "stream",
     "text": [
      "100%|██████████| 57067/57067 [00:32<00:00, 1737.00it/s]\n"
     ]
    }
   ],
   "source": [
    "from torch.utils.data import DataLoader\n",
    "\n",
    "train_df = count_df.select(target_tag_list + [\"region_id\", ]).to_pandas().set_index(\"region_id\")\n",
    "\n",
    "dataset = HexagonalDataset(\n",
    "    train_df,\n",
    "    neighbourhood=H3Neighbourhood(),\n",
    "    neighbor_k_ring=config.GeoVex.radius,\n",
    ")"
   ]
  },
  {
   "cell_type": "code",
   "execution_count": 8,
   "metadata": {},
   "outputs": [],
   "source": [
    "dataloader = DataLoader(\n",
    "    dataset,\n",
    "    batch_size=1024,\n",
    "    shuffle=False,\n",
    "    num_workers=10,\n",
    ")"
   ]
  },
  {
   "cell_type": "markdown",
   "metadata": {},
   "source": [
    "## Train the Model"
   ]
  },
  {
   "cell_type": "code",
   "execution_count": 9,
   "metadata": {},
   "outputs": [],
   "source": [
    "model = GeoVexModel(\n",
    "    k_dim=train_df.shape[1],\n",
    "    radius=config.GeoVex.radius,\n",
    "    conv_layers=3,\n",
    "    emb_size=50,\n",
    "    learning_rate=0.00025,\n",
    ")"
   ]
  },
  {
   "cell_type": "code",
   "execution_count": 10,
   "metadata": {},
   "outputs": [
    {
     "name": "stderr",
     "output_type": "stream",
     "text": [
      "Seed set to 42\n"
     ]
    },
    {
     "name": "stderr",
     "output_type": "stream",
     "text": [
      "/usr/lib/python3/dist-packages/pkg_resources/__init__.py:116: PkgResourcesDeprecationWarning: 0.1.43ubuntu1 is an invalid version and will not be supported in a future release\n",
      "  warnings.warn(\n",
      "/usr/lib/python3/dist-packages/pkg_resources/__init__.py:116: PkgResourcesDeprecationWarning: 1.1build1 is an invalid version and will not be supported in a future release\n",
      "  warnings.warn(\n",
      "GPU available: True (cuda), used: True\n",
      "TPU available: False, using: 0 TPU cores\n",
      "IPU available: False, using: 0 IPUs\n",
      "HPU available: False, using: 0 HPUs\n"
     ]
    }
   ],
   "source": [
    "import os\n",
    "import torch\n",
    "import wandb\n",
    "from pytorch_lightning.loggers.wandb import WandbLogger\n",
    "import pytorch_lightning as pl_lightning\n",
    "from pytorch_lightning.callbacks import LambdaCallback, ModelCheckpoint\n",
    "from pytorch_lightning import seed_everything\n",
    "\n",
    "seed_everything(42)\n",
    "\n",
    "# this is required for some reason to get the data to save correctly\n",
    "wandb.finish()\n",
    "\n",
    "epochs = 100\n",
    "\n",
    "os.environ[\"WANDB_NOTEBOOK_NAME\"] = \"cluster-word2vec.ipynb\"\n",
    "\n",
    "logger = WandbLogger(\n",
    "    project=\"GeoVex\",\n",
    "    log_model=\"all\",\n",
    ")\n",
    "\n",
    "checkpoint_callback = ModelCheckpoint(\n",
    "    monitor=\"train_loss\",\n",
    "    mode=\"min\",\n",
    ")\n",
    "\n",
    "trainer = pl_lightning.Trainer(\n",
    "    accelerator=\"cuda\" if torch.cuda.is_available() else \"cpu\",\n",
    "    max_epochs=epochs,\n",
    "    logger=logger,\n",
    "    callbacks=[checkpoint_callback],\n",
    "    log_every_n_steps=20\n",
    ")"
   ]
  },
  {
   "cell_type": "markdown",
   "metadata": {},
   "source": [
    "### Train"
   ]
  },
  {
   "cell_type": "code",
   "execution_count": 11,
   "metadata": {},
   "outputs": [
    {
     "name": "stderr",
     "output_type": "stream",
     "text": [
      "/home/shadeform/.local/lib/python3.10/site-packages/pytorch_lightning/trainer/configuration_validator.py:74: You defined a `validation_step` but have no `val_dataloader`. Skipping val loop.\n",
      "You are using a CUDA device ('NVIDIA A100-SXM4-80GB') that has Tensor Cores. To properly utilize them, you should set `torch.set_float32_matmul_precision('medium' | 'high')` which will trade-off precision for performance. For more details, read https://pytorch.org/docs/stable/generated/torch.set_float32_matmul_precision.html#torch.set_float32_matmul_precision\n",
      "\u001b[34m\u001b[1mwandb\u001b[0m: \u001b[33mWARNING\u001b[0m WANDB_NOTEBOOK_NAME should be a path to a notebook file, couldn't find cluster-word2vec.ipynb.\n"
     ]
    },
    {
     "name": "stderr",
     "output_type": "stream",
     "text": [
      "\u001b[34m\u001b[1mwandb\u001b[0m: Currently logged in as: \u001b[33m_max_\u001b[0m (\u001b[33mgreen-last-mile\u001b[0m). Use \u001b[1m`wandb login --relogin`\u001b[0m to force relogin\n"
     ]
    },
    {
     "data": {
      "text/html": [
       "Tracking run with wandb version 0.15.12"
      ],
      "text/plain": [
       "<IPython.core.display.HTML object>"
      ]
     },
     "metadata": {},
     "output_type": "display_data"
    },
    {
     "data": {
      "text/html": [
       "Run data is saved locally in <code>./wandb/run-20231015_230811-ffs9u8ry</code>"
      ],
      "text/plain": [
       "<IPython.core.display.HTML object>"
      ]
     },
     "metadata": {},
     "output_type": "display_data"
    },
    {
     "data": {
      "text/html": [
       "Syncing run <strong><a href='https://wandb.ai/green-last-mile/GeoVex/runs/ffs9u8ry' target=\"_blank\">good-smoke-84</a></strong> to <a href='https://wandb.ai/green-last-mile/GeoVex' target=\"_blank\">Weights & Biases</a> (<a href='https://wandb.me/run' target=\"_blank\">docs</a>)<br/>"
      ],
      "text/plain": [
       "<IPython.core.display.HTML object>"
      ]
     },
     "metadata": {},
     "output_type": "display_data"
    },
    {
     "data": {
      "text/html": [
       " View project at <a href='https://wandb.ai/green-last-mile/GeoVex' target=\"_blank\">https://wandb.ai/green-last-mile/GeoVex</a>"
      ],
      "text/plain": [
       "<IPython.core.display.HTML object>"
      ]
     },
     "metadata": {},
     "output_type": "display_data"
    },
    {
     "data": {
      "text/html": [
       " View run at <a href='https://wandb.ai/green-last-mile/GeoVex/runs/ffs9u8ry' target=\"_blank\">https://wandb.ai/green-last-mile/GeoVex/runs/ffs9u8ry</a>"
      ],
      "text/plain": [
       "<IPython.core.display.HTML object>"
      ]
     },
     "metadata": {},
     "output_type": "display_data"
    },
    {
     "name": "stderr",
     "output_type": "stream",
     "text": [
      "LOCAL_RANK: 0 - CUDA_VISIBLE_DEVICES: [0]\n",
      "\n",
      "  | Name    | Type       | Params\n",
      "---------------------------------------\n",
      "0 | encoder | Sequential | 8.3 M \n",
      "1 | decoder | Sequential | 7.1 M \n",
      "2 | _loss   | GeoVeXLoss | 0     \n",
      "---------------------------------------\n",
      "15.4 M    Trainable params\n",
      "0         Non-trainable params\n",
      "15.4 M    Total params\n",
      "61.597    Total estimated model params size (MB)\n"
     ]
    },
    {
     "name": "stdout",
     "output_type": "stream",
     "text": [
      "Epoch 99: 100%|██████████| 40/40 [00:18<00:00,  2.14it/s, v_num=u8ry]"
     ]
    },
    {
     "name": "stderr",
     "output_type": "stream",
     "text": [
      "`Trainer.fit` stopped: `max_epochs=100` reached.\n"
     ]
    },
    {
     "name": "stdout",
     "output_type": "stream",
     "text": [
      "Epoch 99: 100%|██████████| 40/40 [00:19<00:00,  2.07it/s, v_num=u8ry]\n"
     ]
    },
    {
     "data": {
      "text/html": [
       "Waiting for W&B process to finish... <strong style=\"color:green\">(success).</strong>"
      ],
      "text/plain": [
       "<IPython.core.display.HTML object>"
      ]
     },
     "metadata": {},
     "output_type": "display_data"
    },
    {
     "name": "stderr",
     "output_type": "stream",
     "text": [
      "wandb: WARNING Source type is set to 'repo' but some required information is missing from the environment. A job will not be created from this run. See https://docs.wandb.ai/guides/launch/create-job\n"
     ]
    },
    {
     "data": {
      "text/html": [
       "<style>\n",
       "    table.wandb td:nth-child(1) { padding: 0 10px; text-align: left ; width: auto;} td:nth-child(2) {text-align: left ; width: 100%}\n",
       "    .wandb-row { display: flex; flex-direction: row; flex-wrap: wrap; justify-content: flex-start; width: 100% }\n",
       "    .wandb-col { display: flex; flex-direction: column; flex-basis: 100%; flex: 1; padding: 10px; }\n",
       "    </style>\n",
       "<div class=\"wandb-row\"><div class=\"wandb-col\"><h3>Run history:</h3><br/><table class=\"wandb\"><tr><td>epoch</td><td>▁▁▁▁▂▂▂▂▂▃▃▃▃▃▃▄▄▄▄▄▅▅▅▅▅▅▆▆▆▆▆▇▇▇▇▇▇███</td></tr><tr><td>train_loss_epoch</td><td>█▄▂▂▂▂▂▂▂▂▂▁▁▁▁▁▁▁▁▁▁▁▁▁▁▁▁▁▁▁▁▁▁▁▁▁▁▁▁▁</td></tr><tr><td>train_loss_step</td><td>█▄▃▃▃▂▂▂▂▂▂▂▂▂▂▂▂▂▂▂▂▂▂▂▂▂▂▂▂▂▂▁▁▁▁▁▁▁▁▁</td></tr><tr><td>trainer/global_step</td><td>▁▁▁▁▂▂▂▂▂▃▃▃▃▃▃▄▄▄▄▄▅▅▅▅▅▅▆▆▆▆▆▇▇▇▇▇▇███</td></tr></table><br/></div><div class=\"wandb-col\"><h3>Run summary:</h3><br/><table class=\"wandb\"><tr><td>epoch</td><td>99</td></tr><tr><td>train_loss_epoch</td><td>1235.62671</td></tr><tr><td>train_loss_step</td><td>99.62657</td></tr><tr><td>trainer/global_step</td><td>3999</td></tr></table><br/></div></div>"
      ],
      "text/plain": [
       "<IPython.core.display.HTML object>"
      ]
     },
     "metadata": {},
     "output_type": "display_data"
    },
    {
     "data": {
      "text/html": [
       " View run <strong style=\"color:#cdcd00\">good-smoke-84</strong> at: <a href='https://wandb.ai/green-last-mile/GeoVex/runs/ffs9u8ry' target=\"_blank\">https://wandb.ai/green-last-mile/GeoVex/runs/ffs9u8ry</a><br/>Synced 5 W&B file(s), 0 media file(s), 63 artifact file(s) and 0 other file(s)"
      ],
      "text/plain": [
       "<IPython.core.display.HTML object>"
      ]
     },
     "metadata": {},
     "output_type": "display_data"
    },
    {
     "data": {
      "text/html": [
       "Find logs at: <code>./wandb/run-20231015_230811-ffs9u8ry/logs</code>"
      ],
      "text/plain": [
       "<IPython.core.display.HTML object>"
      ]
     },
     "metadata": {},
     "output_type": "display_data"
    }
   ],
   "source": [
    "trainer.fit(model, dataloader)\n",
    "\n",
    "logger.experiment.finish()\n",
    "\n",
    "run = logger.experiment\n",
    "\n",
    "train_df.columns.to_series(name=\"column\").to_csv(\n",
    "    Path(run.dir) / \"columns.csv\", index=False\n",
    ")\n"
   ]
  },
  {
   "cell_type": "markdown",
   "metadata": {},
   "source": [
    "## Create the Embeddings"
   ]
  },
  {
   "cell_type": "code",
   "execution_count": 12,
   "metadata": {},
   "outputs": [],
   "source": [
    "import pandas as pd\n",
    "import numpy as np\n",
    "from srai.constants import REGIONS_INDEX\n",
    "\n",
    "embeddings = [\n",
    "    model.cuda().encoder(batch.cuda()).cpu().detach().numpy() for batch in dataloader  # type: ignore\n",
    "]\n",
    "\n",
    "df = pd.DataFrame(np.concatenate(embeddings), index=dataset.get_ordered_index())\n",
    "df.index.name = REGIONS_INDEX\n",
    "\n",
    "df.to_parquet(Path(run.dir) / \"embeddings.parquet\", compression=\"snappy\")"
   ]
  },
  {
   "cell_type": "code",
   "execution_count": 14,
   "metadata": {},
   "outputs": [
    {
     "data": {
      "text/plain": [
       "PosixPath('/home/shadeform/cargo-bike-analysis/notebooks/embeddings/wandb/run-20231015_230811-ffs9u8ry/files/embeddings.parquet')"
      ]
     },
     "execution_count": 14,
     "metadata": {},
     "output_type": "execute_result"
    }
   ],
   "source": [
    "(Path(run.dir) / \"embeddings.parquet\").absolute()"
   ]
  },
  {
   "cell_type": "code",
   "execution_count": 14,
   "metadata": {},
   "outputs": [
    {
     "data": {
      "text/html": [
       "<div>\n",
       "<style scoped>\n",
       "    .dataframe tbody tr th:only-of-type {\n",
       "        vertical-align: middle;\n",
       "    }\n",
       "\n",
       "    .dataframe tbody tr th {\n",
       "        vertical-align: top;\n",
       "    }\n",
       "\n",
       "    .dataframe thead th {\n",
       "        text-align: right;\n",
       "    }\n",
       "</style>\n",
       "<table border=\"1\" class=\"dataframe\">\n",
       "  <thead>\n",
       "    <tr style=\"text-align: right;\">\n",
       "      <th></th>\n",
       "      <th>0</th>\n",
       "      <th>1</th>\n",
       "      <th>2</th>\n",
       "      <th>3</th>\n",
       "      <th>4</th>\n",
       "      <th>5</th>\n",
       "      <th>6</th>\n",
       "      <th>7</th>\n",
       "      <th>8</th>\n",
       "      <th>9</th>\n",
       "      <th>...</th>\n",
       "      <th>40</th>\n",
       "      <th>41</th>\n",
       "      <th>42</th>\n",
       "      <th>43</th>\n",
       "      <th>44</th>\n",
       "      <th>45</th>\n",
       "      <th>46</th>\n",
       "      <th>47</th>\n",
       "      <th>48</th>\n",
       "      <th>49</th>\n",
       "    </tr>\n",
       "    <tr>\n",
       "      <th>region_id</th>\n",
       "      <th></th>\n",
       "      <th></th>\n",
       "      <th></th>\n",
       "      <th></th>\n",
       "      <th></th>\n",
       "      <th></th>\n",
       "      <th></th>\n",
       "      <th></th>\n",
       "      <th></th>\n",
       "      <th></th>\n",
       "      <th></th>\n",
       "      <th></th>\n",
       "      <th></th>\n",
       "      <th></th>\n",
       "      <th></th>\n",
       "      <th></th>\n",
       "      <th></th>\n",
       "      <th></th>\n",
       "      <th></th>\n",
       "      <th></th>\n",
       "      <th></th>\n",
       "    </tr>\n",
       "  </thead>\n",
       "  <tbody>\n",
       "    <tr>\n",
       "      <th>892a339a5afffff</th>\n",
       "      <td>-12.543304</td>\n",
       "      <td>-36.702934</td>\n",
       "      <td>-35.427788</td>\n",
       "      <td>62.237679</td>\n",
       "      <td>14.633109</td>\n",
       "      <td>85.349991</td>\n",
       "      <td>-23.133249</td>\n",
       "      <td>45.920357</td>\n",
       "      <td>-51.708145</td>\n",
       "      <td>45.033699</td>\n",
       "      <td>...</td>\n",
       "      <td>-16.903761</td>\n",
       "      <td>26.290535</td>\n",
       "      <td>29.346359</td>\n",
       "      <td>-15.618069</td>\n",
       "      <td>20.286274</td>\n",
       "      <td>1.167608</td>\n",
       "      <td>63.781994</td>\n",
       "      <td>57.566757</td>\n",
       "      <td>-23.694431</td>\n",
       "      <td>-4.005977</td>\n",
       "    </tr>\n",
       "    <tr>\n",
       "      <th>892a3066a3bffff</th>\n",
       "      <td>31.329262</td>\n",
       "      <td>-41.410572</td>\n",
       "      <td>-55.827526</td>\n",
       "      <td>78.853081</td>\n",
       "      <td>25.929245</td>\n",
       "      <td>49.997467</td>\n",
       "      <td>-38.882084</td>\n",
       "      <td>-5.730484</td>\n",
       "      <td>-58.445007</td>\n",
       "      <td>-24.405167</td>\n",
       "      <td>...</td>\n",
       "      <td>-35.929619</td>\n",
       "      <td>45.780430</td>\n",
       "      <td>36.663208</td>\n",
       "      <td>-16.449844</td>\n",
       "      <td>32.866051</td>\n",
       "      <td>-2.159680</td>\n",
       "      <td>78.207001</td>\n",
       "      <td>33.529587</td>\n",
       "      <td>-30.632816</td>\n",
       "      <td>-9.345604</td>\n",
       "    </tr>\n",
       "    <tr>\n",
       "      <th>892a3066e17ffff</th>\n",
       "      <td>17.920731</td>\n",
       "      <td>-50.485878</td>\n",
       "      <td>-39.077431</td>\n",
       "      <td>93.122025</td>\n",
       "      <td>24.191360</td>\n",
       "      <td>27.859776</td>\n",
       "      <td>-39.975128</td>\n",
       "      <td>-1.498533</td>\n",
       "      <td>-70.378983</td>\n",
       "      <td>-16.668730</td>\n",
       "      <td>...</td>\n",
       "      <td>-39.374737</td>\n",
       "      <td>9.126648</td>\n",
       "      <td>42.700592</td>\n",
       "      <td>3.464363</td>\n",
       "      <td>12.610657</td>\n",
       "      <td>-5.984903</td>\n",
       "      <td>88.849754</td>\n",
       "      <td>48.797073</td>\n",
       "      <td>-30.830357</td>\n",
       "      <td>4.599929</td>\n",
       "    </tr>\n",
       "    <tr>\n",
       "      <th>892a3066b3bffff</th>\n",
       "      <td>44.426163</td>\n",
       "      <td>-43.210972</td>\n",
       "      <td>-60.217773</td>\n",
       "      <td>71.468353</td>\n",
       "      <td>24.534119</td>\n",
       "      <td>67.819855</td>\n",
       "      <td>-35.414818</td>\n",
       "      <td>-4.939835</td>\n",
       "      <td>-55.482632</td>\n",
       "      <td>-30.228302</td>\n",
       "      <td>...</td>\n",
       "      <td>-33.145702</td>\n",
       "      <td>71.767830</td>\n",
       "      <td>35.279186</td>\n",
       "      <td>-21.912142</td>\n",
       "      <td>40.395546</td>\n",
       "      <td>-6.421528</td>\n",
       "      <td>71.696129</td>\n",
       "      <td>37.463757</td>\n",
       "      <td>-32.746212</td>\n",
       "      <td>-9.986138</td>\n",
       "    </tr>\n",
       "    <tr>\n",
       "      <th>892a3066803ffff</th>\n",
       "      <td>-1.315850</td>\n",
       "      <td>-37.682495</td>\n",
       "      <td>-35.074394</td>\n",
       "      <td>74.233047</td>\n",
       "      <td>17.954483</td>\n",
       "      <td>61.830872</td>\n",
       "      <td>-30.686661</td>\n",
       "      <td>21.605570</td>\n",
       "      <td>-57.101604</td>\n",
       "      <td>32.648930</td>\n",
       "      <td>...</td>\n",
       "      <td>-30.076464</td>\n",
       "      <td>15.182814</td>\n",
       "      <td>35.788933</td>\n",
       "      <td>-17.001144</td>\n",
       "      <td>0.092901</td>\n",
       "      <td>-2.930601</td>\n",
       "      <td>71.126785</td>\n",
       "      <td>51.737259</td>\n",
       "      <td>-32.164906</td>\n",
       "      <td>2.179149</td>\n",
       "    </tr>\n",
       "    <tr>\n",
       "      <th>...</th>\n",
       "      <td>...</td>\n",
       "      <td>...</td>\n",
       "      <td>...</td>\n",
       "      <td>...</td>\n",
       "      <td>...</td>\n",
       "      <td>...</td>\n",
       "      <td>...</td>\n",
       "      <td>...</td>\n",
       "      <td>...</td>\n",
       "      <td>...</td>\n",
       "      <td>...</td>\n",
       "      <td>...</td>\n",
       "      <td>...</td>\n",
       "      <td>...</td>\n",
       "      <td>...</td>\n",
       "      <td>...</td>\n",
       "      <td>...</td>\n",
       "      <td>...</td>\n",
       "      <td>...</td>\n",
       "      <td>...</td>\n",
       "      <td>...</td>\n",
       "    </tr>\n",
       "    <tr>\n",
       "      <th>891fa441d47ffff</th>\n",
       "      <td>28.075670</td>\n",
       "      <td>-25.931828</td>\n",
       "      <td>-40.101681</td>\n",
       "      <td>97.436829</td>\n",
       "      <td>37.152378</td>\n",
       "      <td>33.094837</td>\n",
       "      <td>-40.951519</td>\n",
       "      <td>-9.537457</td>\n",
       "      <td>-62.798843</td>\n",
       "      <td>-22.340813</td>\n",
       "      <td>...</td>\n",
       "      <td>-31.757479</td>\n",
       "      <td>10.416734</td>\n",
       "      <td>44.635113</td>\n",
       "      <td>3.639849</td>\n",
       "      <td>-25.776157</td>\n",
       "      <td>-0.614910</td>\n",
       "      <td>86.354729</td>\n",
       "      <td>31.092669</td>\n",
       "      <td>-11.332111</td>\n",
       "      <td>0.074496</td>\n",
       "    </tr>\n",
       "    <tr>\n",
       "      <th>891fa44f093ffff</th>\n",
       "      <td>-4.758158</td>\n",
       "      <td>0.949384</td>\n",
       "      <td>-22.122681</td>\n",
       "      <td>74.865120</td>\n",
       "      <td>21.037386</td>\n",
       "      <td>58.749435</td>\n",
       "      <td>-26.209946</td>\n",
       "      <td>16.376972</td>\n",
       "      <td>-44.618019</td>\n",
       "      <td>42.069408</td>\n",
       "      <td>...</td>\n",
       "      <td>-4.049875</td>\n",
       "      <td>7.629431</td>\n",
       "      <td>24.520319</td>\n",
       "      <td>-7.363722</td>\n",
       "      <td>-1.790652</td>\n",
       "      <td>-10.719803</td>\n",
       "      <td>69.532257</td>\n",
       "      <td>17.530775</td>\n",
       "      <td>2.926747</td>\n",
       "      <td>2.576683</td>\n",
       "    </tr>\n",
       "    <tr>\n",
       "      <th>891fa4401c7ffff</th>\n",
       "      <td>10.786926</td>\n",
       "      <td>-25.158751</td>\n",
       "      <td>-29.395390</td>\n",
       "      <td>86.569366</td>\n",
       "      <td>35.706261</td>\n",
       "      <td>56.238113</td>\n",
       "      <td>-37.394676</td>\n",
       "      <td>34.304871</td>\n",
       "      <td>-54.556118</td>\n",
       "      <td>47.895363</td>\n",
       "      <td>...</td>\n",
       "      <td>-2.857403</td>\n",
       "      <td>-1.355015</td>\n",
       "      <td>36.963276</td>\n",
       "      <td>0.742130</td>\n",
       "      <td>-58.049046</td>\n",
       "      <td>-7.530038</td>\n",
       "      <td>78.168404</td>\n",
       "      <td>37.680874</td>\n",
       "      <td>-11.993789</td>\n",
       "      <td>20.742382</td>\n",
       "    </tr>\n",
       "    <tr>\n",
       "      <th>891fa44f4abffff</th>\n",
       "      <td>22.865328</td>\n",
       "      <td>-10.863411</td>\n",
       "      <td>-30.502930</td>\n",
       "      <td>84.571190</td>\n",
       "      <td>29.671062</td>\n",
       "      <td>53.162815</td>\n",
       "      <td>-37.400650</td>\n",
       "      <td>5.071507</td>\n",
       "      <td>-52.505394</td>\n",
       "      <td>13.697501</td>\n",
       "      <td>...</td>\n",
       "      <td>-7.959752</td>\n",
       "      <td>26.386868</td>\n",
       "      <td>32.800007</td>\n",
       "      <td>-12.766939</td>\n",
       "      <td>-5.552060</td>\n",
       "      <td>-15.301873</td>\n",
       "      <td>78.653915</td>\n",
       "      <td>24.157524</td>\n",
       "      <td>-9.235600</td>\n",
       "      <td>2.773456</td>\n",
       "    </tr>\n",
       "    <tr>\n",
       "      <th>891fa440c1bffff</th>\n",
       "      <td>-20.063320</td>\n",
       "      <td>-6.791863</td>\n",
       "      <td>-24.918041</td>\n",
       "      <td>85.819992</td>\n",
       "      <td>32.167133</td>\n",
       "      <td>65.876236</td>\n",
       "      <td>-33.421543</td>\n",
       "      <td>31.835409</td>\n",
       "      <td>-50.427002</td>\n",
       "      <td>56.353226</td>\n",
       "      <td>...</td>\n",
       "      <td>-0.173623</td>\n",
       "      <td>-0.284873</td>\n",
       "      <td>34.696266</td>\n",
       "      <td>2.350893</td>\n",
       "      <td>-35.400681</td>\n",
       "      <td>-8.797361</td>\n",
       "      <td>73.547287</td>\n",
       "      <td>32.091652</td>\n",
       "      <td>-4.145634</td>\n",
       "      <td>10.625191</td>\n",
       "    </tr>\n",
       "  </tbody>\n",
       "</table>\n",
       "<p>38616 rows × 50 columns</p>\n",
       "</div>"
      ],
      "text/plain": [
       "                        0          1          2          3          4   \\\n",
       "region_id                                                                \n",
       "892a339a5afffff -12.543304 -36.702934 -35.427788  62.237679  14.633109   \n",
       "892a3066a3bffff  31.329262 -41.410572 -55.827526  78.853081  25.929245   \n",
       "892a3066e17ffff  17.920731 -50.485878 -39.077431  93.122025  24.191360   \n",
       "892a3066b3bffff  44.426163 -43.210972 -60.217773  71.468353  24.534119   \n",
       "892a3066803ffff  -1.315850 -37.682495 -35.074394  74.233047  17.954483   \n",
       "...                    ...        ...        ...        ...        ...   \n",
       "891fa441d47ffff  28.075670 -25.931828 -40.101681  97.436829  37.152378   \n",
       "891fa44f093ffff  -4.758158   0.949384 -22.122681  74.865120  21.037386   \n",
       "891fa4401c7ffff  10.786926 -25.158751 -29.395390  86.569366  35.706261   \n",
       "891fa44f4abffff  22.865328 -10.863411 -30.502930  84.571190  29.671062   \n",
       "891fa440c1bffff -20.063320  -6.791863 -24.918041  85.819992  32.167133   \n",
       "\n",
       "                        5          6          7          8          9   ...  \\\n",
       "region_id                                                               ...   \n",
       "892a339a5afffff  85.349991 -23.133249  45.920357 -51.708145  45.033699  ...   \n",
       "892a3066a3bffff  49.997467 -38.882084  -5.730484 -58.445007 -24.405167  ...   \n",
       "892a3066e17ffff  27.859776 -39.975128  -1.498533 -70.378983 -16.668730  ...   \n",
       "892a3066b3bffff  67.819855 -35.414818  -4.939835 -55.482632 -30.228302  ...   \n",
       "892a3066803ffff  61.830872 -30.686661  21.605570 -57.101604  32.648930  ...   \n",
       "...                    ...        ...        ...        ...        ...  ...   \n",
       "891fa441d47ffff  33.094837 -40.951519  -9.537457 -62.798843 -22.340813  ...   \n",
       "891fa44f093ffff  58.749435 -26.209946  16.376972 -44.618019  42.069408  ...   \n",
       "891fa4401c7ffff  56.238113 -37.394676  34.304871 -54.556118  47.895363  ...   \n",
       "891fa44f4abffff  53.162815 -37.400650   5.071507 -52.505394  13.697501  ...   \n",
       "891fa440c1bffff  65.876236 -33.421543  31.835409 -50.427002  56.353226  ...   \n",
       "\n",
       "                        40         41         42         43         44  \\\n",
       "region_id                                                                \n",
       "892a339a5afffff -16.903761  26.290535  29.346359 -15.618069  20.286274   \n",
       "892a3066a3bffff -35.929619  45.780430  36.663208 -16.449844  32.866051   \n",
       "892a3066e17ffff -39.374737   9.126648  42.700592   3.464363  12.610657   \n",
       "892a3066b3bffff -33.145702  71.767830  35.279186 -21.912142  40.395546   \n",
       "892a3066803ffff -30.076464  15.182814  35.788933 -17.001144   0.092901   \n",
       "...                    ...        ...        ...        ...        ...   \n",
       "891fa441d47ffff -31.757479  10.416734  44.635113   3.639849 -25.776157   \n",
       "891fa44f093ffff  -4.049875   7.629431  24.520319  -7.363722  -1.790652   \n",
       "891fa4401c7ffff  -2.857403  -1.355015  36.963276   0.742130 -58.049046   \n",
       "891fa44f4abffff  -7.959752  26.386868  32.800007 -12.766939  -5.552060   \n",
       "891fa440c1bffff  -0.173623  -0.284873  34.696266   2.350893 -35.400681   \n",
       "\n",
       "                        45         46         47         48         49  \n",
       "region_id                                                               \n",
       "892a339a5afffff   1.167608  63.781994  57.566757 -23.694431  -4.005977  \n",
       "892a3066a3bffff  -2.159680  78.207001  33.529587 -30.632816  -9.345604  \n",
       "892a3066e17ffff  -5.984903  88.849754  48.797073 -30.830357   4.599929  \n",
       "892a3066b3bffff  -6.421528  71.696129  37.463757 -32.746212  -9.986138  \n",
       "892a3066803ffff  -2.930601  71.126785  51.737259 -32.164906   2.179149  \n",
       "...                    ...        ...        ...        ...        ...  \n",
       "891fa441d47ffff  -0.614910  86.354729  31.092669 -11.332111   0.074496  \n",
       "891fa44f093ffff -10.719803  69.532257  17.530775   2.926747   2.576683  \n",
       "891fa4401c7ffff  -7.530038  78.168404  37.680874 -11.993789  20.742382  \n",
       "891fa44f4abffff -15.301873  78.653915  24.157524  -9.235600   2.773456  \n",
       "891fa440c1bffff  -8.797361  73.547287  32.091652  -4.145634  10.625191  \n",
       "\n",
       "[38616 rows x 50 columns]"
      ]
     },
     "execution_count": 14,
     "metadata": {},
     "output_type": "execute_result"
    }
   ],
   "source": [
    "df"
   ]
  }
 ],
 "metadata": {
  "kernelspec": {
   "display_name": "cargo-bike-analysis",
   "language": "python",
   "name": "python3"
  },
  "language_info": {
   "codemirror_mode": {
    "name": "ipython",
    "version": 3
   },
   "file_extension": ".py",
   "mimetype": "text/x-python",
   "name": "python",
   "nbconvert_exporter": "python",
   "pygments_lexer": "ipython3",
   "version": "3.9.10"
  }
 },
 "nbformat": 4,
 "nbformat_minor": 2
}
