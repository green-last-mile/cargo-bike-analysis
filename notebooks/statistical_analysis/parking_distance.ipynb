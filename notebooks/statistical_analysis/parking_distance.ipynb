{
 "cells": [
  {
   "cell_type": "code",
   "execution_count": 1,
   "metadata": {},
   "outputs": [],
   "source": [
    "%load_ext autoreload\n",
    "%autoreload 2"
   ]
  },
  {
   "cell_type": "markdown",
   "metadata": {},
   "source": [
    "# Cargo Bike Parking Distance Analysis\n"
   ]
  },
  {
   "cell_type": "code",
   "execution_count": 2,
   "metadata": {},
   "outputs": [],
   "source": [
    "import os\n",
    "import sys\n",
    "from pathlib import Path\n",
    "\n",
    "# add the\n",
    "ROOT = Path(os.getcwd())\n",
    "while not (ROOT / \".git\").exists():\n",
    "    ROOT = ROOT.parent\n",
    "\n",
    "sys.path.append(str(ROOT))\n",
    "\n",
    "from src.config import CargoBikeConfig, load_config\n",
    "from src.osm_tags import build_tag_filter\n",
    "\n",
    "\n",
    "import polars as pl\n",
    "import geopolars as gpl\n",
    "import geopandas as gpd\n",
    "import pandas as pd"
   ]
  },
  {
   "cell_type": "markdown",
   "metadata": {},
   "source": [
    "## Load Config\n"
   ]
  },
  {
   "cell_type": "code",
   "execution_count": 3,
   "metadata": {},
   "outputs": [],
   "source": [
    "config = load_config(ROOT / \"config\" / \"paper.yaml\")"
   ]
  },
  {
   "cell_type": "code",
   "execution_count": 4,
   "metadata": {},
   "outputs": [
    {
     "data": {
      "text/html": [
       "<div>\n",
       "<style scoped>\n",
       "    .dataframe tbody tr th:only-of-type {\n",
       "        vertical-align: middle;\n",
       "    }\n",
       "\n",
       "    .dataframe tbody tr th {\n",
       "        vertical-align: top;\n",
       "    }\n",
       "\n",
       "    .dataframe thead th {\n",
       "        text-align: right;\n",
       "    }\n",
       "</style>\n",
       "<table border=\"1\" class=\"dataframe\">\n",
       "  <thead>\n",
       "    <tr style=\"text-align: right;\">\n",
       "      <th></th>\n",
       "      <th>region_id</th>\n",
       "      <th>geometry</th>\n",
       "      <th>is_city</th>\n",
       "      <th>city</th>\n",
       "      <th>cluster</th>\n",
       "    </tr>\n",
       "  </thead>\n",
       "  <tbody>\n",
       "    <tr>\n",
       "      <th>0</th>\n",
       "      <td>892a339a5afffff</td>\n",
       "      <td>POLYGON ((-71.13572 42.23376, -71.13794 42.232...</td>\n",
       "      <td>True</td>\n",
       "      <td>Boston, USA</td>\n",
       "      <td>0</td>\n",
       "    </tr>\n",
       "    <tr>\n",
       "      <th>1</th>\n",
       "      <td>892a3066a3bffff</td>\n",
       "      <td>POLYGON ((-71.08114 42.30902, -71.08337 42.308...</td>\n",
       "      <td>True</td>\n",
       "      <td>Boston, USA</td>\n",
       "      <td>0</td>\n",
       "    </tr>\n",
       "    <tr>\n",
       "      <th>2</th>\n",
       "      <td>892a3066e17ffff</td>\n",
       "      <td>POLYGON ((-71.06072 42.33323, -71.06295 42.332...</td>\n",
       "      <td>True</td>\n",
       "      <td>Boston, USA</td>\n",
       "      <td>3</td>\n",
       "    </tr>\n",
       "    <tr>\n",
       "      <th>3</th>\n",
       "      <td>892a3066b3bffff</td>\n",
       "      <td>POLYGON ((-71.06614 42.29023, -71.06837 42.289...</td>\n",
       "      <td>True</td>\n",
       "      <td>Boston, USA</td>\n",
       "      <td>0</td>\n",
       "    </tr>\n",
       "    <tr>\n",
       "      <th>4</th>\n",
       "      <td>892a3066803ffff</td>\n",
       "      <td>POLYGON ((-71.05014 42.31442, -71.05236 42.313...</td>\n",
       "      <td>True</td>\n",
       "      <td>Boston, USA</td>\n",
       "      <td>0</td>\n",
       "    </tr>\n",
       "  </tbody>\n",
       "</table>\n",
       "</div>"
      ],
      "text/plain": [
       "         region_id                                           geometry  \\\n",
       "0  892a339a5afffff  POLYGON ((-71.13572 42.23376, -71.13794 42.232...   \n",
       "1  892a3066a3bffff  POLYGON ((-71.08114 42.30902, -71.08337 42.308...   \n",
       "2  892a3066e17ffff  POLYGON ((-71.06072 42.33323, -71.06295 42.332...   \n",
       "3  892a3066b3bffff  POLYGON ((-71.06614 42.29023, -71.06837 42.289...   \n",
       "4  892a3066803ffff  POLYGON ((-71.05014 42.31442, -71.05236 42.313...   \n",
       "\n",
       "   is_city         city  cluster  \n",
       "0     True  Boston, USA        0  \n",
       "1     True  Boston, USA        0  \n",
       "2     True  Boston, USA        3  \n",
       "3     True  Boston, USA        0  \n",
       "4     True  Boston, USA        0  "
      ]
     },
     "execution_count": 4,
     "metadata": {},
     "output_type": "execute_result"
    }
   ],
   "source": [
    "h3_df = pd.concat(\n",
    "    [gpd.read_parquet(city.h3_file).assign(city=city.name) for city in config.Cities],\n",
    "    axis=0,\n",
    ").query(\"is_city\")\n",
    "\n",
    "h3_df = h3_df.merge(\n",
    "    pd.read_parquet(ROOT / \"data/geovex/clusters_4.parquet\").drop(\"city\", axis=1),\n",
    "    on=\"region_id\",\n",
    ")\n",
    "\n",
    "h3_df.head()"
   ]
  },
  {
   "cell_type": "code",
   "execution_count": 5,
   "metadata": {},
   "outputs": [
    {
     "data": {
      "text/html": [
       "<div><style>\n",
       ".dataframe > thead > tr > th,\n",
       ".dataframe > tbody > tr > td {\n",
       "  text-align: right;\n",
       "  white-space: pre-wrap;\n",
       "}\n",
       "</style>\n",
       "<small>shape: (5, 4)</small><table border=\"1\" class=\"dataframe\"><thead><tr><th>region_id</th><th>parking_distance</th><th>city</th><th>cluster</th></tr><tr><td>str</td><td>f64</td><td>str</td><td>i64</td></tr></thead><tbody><tr><td>&quot;891fa441b53fff…</td><td>7.249446</td><td>&quot;Brussels, Belg…</td><td>1</td></tr><tr><td>&quot;891fa441bdbfff…</td><td>7.508782</td><td>&quot;Brussels, Belg…</td><td>1</td></tr><tr><td>&quot;891fa441b83fff…</td><td>20.423592</td><td>&quot;Brussels, Belg…</td><td>1</td></tr><tr><td>&quot;891fa44194ffff…</td><td>98.845455</td><td>&quot;Brussels, Belg…</td><td>1</td></tr><tr><td>&quot;891fa4419b3fff…</td><td>44.251486</td><td>&quot;Brussels, Belg…</td><td>1</td></tr></tbody></table></div>"
      ],
      "text/plain": [
       "shape: (5, 4)\n",
       "┌─────────────────┬──────────────────┬───────────────────┬─────────┐\n",
       "│ region_id       ┆ parking_distance ┆ city              ┆ cluster │\n",
       "│ ---             ┆ ---              ┆ ---               ┆ ---     │\n",
       "│ str             ┆ f64              ┆ str               ┆ i64     │\n",
       "╞═════════════════╪══════════════════╪═══════════════════╪═════════╡\n",
       "│ 891fa441b53ffff ┆ 7.249446         ┆ Brussels, Belgium ┆ 1       │\n",
       "│ 891fa441bdbffff ┆ 7.508782         ┆ Brussels, Belgium ┆ 1       │\n",
       "│ 891fa441b83ffff ┆ 20.423592        ┆ Brussels, Belgium ┆ 1       │\n",
       "│ 891fa44194fffff ┆ 98.845455        ┆ Brussels, Belgium ┆ 1       │\n",
       "│ 891fa4419b3ffff ┆ 44.251486        ┆ Brussels, Belgium ┆ 1       │\n",
       "└─────────────────┴──────────────────┴───────────────────┴─────────┘"
      ]
     },
     "execution_count": 5,
     "metadata": {},
     "output_type": "execute_result"
    }
   ],
   "source": [
    "parking_df = pl.concat(\n",
    "    [\n",
    "        pl.read_parquet(city.file).select([\"region_id\", \"parking_distance\"])\n",
    "        for city in config.ServiceTime\n",
    "        if \"amazon\" not in city.name\n",
    "    ],\n",
    ")\n",
    "\n",
    "# this does two things, one adds the city label and 2, it crops to the city limits\n",
    "parking_df = parking_df.join(\n",
    "    pl.DataFrame(h3_df.reset_index()[[\"region_id\", \"city\", \"cluster\"]]),\n",
    "    on=\"region_id\",\n",
    "    how=\"inner\",\n",
    ")\n",
    "\n",
    "parking_df.head()"
   ]
  },
  {
   "cell_type": "markdown",
   "metadata": {},
   "source": [
    "## looking at tails"
   ]
  },
  {
   "cell_type": "code",
   "execution_count": 9,
   "metadata": {},
   "outputs": [
    {
     "ename": "ColumnNotFoundError",
     "evalue": "city == 'london'",
     "output_type": "error",
     "traceback": [
      "\u001b[0;31m---------------------------------------------------------------------------\u001b[0m",
      "\u001b[0;31mColumnNotFoundError\u001b[0m                       Traceback (most recent call last)",
      "Cell \u001b[0;32mIn[9], line 2\u001b[0m\n\u001b[1;32m      1\u001b[0m \u001b[38;5;66;03m# check how many % of deliveries are longer than 100m in brussels and london in the polars dataframe\u001b[39;00m\n\u001b[0;32m----> 2\u001b[0m \u001b[43mparking_df\u001b[49m\u001b[38;5;241;43m.\u001b[39;49m\u001b[43mfilter\u001b[49m\u001b[43m(\u001b[49m\u001b[38;5;124;43m\"\u001b[39;49m\u001b[38;5;124;43mcity == \u001b[39;49m\u001b[38;5;124;43m'\u001b[39;49m\u001b[38;5;124;43mlondon\u001b[39;49m\u001b[38;5;124;43m'\u001b[39;49m\u001b[38;5;124;43m\"\u001b[39;49m\u001b[43m)\u001b[49m\u001b[38;5;241m.\u001b[39mfilter(pl\u001b[38;5;241m.\u001b[39mcol(\u001b[38;5;124m\"\u001b[39m\u001b[38;5;124mparking_distance\u001b[39m\u001b[38;5;124m\"\u001b[39m) \u001b[38;5;241m>\u001b[39m \u001b[38;5;241m100\u001b[39m)\u001b[38;5;241m.\u001b[39mshape[\n\u001b[1;32m      3\u001b[0m     \u001b[38;5;241m0\u001b[39m\n\u001b[1;32m      4\u001b[0m ] \u001b[38;5;241m/\u001b[39m parking_df\u001b[38;5;241m.\u001b[39mfilter(\u001b[38;5;124m\"\u001b[39m\u001b[38;5;124mcity == \u001b[39m\u001b[38;5;124m'\u001b[39m\u001b[38;5;124mlondon\u001b[39m\u001b[38;5;124m'\u001b[39m\u001b[38;5;124m\"\u001b[39m)\u001b[38;5;241m.\u001b[39mshape[\u001b[38;5;241m0\u001b[39m]\n",
      "File \u001b[0;32m~/kalecollective/greenlastmile/cargo-bike-analysis/.venv/lib/python3.10/site-packages/polars/dataframe/frame.py:3967\u001b[0m, in \u001b[0;36mDataFrame.filter\u001b[0;34m(self, predicate)\u001b[0m\n\u001b[1;32m   3963\u001b[0m \u001b[38;5;28;01mif\u001b[39;00m _check_for_numpy(predicate) \u001b[38;5;129;01mand\u001b[39;00m \u001b[38;5;28misinstance\u001b[39m(predicate, np\u001b[38;5;241m.\u001b[39mndarray):\n\u001b[1;32m   3964\u001b[0m     predicate \u001b[38;5;241m=\u001b[39m pl\u001b[38;5;241m.\u001b[39mSeries(predicate)\n\u001b[1;32m   3966\u001b[0m \u001b[38;5;28;01mreturn\u001b[39;00m (\n\u001b[0;32m-> 3967\u001b[0m     \u001b[38;5;28;43mself\u001b[39;49m\u001b[38;5;241;43m.\u001b[39;49m\u001b[43mlazy\u001b[49m\u001b[43m(\u001b[49m\u001b[43m)\u001b[49m\u001b[38;5;241;43m.\u001b[39;49m\u001b[43mfilter\u001b[49m\u001b[43m(\u001b[49m\u001b[43mpredicate\u001b[49m\u001b[43m)\u001b[49m\u001b[38;5;241;43m.\u001b[39;49m\u001b[43mcollect\u001b[49m\u001b[43m(\u001b[49m\u001b[43m_eager\u001b[49m\u001b[38;5;241;43m=\u001b[39;49m\u001b[38;5;28;43;01mTrue\u001b[39;49;00m\u001b[43m)\u001b[49m  \u001b[38;5;66;03m# type: ignore[arg-type]\u001b[39;00m\n\u001b[1;32m   3968\u001b[0m )\n",
      "File \u001b[0;32m~/kalecollective/greenlastmile/cargo-bike-analysis/.venv/lib/python3.10/site-packages/polars/utils/deprecation.py:96\u001b[0m, in \u001b[0;36mdeprecate_renamed_parameter.<locals>.decorate.<locals>.wrapper\u001b[0;34m(*args, **kwargs)\u001b[0m\n\u001b[1;32m     91\u001b[0m \u001b[38;5;129m@wraps\u001b[39m(function)\n\u001b[1;32m     92\u001b[0m \u001b[38;5;28;01mdef\u001b[39;00m \u001b[38;5;21mwrapper\u001b[39m(\u001b[38;5;241m*\u001b[39margs: P\u001b[38;5;241m.\u001b[39margs, \u001b[38;5;241m*\u001b[39m\u001b[38;5;241m*\u001b[39mkwargs: P\u001b[38;5;241m.\u001b[39mkwargs) \u001b[38;5;241m-\u001b[39m\u001b[38;5;241m>\u001b[39m T:\n\u001b[1;32m     93\u001b[0m     _rename_keyword_argument(\n\u001b[1;32m     94\u001b[0m         old_name, new_name, kwargs, function\u001b[38;5;241m.\u001b[39m\u001b[38;5;18m__name__\u001b[39m, version\n\u001b[1;32m     95\u001b[0m     )\n\u001b[0;32m---> 96\u001b[0m     \u001b[38;5;28;01mreturn\u001b[39;00m \u001b[43mfunction\u001b[49m\u001b[43m(\u001b[49m\u001b[38;5;241;43m*\u001b[39;49m\u001b[43margs\u001b[49m\u001b[43m,\u001b[49m\u001b[43m \u001b[49m\u001b[38;5;241;43m*\u001b[39;49m\u001b[38;5;241;43m*\u001b[39;49m\u001b[43mkwargs\u001b[49m\u001b[43m)\u001b[49m\n",
      "File \u001b[0;32m~/kalecollective/greenlastmile/cargo-bike-analysis/.venv/lib/python3.10/site-packages/polars/lazyframe/frame.py:1744\u001b[0m, in \u001b[0;36mLazyFrame.collect\u001b[0;34m(self, type_coercion, predicate_pushdown, projection_pushdown, simplify_expression, slice_pushdown, comm_subplan_elim, comm_subexpr_elim, no_optimization, streaming, _eager)\u001b[0m\n\u001b[1;32m   1731\u001b[0m     comm_subplan_elim \u001b[38;5;241m=\u001b[39m \u001b[38;5;28;01mFalse\u001b[39;00m\n\u001b[1;32m   1733\u001b[0m ldf \u001b[38;5;241m=\u001b[39m \u001b[38;5;28mself\u001b[39m\u001b[38;5;241m.\u001b[39m_ldf\u001b[38;5;241m.\u001b[39moptimization_toggle(\n\u001b[1;32m   1734\u001b[0m     type_coercion,\n\u001b[1;32m   1735\u001b[0m     predicate_pushdown,\n\u001b[0;32m   (...)\u001b[0m\n\u001b[1;32m   1742\u001b[0m     _eager,\n\u001b[1;32m   1743\u001b[0m )\n\u001b[0;32m-> 1744\u001b[0m \u001b[38;5;28;01mreturn\u001b[39;00m wrap_df(\u001b[43mldf\u001b[49m\u001b[38;5;241;43m.\u001b[39;49m\u001b[43mcollect\u001b[49m\u001b[43m(\u001b[49m\u001b[43m)\u001b[49m)\n",
      "\u001b[0;31mColumnNotFoundError\u001b[0m: city == 'london'"
     ]
    }
   ],
   "source": [
    "# check how many % of deliveries are longer than 100m in brussels and london in the polars dataframe\n",
    "parking_df.filter(pl.col(\"city\") == 'london').filter(pl.col(\"parking_distance\") > 100).shape[\n",
    "    0\n",
    "] / parking_df.filter(pl.col(\"city\") == 'london').shape[0]"
   ]
  },
  {
   "cell_type": "markdown",
   "metadata": {},
   "source": [
    "## Group the Parking Distance by City\n"
   ]
  },
  {
   "cell_type": "code",
   "execution_count": 6,
   "metadata": {},
   "outputs": [
    {
     "name": "stdout",
     "output_type": "stream",
     "text": [
      "\\begin{tabular}{lrrrrrrr}\n",
      "\\toprule\n",
      "city & count & mean_parking_distance & std_parking_distance & parking_distance_10 & parking_distance_50 & parking_distance_90 & parking_distance \\\\\n",
      "\\midrule\n",
      "Brussels, Belgium & 12071 & 31.5 & 31.2 & 10.1 & 22.1 & 61.4 & 250.2 \\\\\n",
      "London, UK & 9592 & 29.1 & 25.2 & 10.3 & 21.4 & 60.5 & 749.8 \\\\\n",
      "\\bottomrule\n",
      "\\end{tabular}\n",
      "\n"
     ]
    }
   ],
   "source": [
    "print(\n",
    "    parking_df.group_by(\"city\")\n",
    "    .agg(\n",
    "        pl.count(),\n",
    "        pl.col(\"parking_distance\").mean().alias(\"mean_parking_distance\"),\n",
    "        pl.col(\"parking_distance\").std().alias(\"std_parking_distance\"),\n",
    "        pl.col(\"parking_distance\").quantile(0.1).alias(\"parking_distance_10\"),\n",
    "        pl.col(\"parking_distance\").quantile(0.5).alias(\"parking_distance_50\"),\n",
    "        pl.col(\"parking_distance\").quantile(0.9).alias(\"parking_distance_90\"),\n",
    "        pl.col(\"parking_distance\").max().alias(\"parking_distance\"),\n",
    "    )\n",
    "    .sort(\"city\")\n",
    "    .with_columns(pl.col(\"city\").str.split(\", \").list.get(1).alias(\"country\"))\n",
    "    .sort([\"country\", \"city\"])\n",
    "    .drop(\"country\")\n",
    "    .to_pandas()\n",
    "    .round(1)\n",
    "    .to_latex(\n",
    "        float_format=\"%.1f\",\n",
    "        index=False,\n",
    "    )\n",
    ")"
   ]
  },
  {
   "cell_type": "markdown",
   "metadata": {},
   "source": [
    "### Statistical Tests\n"
   ]
  },
  {
   "cell_type": "code",
   "execution_count": 7,
   "metadata": {},
   "outputs": [
    {
     "name": "stdout",
     "output_type": "stream",
     "text": [
      "$U=58988046, p < 0.02$\n"
     ]
    }
   ],
   "source": [
    "from scipy.stats import mannwhitneyu\n",
    "\n",
    "\n",
    "res = mannwhitneyu(\n",
    "    parking_df.filter(pl.col(\"city\").str.contains(\"Brussels\"))[\"parking_distance\"],\n",
    "    parking_df.filter(pl.col(\"city\").str.contains(\"London\"))[\"parking_distance\"],\n",
    "    alternative=\"two-sided\",\n",
    ")\n",
    "\n",
    "\n",
    "# science format the statistic\n",
    "print(f\"$U={res.statistic:.0f}, p < {res.pvalue:.2f}$\")"
   ]
  },
  {
   "cell_type": "markdown",
   "metadata": {},
   "source": [
    "## Compare Clusters\n"
   ]
  },
  {
   "cell_type": "code",
   "execution_count": 8,
   "metadata": {},
   "outputs": [],
   "source": [
    "from scikit_posthocs import posthoc_conover, sign_plot\n",
    "from scipy.stats import kruskal\n",
    "\n",
    "\n",
    "def get_posthoc_score(\n",
    "    city, parking_distance=\"parking_distance\", cluster_col=\"cluster\", p_adjust=\"holm\"\n",
    "):\n",
    "    city_df = parking_df.filter(pl.col(\"city\").str.contains(city))\n",
    "    # ordering = (\n",
    "    #     city_df.group_by(\"cluster\")\n",
    "    #     .agg(pl.col(service_time_col).mean())\n",
    "    #     .sort(service_time_col, descending=True)\n",
    "    # )\n",
    "    # ordering = ordering[cluster_col].to_list()\n",
    "\n",
    "    # create a dataframe with the cluster and the service time\n",
    "    df = city_df[[cluster_col, parking_distance]].to_pandas()\n",
    "\n",
    "    # run the posthocs test\n",
    "    return posthoc_conover(\n",
    "        df, val_col=parking_distance, group_col=cluster_col, p_adjust=p_adjust\n",
    "    ), kruskal(*(_df[parking_distance].values for _, _df in df.groupby(cluster_col)))"
   ]
  },
  {
   "cell_type": "code",
   "execution_count": 11,
   "metadata": {},
   "outputs": [
    {
     "name": "stdout",
     "output_type": "stream",
     "text": [
      "KruskalResult(statistic=15.371067152454682, pvalue=0.0015254975529590486)\n"
     ]
    },
    {
     "data": {
      "text/html": [
       "<div>\n",
       "<style scoped>\n",
       "    .dataframe tbody tr th:only-of-type {\n",
       "        vertical-align: middle;\n",
       "    }\n",
       "\n",
       "    .dataframe tbody tr th {\n",
       "        vertical-align: top;\n",
       "    }\n",
       "\n",
       "    .dataframe thead th {\n",
       "        text-align: right;\n",
       "    }\n",
       "</style>\n",
       "<table border=\"1\" class=\"dataframe\">\n",
       "  <thead>\n",
       "    <tr style=\"text-align: right;\">\n",
       "      <th></th>\n",
       "      <th>0</th>\n",
       "      <th>1</th>\n",
       "      <th>2</th>\n",
       "      <th>3</th>\n",
       "    </tr>\n",
       "  </thead>\n",
       "  <tbody>\n",
       "    <tr>\n",
       "      <th>0</th>\n",
       "      <td>1.000</td>\n",
       "      <td>0.258</td>\n",
       "      <td>0.001</td>\n",
       "      <td>0.166</td>\n",
       "    </tr>\n",
       "    <tr>\n",
       "      <th>1</th>\n",
       "      <td>0.258</td>\n",
       "      <td>1.000</td>\n",
       "      <td>0.003</td>\n",
       "      <td>0.296</td>\n",
       "    </tr>\n",
       "    <tr>\n",
       "      <th>2</th>\n",
       "      <td>0.001</td>\n",
       "      <td>0.003</td>\n",
       "      <td>1.000</td>\n",
       "      <td>0.039</td>\n",
       "    </tr>\n",
       "    <tr>\n",
       "      <th>3</th>\n",
       "      <td>0.166</td>\n",
       "      <td>0.296</td>\n",
       "      <td>0.039</td>\n",
       "      <td>1.000</td>\n",
       "    </tr>\n",
       "  </tbody>\n",
       "</table>\n",
       "</div>"
      ],
      "text/plain": [
       "       0      1      2      3\n",
       "0  1.000  0.258  0.001  0.166\n",
       "1  0.258  1.000  0.003  0.296\n",
       "2  0.001  0.003  1.000  0.039\n",
       "3  0.166  0.296  0.039  1.000"
      ]
     },
     "execution_count": 11,
     "metadata": {},
     "output_type": "execute_result"
    },
    {
     "data": {
      "image/png": "[encoded data removed]",
      "text/plain": [
       "<Figure size 640x480 with 2 Axes>"
      ]
     },
     "metadata": {},
     "output_type": "display_data"
    }
   ],
   "source": [
    "durbin_res, kruskal_res = get_posthoc_score(\"Brussels\")\n",
    "\n",
    "sign_plot(\n",
    "    durbin_res,\n",
    ")\n",
    "\n",
    "print(kruskal_res)\n",
    "durbin_res.round(3)"
   ]
  },
  {
   "cell_type": "code",
   "execution_count": 14,
   "metadata": {},
   "outputs": [
    {
     "data": {
      "text/html": [
       "<div>\n",
       "<style scoped>\n",
       "    .dataframe tbody tr th:only-of-type {\n",
       "        vertical-align: middle;\n",
       "    }\n",
       "\n",
       "    .dataframe tbody tr th {\n",
       "        vertical-align: top;\n",
       "    }\n",
       "\n",
       "    .dataframe thead th {\n",
       "        text-align: right;\n",
       "    }\n",
       "</style>\n",
       "<table border=\"1\" class=\"dataframe\">\n",
       "  <thead>\n",
       "    <tr style=\"text-align: right;\">\n",
       "      <th></th>\n",
       "      <th>city</th>\n",
       "      <th>cluster</th>\n",
       "      <th>count</th>\n",
       "      <th>mean_parking_distance</th>\n",
       "      <th>std_parking_distance</th>\n",
       "      <th>parking_distance_10</th>\n",
       "      <th>parking_distance_50</th>\n",
       "      <th>parking_distance_90</th>\n",
       "      <th>parking_distance</th>\n",
       "    </tr>\n",
       "  </thead>\n",
       "  <tbody>\n",
       "    <tr>\n",
       "      <th>0</th>\n",
       "      <td>Brussels, Belgium</td>\n",
       "      <td>2</td>\n",
       "      <td>381</td>\n",
       "      <td>38.0</td>\n",
       "      <td>36.6</td>\n",
       "      <td>11.9</td>\n",
       "      <td>24.4</td>\n",
       "      <td>102.0</td>\n",
       "      <td>220.0</td>\n",
       "    </tr>\n",
       "    <tr>\n",
       "      <th>1</th>\n",
       "      <td>Brussels, Belgium</td>\n",
       "      <td>1</td>\n",
       "      <td>9707</td>\n",
       "      <td>31.4</td>\n",
       "      <td>31.0</td>\n",
       "      <td>9.9</td>\n",
       "      <td>22.1</td>\n",
       "      <td>61.9</td>\n",
       "      <td>250.1</td>\n",
       "    </tr>\n",
       "    <tr>\n",
       "      <th>2</th>\n",
       "      <td>Brussels, Belgium</td>\n",
       "      <td>3</td>\n",
       "      <td>1433</td>\n",
       "      <td>30.5</td>\n",
       "      <td>29.1</td>\n",
       "      <td>11.3</td>\n",
       "      <td>22.5</td>\n",
       "      <td>55.1</td>\n",
       "      <td>242.7</td>\n",
       "    </tr>\n",
       "    <tr>\n",
       "      <th>3</th>\n",
       "      <td>Brussels, Belgium</td>\n",
       "      <td>0</td>\n",
       "      <td>550</td>\n",
       "      <td>31.0</td>\n",
       "      <td>34.4</td>\n",
       "      <td>11.3</td>\n",
       "      <td>20.9</td>\n",
       "      <td>57.8</td>\n",
       "      <td>250.2</td>\n",
       "    </tr>\n",
       "    <tr>\n",
       "      <th>4</th>\n",
       "      <td>London, UK</td>\n",
       "      <td>2</td>\n",
       "      <td>937</td>\n",
       "      <td>23.8</td>\n",
       "      <td>17.1</td>\n",
       "      <td>9.4</td>\n",
       "      <td>19.1</td>\n",
       "      <td>46.0</td>\n",
       "      <td>122.9</td>\n",
       "    </tr>\n",
       "    <tr>\n",
       "      <th>5</th>\n",
       "      <td>London, UK</td>\n",
       "      <td>1</td>\n",
       "      <td>4208</td>\n",
       "      <td>27.5</td>\n",
       "      <td>26.0</td>\n",
       "      <td>9.7</td>\n",
       "      <td>20.0</td>\n",
       "      <td>55.6</td>\n",
       "      <td>749.8</td>\n",
       "    </tr>\n",
       "    <tr>\n",
       "      <th>6</th>\n",
       "      <td>London, UK</td>\n",
       "      <td>0</td>\n",
       "      <td>3693</td>\n",
       "      <td>33.2</td>\n",
       "      <td>26.6</td>\n",
       "      <td>11.2</td>\n",
       "      <td>24.9</td>\n",
       "      <td>69.3</td>\n",
       "      <td>742.5</td>\n",
       "    </tr>\n",
       "    <tr>\n",
       "      <th>7</th>\n",
       "      <td>London, UK</td>\n",
       "      <td>3</td>\n",
       "      <td>754</td>\n",
       "      <td>24.6</td>\n",
       "      <td>18.3</td>\n",
       "      <td>10.9</td>\n",
       "      <td>19.0</td>\n",
       "      <td>44.2</td>\n",
       "      <td>130.2</td>\n",
       "    </tr>\n",
       "  </tbody>\n",
       "</table>\n",
       "</div>"
      ],
      "text/plain": [
       "                city  cluster  count  mean_parking_distance  \\\n",
       "0  Brussels, Belgium        2    381                   38.0   \n",
       "1  Brussels, Belgium        1   9707                   31.4   \n",
       "2  Brussels, Belgium        3   1433                   30.5   \n",
       "3  Brussels, Belgium        0    550                   31.0   \n",
       "4         London, UK        2    937                   23.8   \n",
       "5         London, UK        1   4208                   27.5   \n",
       "6         London, UK        0   3693                   33.2   \n",
       "7         London, UK        3    754                   24.6   \n",
       "\n",
       "   std_parking_distance  parking_distance_10  parking_distance_50  \\\n",
       "0                  36.6                 11.9                 24.4   \n",
       "1                  31.0                  9.9                 22.1   \n",
       "2                  29.1                 11.3                 22.5   \n",
       "3                  34.4                 11.3                 20.9   \n",
       "4                  17.1                  9.4                 19.1   \n",
       "5                  26.0                  9.7                 20.0   \n",
       "6                  26.6                 11.2                 24.9   \n",
       "7                  18.3                 10.9                 19.0   \n",
       "\n",
       "   parking_distance_90  parking_distance  \n",
       "0                102.0             220.0  \n",
       "1                 61.9             250.1  \n",
       "2                 55.1             242.7  \n",
       "3                 57.8             250.2  \n",
       "4                 46.0             122.9  \n",
       "5                 55.6             749.8  \n",
       "6                 69.3             742.5  \n",
       "7                 44.2             130.2  "
      ]
     },
     "execution_count": 14,
     "metadata": {},
     "output_type": "execute_result"
    }
   ],
   "source": [
    "# print(\n",
    "(\n",
    "    parking_df.group_by(\"city\", \"cluster\")\n",
    "    .agg(\n",
    "        pl.count(),\n",
    "        pl.col(\"parking_distance\").mean().alias(\"mean_parking_distance\"),\n",
    "        pl.col(\"parking_distance\").std().alias(\"std_parking_distance\"),\n",
    "        pl.col(\"parking_distance\").quantile(0.1).alias(\"parking_distance_10\"),\n",
    "        pl.col(\"parking_distance\").quantile(0.5).alias(\"parking_distance_50\"),\n",
    "        pl.col(\"parking_distance\").quantile(0.9).alias(\"parking_distance_90\"),\n",
    "        pl.col(\"parking_distance\").max().alias(\"parking_distance\"),\n",
    "    )\n",
    "    .sort(\"city\")\n",
    "    .with_columns(pl.col(\"city\").str.split(\", \").list.get(1).alias(\"country\"))\n",
    "    .sort([\"country\", \"city\"])\n",
    "    .drop(\"country\")\n",
    "    .to_pandas()\n",
    "    .round(1)\n",
    ")\n",
    "# .to_latex(\n",
    "#     float_format=\"%.1f\",\n",
    "#     index=False,\n",
    "# )"
   ]
  },
  {
   "cell_type": "code",
   "execution_count": 12,
   "metadata": {},
   "outputs": [
    {
     "name": "stdout",
     "output_type": "stream",
     "text": [
      "KruskalResult(statistic=282.82401884458875, pvalue=5.185257654225412e-61)\n"
     ]
    },
    {
     "data": {
      "text/html": [
       "<div>\n",
       "<style scoped>\n",
       "    .dataframe tbody tr th:only-of-type {\n",
       "        vertical-align: middle;\n",
       "    }\n",
       "\n",
       "    .dataframe tbody tr th {\n",
       "        vertical-align: top;\n",
       "    }\n",
       "\n",
       "    .dataframe thead th {\n",
       "        text-align: right;\n",
       "    }\n",
       "</style>\n",
       "<table border=\"1\" class=\"dataframe\">\n",
       "  <thead>\n",
       "    <tr style=\"text-align: right;\">\n",
       "      <th></th>\n",
       "      <th>0</th>\n",
       "      <th>1</th>\n",
       "      <th>2</th>\n",
       "      <th>3</th>\n",
       "    </tr>\n",
       "  </thead>\n",
       "  <tbody>\n",
       "    <tr>\n",
       "      <th>0</th>\n",
       "      <td>1.0</td>\n",
       "      <td>0.000</td>\n",
       "      <td>0.000</td>\n",
       "      <td>0.000</td>\n",
       "    </tr>\n",
       "    <tr>\n",
       "      <th>1</th>\n",
       "      <td>0.0</td>\n",
       "      <td>1.000</td>\n",
       "      <td>0.002</td>\n",
       "      <td>0.068</td>\n",
       "    </tr>\n",
       "    <tr>\n",
       "      <th>2</th>\n",
       "      <td>0.0</td>\n",
       "      <td>0.002</td>\n",
       "      <td>1.000</td>\n",
       "      <td>0.423</td>\n",
       "    </tr>\n",
       "    <tr>\n",
       "      <th>3</th>\n",
       "      <td>0.0</td>\n",
       "      <td>0.068</td>\n",
       "      <td>0.423</td>\n",
       "      <td>1.000</td>\n",
       "    </tr>\n",
       "  </tbody>\n",
       "</table>\n",
       "</div>"
      ],
      "text/plain": [
       "     0      1      2      3\n",
       "0  1.0  0.000  0.000  0.000\n",
       "1  0.0  1.000  0.002  0.068\n",
       "2  0.0  0.002  1.000  0.423\n",
       "3  0.0  0.068  0.423  1.000"
      ]
     },
     "execution_count": 12,
     "metadata": {},
     "output_type": "execute_result"
    },
    {
     "data": {
      "image/png": "[encoded data removed]",
      "text/plain": [
       "<Figure size 640x480 with 2 Axes>"
      ]
     },
     "metadata": {},
     "output_type": "display_data"
    }
   ],
   "source": [
    "durbin_res, kruskal_res = get_posthoc_score(\"London\")\n",
    "\n",
    "sign_plot(\n",
    "    durbin_res,\n",
    ")\n",
    "\n",
    "print(kruskal_res)\n",
    "durbin_res.round(3)"
   ]
  }
 ],
 "metadata": {
  "kernelspec": {
   "display_name": "cargo-bike-analysis-11",
   "language": "python",
   "name": "python3"
  },
  "language_info": {
   "codemirror_mode": {
    "name": "ipython",
    "version": 3
   },
   "file_extension": ".py",
   "mimetype": "text/x-python",
   "name": "python",
   "nbconvert_exporter": "python",
   "pygments_lexer": "ipython3",
   "version": "3.10.12"
  }
 },
 "nbformat": 4,
 "nbformat_minor": 2
}
