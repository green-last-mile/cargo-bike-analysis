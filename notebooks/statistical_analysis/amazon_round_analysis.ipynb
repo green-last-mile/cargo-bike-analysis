{
 "cells": [
  {
   "cell_type": "code",
   "execution_count": 1,
   "metadata": {},
   "outputs": [],
   "source": [
    "%load_ext autoreload\n",
    "%autoreload 2"
   ]
  },
  {
   "cell_type": "markdown",
   "metadata": {},
   "source": [
    "# Open the Configs\n"
   ]
  },
  {
   "cell_type": "code",
   "execution_count": 2,
   "metadata": {},
   "outputs": [
    {
     "name": "stderr",
     "output_type": "stream",
     "text": [
      "/Users/max/.pyenv/versions/3.9.10/envs/cargo-bike-analysis/lib/python3.9/site-packages/tqdm/auto.py:21: TqdmWarning: IProgress not found. Please update jupyter and ipywidgets. See https://ipywidgets.readthedocs.io/en/stable/user_install.html\n",
      "  from .autonotebook import tqdm as notebook_tqdm\n"
     ]
    }
   ],
   "source": [
    "import os\n",
    "import sys\n",
    "from pathlib import Path\n",
    "\n",
    "# add the\n",
    "ROOT = Path(os.getcwd())\n",
    "while not (ROOT / \".git\").exists():\n",
    "    ROOT = ROOT.parent\n",
    "\n",
    "sys.path.append(str(ROOT))\n",
    "\n",
    "from src.config import CargoBikeConfig, load_config\n",
    "from src.osm_tags import build_tag_filter\n",
    "\n",
    "\n",
    "import polars as pl\n",
    "import geopolars as gpl\n",
    "import geopandas as gpd\n",
    "import pandas as pd"
   ]
  },
  {
   "cell_type": "markdown",
   "metadata": {},
   "source": [
    "## Load Config\n"
   ]
  },
  {
   "cell_type": "code",
   "execution_count": 3,
   "metadata": {},
   "outputs": [],
   "source": [
    "config = load_config(ROOT / \"config\" / \"paper.yaml\")"
   ]
  },
  {
   "cell_type": "code",
   "execution_count": 4,
   "metadata": {},
   "outputs": [
    {
     "data": {
      "text/html": [
       "<div>\n",
       "<style scoped>\n",
       "    .dataframe tbody tr th:only-of-type {\n",
       "        vertical-align: middle;\n",
       "    }\n",
       "\n",
       "    .dataframe tbody tr th {\n",
       "        vertical-align: top;\n",
       "    }\n",
       "\n",
       "    .dataframe thead th {\n",
       "        text-align: right;\n",
       "    }\n",
       "</style>\n",
       "<table border=\"1\" class=\"dataframe\">\n",
       "  <thead>\n",
       "    <tr style=\"text-align: right;\">\n",
       "      <th></th>\n",
       "      <th>geometry</th>\n",
       "      <th>is_city</th>\n",
       "      <th>city</th>\n",
       "    </tr>\n",
       "    <tr>\n",
       "      <th>region_id</th>\n",
       "      <th></th>\n",
       "      <th></th>\n",
       "      <th></th>\n",
       "    </tr>\n",
       "  </thead>\n",
       "  <tbody>\n",
       "    <tr>\n",
       "      <th>892a339a5afffff</th>\n",
       "      <td>POLYGON ((-71.13572 42.23376, -71.13794 42.232...</td>\n",
       "      <td>True</td>\n",
       "      <td>Boston, USA</td>\n",
       "    </tr>\n",
       "    <tr>\n",
       "      <th>892a3066a3bffff</th>\n",
       "      <td>POLYGON ((-71.08114 42.30902, -71.08337 42.308...</td>\n",
       "      <td>True</td>\n",
       "      <td>Boston, USA</td>\n",
       "    </tr>\n",
       "    <tr>\n",
       "      <th>892a302a567ffff</th>\n",
       "      <td>POLYGON ((-70.82381 42.36269, -70.82604 42.361...</td>\n",
       "      <td>True</td>\n",
       "      <td>Boston, USA</td>\n",
       "    </tr>\n",
       "    <tr>\n",
       "      <th>892a3066e17ffff</th>\n",
       "      <td>POLYGON ((-71.06072 42.33323, -71.06295 42.332...</td>\n",
       "      <td>True</td>\n",
       "      <td>Boston, USA</td>\n",
       "    </tr>\n",
       "    <tr>\n",
       "      <th>892a3066b3bffff</th>\n",
       "      <td>POLYGON ((-71.06614 42.29023, -71.06837 42.289...</td>\n",
       "      <td>True</td>\n",
       "      <td>Boston, USA</td>\n",
       "    </tr>\n",
       "  </tbody>\n",
       "</table>\n",
       "</div>"
      ],
      "text/plain": [
       "                                                          geometry  is_city  \\\n",
       "region_id                                                                     \n",
       "892a339a5afffff  POLYGON ((-71.13572 42.23376, -71.13794 42.232...     True   \n",
       "892a3066a3bffff  POLYGON ((-71.08114 42.30902, -71.08337 42.308...     True   \n",
       "892a302a567ffff  POLYGON ((-70.82381 42.36269, -70.82604 42.361...     True   \n",
       "892a3066e17ffff  POLYGON ((-71.06072 42.33323, -71.06295 42.332...     True   \n",
       "892a3066b3bffff  POLYGON ((-71.06614 42.29023, -71.06837 42.289...     True   \n",
       "\n",
       "                        city  \n",
       "region_id                     \n",
       "892a339a5afffff  Boston, USA  \n",
       "892a3066a3bffff  Boston, USA  \n",
       "892a302a567ffff  Boston, USA  \n",
       "892a3066e17ffff  Boston, USA  \n",
       "892a3066b3bffff  Boston, USA  "
      ]
     },
     "execution_count": 4,
     "metadata": {},
     "output_type": "execute_result"
    }
   ],
   "source": [
    "h3_df = pd.concat(\n",
    "    [gpd.read_parquet(city.h3_file).assign(city=city.name) for city in config.Cities],\n",
    "    axis=0,\n",
    ").query(\"is_city\")\n",
    "\n",
    "h3_df.head()"
   ]
  },
  {
   "cell_type": "markdown",
   "metadata": {},
   "source": [
    "## Read in the Amazon DF w/ Depot\n"
   ]
  },
  {
   "cell_type": "code",
   "execution_count": 5,
   "metadata": {},
   "outputs": [
    {
     "data": {
      "text/html": [
       "<div><style>\n",
       ".dataframe > thead > tr > th,\n",
       ".dataframe > tbody > tr > td {\n",
       "  text-align: right;\n",
       "  white-space: pre-wrap;\n",
       "}\n",
       "</style>\n",
       "<small>shape: (5, 22)</small><table border=\"1\" class=\"dataframe\"><thead><tr><th>stop_id</th><th>route_id</th><th>station_code</th><th>executor_capacity_cm3</th><th>lat</th><th>lng</th><th>type</th><th>dataset</th><th>h3</th><th>package_num</th><th>has_time_window</th><th>planned_service_time</th><th>width</th><th>depth</th><th>height</th><th>volume</th><th>status</th><th>order</th><th>travel_time</th><th>arrival_datetime</th><th>time_of_day</th><th>city</th></tr><tr><td>str</td><td>str</td><td>str</td><td>f64</td><td>f64</td><td>f64</td><td>str</td><td>str</td><td>str</td><td>u32</td><td>bool</td><td>f64</td><td>f64</td><td>f64</td><td>f64</td><td>f64</td><td>bool</td><td>i64</td><td>f32</td><td>datetime[μs, EST]</td><td>u32</td><td>str</td></tr></thead><tbody><tr><td>&quot;MB&quot;</td><td>&quot;RouteID_77ad62…</td><td>&quot;DBO3&quot;</td><td>3.313071e6</td><td>42.139891</td><td>-71.494346</td><td>&quot;Station&quot;</td><td>&quot;almrrc2021-dat…</td><td>&quot;892a33d59abfff…</td><td>null</td><td>null</td><td>null</td><td>null</td><td>null</td><td>null</td><td>null</td><td>true</td><td>0</td><td>0.0</td><td>null</td><td>null</td><td>&quot;Boston, USA&quot;</td></tr><tr><td>&quot;TM&quot;</td><td>&quot;RouteID_77ad62…</td><td>&quot;DBO3&quot;</td><td>3.313071e6</td><td>42.036425</td><td>-71.625643</td><td>&quot;Dropoff&quot;</td><td>&quot;almrrc2021-dat…</td><td>&quot;892a33c58c3fff…</td><td>1</td><td>false</td><td>35.0</td><td>27.9</td><td>43.2</td><td>7.6</td><td>9160.128</td><td>true</td><td>1</td><td>2237.5</td><td>2018-08-15 08:40:20.500 EST</td><td>31220</td><td>&quot;Boston, USA&quot;</td></tr><tr><td>&quot;VA&quot;</td><td>&quot;RouteID_77ad62…</td><td>&quot;DBO3&quot;</td><td>3.313071e6</td><td>42.033648</td><td>-71.627596</td><td>&quot;Dropoff&quot;</td><td>&quot;almrrc2021-dat…</td><td>&quot;892a33c58cffff…</td><td>1</td><td>false</td><td>155.0</td><td>26.7</td><td>33.0</td><td>20.3</td><td>17886.33</td><td>true</td><td>2</td><td>30.6</td><td>2018-08-15 08:43:26.100 EST</td><td>31406</td><td>&quot;Boston, USA&quot;</td></tr><tr><td>&quot;NL&quot;</td><td>&quot;RouteID_77ad62…</td><td>&quot;DBO3&quot;</td><td>3.313071e6</td><td>42.03251</td><td>-71.629269</td><td>&quot;Dropoff&quot;</td><td>&quot;almrrc2021-dat…</td><td>&quot;892a33c5857fff…</td><td>2</td><td>false</td><td>111.0</td><td>28.2</td><td>33.3</td><td>6.7</td><td>13403.088</td><td>true</td><td>3</td><td>15.9</td><td>2018-08-15 08:45:33 EST</td><td>31533</td><td>&quot;Boston, USA&quot;</td></tr><tr><td>&quot;EC&quot;</td><td>&quot;RouteID_77ad62…</td><td>&quot;DBO3&quot;</td><td>3.313071e6</td><td>42.032568</td><td>-71.62917</td><td>&quot;Dropoff&quot;</td><td>&quot;almrrc2021-dat…</td><td>&quot;892a33c581bfff…</td><td>2</td><td>false</td><td>93.0</td><td>32.4</td><td>48.3</td><td>21.55</td><td>67080.006</td><td>true</td><td>4</td><td>1.6</td><td>2018-08-15 08:47:07.600 EST</td><td>31627</td><td>&quot;Boston, USA&quot;</td></tr></tbody></table></div>"
      ],
      "text/plain": [
       "shape: (5, 22)\n",
       "┌─────────┬────────────┬───────────┬───────────┬───┬───────────┬───────────┬───────────┬───────────┐\n",
       "│ stop_id ┆ route_id   ┆ station_c ┆ executor_ ┆ … ┆ travel_ti ┆ arrival_d ┆ time_of_d ┆ city      │\n",
       "│ ---     ┆ ---        ┆ ode       ┆ capacity_ ┆   ┆ me        ┆ atetime   ┆ ay        ┆ ---       │\n",
       "│ str     ┆ str        ┆ ---       ┆ cm3       ┆   ┆ ---       ┆ ---       ┆ ---       ┆ str       │\n",
       "│         ┆            ┆ str       ┆ ---       ┆   ┆ f32       ┆ datetime[ ┆ u32       ┆           │\n",
       "│         ┆            ┆           ┆ f64       ┆   ┆           ┆ μs, EST]  ┆           ┆           │\n",
       "╞═════════╪════════════╪═══════════╪═══════════╪═══╪═══════════╪═══════════╪═══════════╪═══════════╡\n",
       "│ MB      ┆ RouteID_77 ┆ DBO3      ┆ 3.313071e ┆ … ┆ 0.0       ┆ null      ┆ null      ┆ Boston,   │\n",
       "│         ┆ ad62b1-d7f ┆           ┆ 6         ┆   ┆           ┆           ┆           ┆ USA       │\n",
       "│         ┆ f-4bd2-ad0 ┆           ┆           ┆   ┆           ┆           ┆           ┆           │\n",
       "│         ┆ 6-…        ┆           ┆           ┆   ┆           ┆           ┆           ┆           │\n",
       "│ TM      ┆ RouteID_77 ┆ DBO3      ┆ 3.313071e ┆ … ┆ 2237.5    ┆ 2018-08-1 ┆ 31220     ┆ Boston,   │\n",
       "│         ┆ ad62b1-d7f ┆           ┆ 6         ┆   ┆           ┆ 5 08:40:2 ┆           ┆ USA       │\n",
       "│         ┆ f-4bd2-ad0 ┆           ┆           ┆   ┆           ┆ 0.500 EST ┆           ┆           │\n",
       "│         ┆ 6-…        ┆           ┆           ┆   ┆           ┆           ┆           ┆           │\n",
       "│ VA      ┆ RouteID_77 ┆ DBO3      ┆ 3.313071e ┆ … ┆ 30.6      ┆ 2018-08-1 ┆ 31406     ┆ Boston,   │\n",
       "│         ┆ ad62b1-d7f ┆           ┆ 6         ┆   ┆           ┆ 5 08:43:2 ┆           ┆ USA       │\n",
       "│         ┆ f-4bd2-ad0 ┆           ┆           ┆   ┆           ┆ 6.100 EST ┆           ┆           │\n",
       "│         ┆ 6-…        ┆           ┆           ┆   ┆           ┆           ┆           ┆           │\n",
       "│ NL      ┆ RouteID_77 ┆ DBO3      ┆ 3.313071e ┆ … ┆ 15.9      ┆ 2018-08-1 ┆ 31533     ┆ Boston,   │\n",
       "│         ┆ ad62b1-d7f ┆           ┆ 6         ┆   ┆           ┆ 5         ┆           ┆ USA       │\n",
       "│         ┆ f-4bd2-ad0 ┆           ┆           ┆   ┆           ┆ 08:45:33  ┆           ┆           │\n",
       "│         ┆ 6-…        ┆           ┆           ┆   ┆           ┆ EST       ┆           ┆           │\n",
       "│ EC      ┆ RouteID_77 ┆ DBO3      ┆ 3.313071e ┆ … ┆ 1.6       ┆ 2018-08-1 ┆ 31627     ┆ Boston,   │\n",
       "│         ┆ ad62b1-d7f ┆           ┆ 6         ┆   ┆           ┆ 5 08:47:0 ┆           ┆ USA       │\n",
       "│         ┆ f-4bd2-ad0 ┆           ┆           ┆   ┆           ┆ 7.600 EST ┆           ┆           │\n",
       "│         ┆ 6-…        ┆           ┆           ┆   ┆           ┆           ┆           ┆           │\n",
       "└─────────┴────────────┴───────────┴───────────┴───┴───────────┴───────────┴───────────┴───────────┘"
      ]
     },
     "execution_count": 5,
     "metadata": {},
     "output_type": "execute_result"
    }
   ],
   "source": [
    "route_df = pl.read_parquet(\n",
    "    ROOT / \"data\" / \"service_time\" / \"amazon_service_time_w_depot.parquet\"\n",
    ")\n",
    "route_df.head()"
   ]
  },
  {
   "cell_type": "markdown",
   "metadata": {},
   "source": [
    "## Classify a Round As Being in City Limits\n"
   ]
  },
  {
   "cell_type": "code",
   "execution_count": 6,
   "metadata": {},
   "outputs": [],
   "source": [
    "route_df = route_df.join(\n",
    "    pl.DataFrame(\n",
    "        h3_df.reset_index()[\n",
    "            [\n",
    "                \"region_id\",\n",
    "                \"is_city\",\n",
    "            ]\n",
    "        ]\n",
    "    ),\n",
    "    left_on=\"h3\",\n",
    "    right_on=\"region_id\",\n",
    "    how=\"left\",\n",
    ")"
   ]
  },
  {
   "cell_type": "markdown",
   "metadata": {},
   "source": [
    "### Slice the Routes to Find the Round Time\n"
   ]
  },
  {
   "cell_type": "code",
   "execution_count": 8,
   "metadata": {},
   "outputs": [],
   "source": [
    "route_df = (\n",
    "    route_df.with_columns(pl.col(\"is_city\").fill_null(False))\n",
    "    .with_columns(\n",
    "        #  this is because DEPOTS don't matter for the round analysis\n",
    "        pl.when(pl.col(\"order\") < 1)\n",
    "        .then(pl.lit(True))\n",
    "        .otherwise(pl.col(\"is_city\"))\n",
    "        .alias(\"is_city\")\n",
    "    )\n",
    "    .with_columns(pl.col(\"is_city\").all().over(\"route_id\").alias(\"is_city\"))\n",
    ")"
   ]
  },
  {
   "cell_type": "markdown",
   "metadata": {},
   "source": [
    "## Focus on Deliveries that Only Exist in City\n"
   ]
  },
  {
   "cell_type": "code",
   "execution_count": 9,
   "metadata": {},
   "outputs": [],
   "source": [
    "city_deliveries_df = route_df.filter(pl.col(\"is_city\"))"
   ]
  },
  {
   "cell_type": "markdown",
   "metadata": {},
   "source": [
    "### Find Round Summaries\n"
   ]
  },
  {
   "cell_type": "code",
   "execution_count": 10,
   "metadata": {},
   "outputs": [
    {
     "data": {
      "text/plain": [
       "['almrrc2021-data-evaluation', 'almrrc2021-data-training']"
      ]
     },
     "execution_count": 10,
     "metadata": {},
     "output_type": "execute_result"
    }
   ],
   "source": [
    "route_df[\"dataset\"].unique().to_list()"
   ]
  },
  {
   "cell_type": "code",
   "execution_count": 11,
   "metadata": {},
   "outputs": [
    {
     "data": {
      "text/html": [
       "<div>\n",
       "<style scoped>\n",
       "    .dataframe tbody tr th:only-of-type {\n",
       "        vertical-align: middle;\n",
       "    }\n",
       "\n",
       "    .dataframe tbody tr th {\n",
       "        vertical-align: top;\n",
       "    }\n",
       "\n",
       "    .dataframe thead th {\n",
       "        text-align: right;\n",
       "    }\n",
       "</style>\n",
       "<table border=\"1\" class=\"dataframe\">\n",
       "  <thead>\n",
       "    <tr style=\"text-align: right;\">\n",
       "      <th></th>\n",
       "      <th>route_id</th>\n",
       "      <th>package_num</th>\n",
       "      <th>planned_service_time</th>\n",
       "      <th>travel_time</th>\n",
       "      <th>deadhead_time</th>\n",
       "      <th>city</th>\n",
       "      <th>num_deliveries</th>\n",
       "    </tr>\n",
       "  </thead>\n",
       "  <tbody>\n",
       "    <tr>\n",
       "      <th>0</th>\n",
       "      <td>RouteID_1825cbd2-96d2-40e5-9492-e5bc91f84939</td>\n",
       "      <td>213</td>\n",
       "      <td>4.719639</td>\n",
       "      <td>1.451028</td>\n",
       "      <td>0.831194</td>\n",
       "      <td>Seattle, USA</td>\n",
       "      <td>115</td>\n",
       "    </tr>\n",
       "    <tr>\n",
       "      <th>1</th>\n",
       "      <td>RouteID_af090e7e-737e-425f-8894-4380344c8b69</td>\n",
       "      <td>154</td>\n",
       "      <td>6.110583</td>\n",
       "      <td>1.389056</td>\n",
       "      <td>1.216500</td>\n",
       "      <td>Seattle, USA</td>\n",
       "      <td>74</td>\n",
       "    </tr>\n",
       "    <tr>\n",
       "      <th>2</th>\n",
       "      <td>RouteID_7c69aa6c-a6db-46aa-8518-4a1e09e72839</td>\n",
       "      <td>258</td>\n",
       "      <td>5.931250</td>\n",
       "      <td>2.794111</td>\n",
       "      <td>0.877139</td>\n",
       "      <td>Chicago, USA</td>\n",
       "      <td>100</td>\n",
       "    </tr>\n",
       "    <tr>\n",
       "      <th>3</th>\n",
       "      <td>RouteID_0420e7f1-edbb-4850-bb74-4b862ee98317</td>\n",
       "      <td>205</td>\n",
       "      <td>4.611694</td>\n",
       "      <td>1.585583</td>\n",
       "      <td>0.702500</td>\n",
       "      <td>Austin, USA</td>\n",
       "      <td>120</td>\n",
       "    </tr>\n",
       "    <tr>\n",
       "      <th>4</th>\n",
       "      <td>RouteID_a3affc7f-18d6-44ba-9729-4151c20a556e</td>\n",
       "      <td>207</td>\n",
       "      <td>6.701389</td>\n",
       "      <td>0.755028</td>\n",
       "      <td>0.625278</td>\n",
       "      <td>Seattle, USA</td>\n",
       "      <td>52</td>\n",
       "    </tr>\n",
       "  </tbody>\n",
       "</table>\n",
       "</div>"
      ],
      "text/plain": [
       "                                       route_id  package_num  \\\n",
       "0  RouteID_1825cbd2-96d2-40e5-9492-e5bc91f84939          213   \n",
       "1  RouteID_af090e7e-737e-425f-8894-4380344c8b69          154   \n",
       "2  RouteID_7c69aa6c-a6db-46aa-8518-4a1e09e72839          258   \n",
       "3  RouteID_0420e7f1-edbb-4850-bb74-4b862ee98317          205   \n",
       "4  RouteID_a3affc7f-18d6-44ba-9729-4151c20a556e          207   \n",
       "\n",
       "   planned_service_time  travel_time  deadhead_time          city  \\\n",
       "0              4.719639     1.451028       0.831194  Seattle, USA   \n",
       "1              6.110583     1.389056       1.216500  Seattle, USA   \n",
       "2              5.931250     2.794111       0.877139  Chicago, USA   \n",
       "3              4.611694     1.585583       0.702500   Austin, USA   \n",
       "4              6.701389     0.755028       0.625278  Seattle, USA   \n",
       "\n",
       "   num_deliveries  \n",
       "0             115  \n",
       "1              74  \n",
       "2             100  \n",
       "3             120  \n",
       "4              52  "
      ]
     },
     "execution_count": 11,
     "metadata": {},
     "output_type": "execute_result"
    }
   ],
   "source": [
    "city_route_summary_df = (\n",
    "    city_deliveries_df\n",
    "    # .filter(\n",
    "    #     pl.col('dataset') == 'almrrc2021-data-training'\n",
    "    # )\n",
    "    .group_by(\n",
    "        \"route_id\",\n",
    "    ).agg(\n",
    "        pl.col(\"package_num\").sum(),\n",
    "        pl.col(\"planned_service_time\").sum() / 3600,\n",
    "        pl.col(\"travel_time\").filter(pl.col('order') > 1).sum() / 3600,\n",
    "        (pl.col(\"travel_time\").filter(pl.col(\"order\") <= 1).sum() / 3600).alias(\n",
    "            \"deadhead_time\"\n",
    "        ),\n",
    "        pl.col(\"city\").first(),\n",
    "        (pl.col('order') >= 1).sum().alias('num_deliveries'),\n",
    "    )\n",
    ")\n",
    "\n",
    "city_route_summary_df.head().to_pandas()"
   ]
  },
  {
   "cell_type": "markdown",
   "metadata": {},
   "source": [
    "### Groupby the City\n"
   ]
  },
  {
   "cell_type": "code",
   "execution_count": 13,
   "metadata": {},
   "outputs": [
    {
     "name": "stdout",
     "output_type": "stream",
     "text": [
      "\\begin{tabular}{lrrrrrr}\n",
      "\\toprule\n",
      "city & count & package_num & round_time & travel_time & planned_service_time & deadhead_time \\\\\n",
      "\\midrule\n",
      "Austin, USA & 157 & 237.1 & 7.5 & 2.3 & 4.6 & 0.7 \\\\\n",
      "Boston, USA & 174 & 219.2 & 9.0 & 3.0 & 5.1 & 0.9 \\\\\n",
      "Chicago, USA & 293 & 244.3 & 9.5 & 3.8 & 4.8 & 0.8 \\\\\n",
      "Seattle, USA & 507 & 213.1 & 7.8 & 1.6 & 5.3 & 0.9 \\\\\n",
      "\\bottomrule\n",
      "\\end{tabular}\n",
      "\n"
     ]
    }
   ],
   "source": [
    "print(\n",
    "    city_route_summary_df.group_by(\"city\")\n",
    "    .agg(\n",
    "        pl.count(),\n",
    "        pl.col(\"package_num\").mean(),\n",
    "        (\n",
    "            pl.col(\"planned_service_time\").mean()\n",
    "            + pl.col(\"travel_time\").mean()\n",
    "            + pl.col(\"deadhead_time\").mean()\n",
    "        ).alias(\"round_time\"),\n",
    "        pl.col(\"travel_time\").mean(),\n",
    "        pl.col(\"planned_service_time\").mean(),\n",
    "        pl.col(\"deadhead_time\").mean(),\n",
    "        # pl.col('num_deliveries').mean(),\n",
    "    )\n",
    "    .sort(\"city\")\n",
    "    .to_pandas()\n",
    "    .to_latex(\n",
    "        index=False,\n",
    "        float_format=\"%.1f\",\n",
    "    )\n",
    ")"
   ]
  },
  {
   "cell_type": "code",
   "execution_count": 14,
   "metadata": {},
   "outputs": [
    {
     "name": "stdout",
     "output_type": "stream",
     "text": [
      "\\begin{tabular}{rrrrrr}\n",
      "\\toprule\n",
      "count & package_num & round_time & travel_time & planned_service_time & deadhead_time \\\\\n",
      "\\midrule\n",
      "1131 & 225.5 & 8.4 & 2.5 & 5.0 & 0.9 \\\\\n",
      "\\bottomrule\n",
      "\\end{tabular}\n",
      "\n"
     ]
    }
   ],
   "source": [
    "print(\n",
    "    city_route_summary_df\n",
    "    .select(\n",
    "        pl.count(),\n",
    "        # pl.col('num_deliveries').mean(),\n",
    "        pl.col(\"package_num\").mean(),\n",
    "        (\n",
    "            pl.col(\"planned_service_time\").mean()\n",
    "            + pl.col(\"travel_time\").mean()\n",
    "            + pl.col(\"deadhead_time\").mean()\n",
    "        ).alias(\"round_time\"),\n",
    "        pl.col(\"travel_time\").mean(),\n",
    "        pl.col(\"planned_service_time\").mean(),\n",
    "        pl.col(\"deadhead_time\").mean(),\n",
    "    )\n",
    "    .to_pandas()\n",
    "    .to_latex(\n",
    "        index=False,\n",
    "        float_format=\"%.1f\",\n",
    "    )\n",
    ")"
   ]
  },
  {
   "cell_type": "code",
   "execution_count": 22,
   "metadata": {},
   "outputs": [
    {
     "data": {
      "text/html": [
       "<div><style>\n",
       ".dataframe > thead > tr > th,\n",
       ".dataframe > tbody > tr > td {\n",
       "  text-align: right;\n",
       "  white-space: pre-wrap;\n",
       "}\n",
       "</style>\n",
       "<small>shape: (1, 7)</small><table border=\"1\" class=\"dataframe\"><thead><tr><th>count</th><th>package_num</th><th>round_time</th><th>travel_time</th><th>planned_service_time</th><th>deadhead_time</th><th>percent_travel</th></tr><tr><td>u32</td><td>f64</td><td>f64</td><td>f32</td><td>f64</td><td>f32</td><td>f64</td></tr></thead><tbody><tr><td>1131</td><td>225.478338</td><td>8.399503</td><td>2.506613</td><td>5.041502</td><td>0.851387</td><td>0.332085</td></tr></tbody></table></div>"
      ],
      "text/plain": [
       "shape: (1, 7)\n",
       "┌───────┬─────────────┬────────────┬─────────────┬────────────────┬───────────────┬────────────────┐\n",
       "│ count ┆ package_num ┆ round_time ┆ travel_time ┆ planned_servic ┆ deadhead_time ┆ percent_travel │\n",
       "│ ---   ┆ ---         ┆ ---        ┆ ---         ┆ e_time         ┆ ---           ┆ ---            │\n",
       "│ u32   ┆ f64         ┆ f64        ┆ f32         ┆ ---            ┆ f32           ┆ f64            │\n",
       "│       ┆             ┆            ┆             ┆ f64            ┆               ┆                │\n",
       "╞═══════╪═════════════╪════════════╪═════════════╪════════════════╪═══════════════╪════════════════╡\n",
       "│ 1131  ┆ 225.478338  ┆ 8.399503   ┆ 2.506613    ┆ 5.041502       ┆ 0.851387      ┆ 0.332085       │\n",
       "└───────┴─────────────┴────────────┴─────────────┴────────────────┴───────────────┴────────────────┘"
      ]
     },
     "execution_count": 22,
     "metadata": {},
     "output_type": "execute_result"
    }
   ],
   "source": [
    "city_route_summary_df.select(\n",
    "        pl.count(),\n",
    "        # pl.col('num_deliveries').mean(),\n",
    "        pl.col(\"package_num\").mean(),\n",
    "        (\n",
    "            pl.col(\"planned_service_time\").mean()\n",
    "            + pl.col(\"travel_time\").mean()\n",
    "            + pl.col(\"deadhead_time\").mean()\n",
    "        ).alias(\"round_time\"),\n",
    "        pl.col(\"travel_time\").mean(),\n",
    "        pl.col(\"planned_service_time\").mean(),\n",
    "        pl.col(\"deadhead_time\").mean(),\n",
    "    ).with_columns(\n",
    "        (pl.col('travel_time') / (pl.col('travel_time') + pl.col('planned_service_time'))).alias('percent_travel')\n",
    "    )\n"
   ]
  },
  {
   "cell_type": "markdown",
   "metadata": {},
   "source": [
    "## Focus on Deliveries that Only Exist outside City\n"
   ]
  },
  {
   "cell_type": "code",
   "execution_count": 15,
   "metadata": {},
   "outputs": [],
   "source": [
    "route_df = (\n",
    "    route_df.with_columns(pl.col(\"is_city\").fill_null(False))\n",
    "    .with_columns(\n",
    "        #  this is because DEPOTS don't matter for the round analysis\n",
    "        pl.when(pl.col(\"order\") < 1)\n",
    "        .then(pl.lit(False))\n",
    "        .otherwise(pl.col(\"is_city\"))\n",
    "        .alias(\"is_city\")\n",
    "    )\n",
    "    .with_columns(pl.col(\"is_city\").all().over(\"route_id\").alias(\"is_city\"))\n",
    ")\n",
    "\n",
    "outside_deliveries_df = route_df.filter(~pl.col(\"is_city\"))"
   ]
  },
  {
   "cell_type": "markdown",
   "metadata": {},
   "source": [
    "### Find Round Summaries\n"
   ]
  },
  {
   "cell_type": "code",
   "execution_count": 16,
   "metadata": {},
   "outputs": [
    {
     "data": {
      "text/html": [
       "<div>\n",
       "<style scoped>\n",
       "    .dataframe tbody tr th:only-of-type {\n",
       "        vertical-align: middle;\n",
       "    }\n",
       "\n",
       "    .dataframe tbody tr th {\n",
       "        vertical-align: top;\n",
       "    }\n",
       "\n",
       "    .dataframe thead th {\n",
       "        text-align: right;\n",
       "    }\n",
       "</style>\n",
       "<table border=\"1\" class=\"dataframe\">\n",
       "  <thead>\n",
       "    <tr style=\"text-align: right;\">\n",
       "      <th></th>\n",
       "      <th>route_id</th>\n",
       "      <th>package_num</th>\n",
       "      <th>planned_service_time</th>\n",
       "      <th>travel_time</th>\n",
       "      <th>deadhead_time</th>\n",
       "      <th>city</th>\n",
       "      <th>num_deliveries</th>\n",
       "    </tr>\n",
       "  </thead>\n",
       "  <tbody>\n",
       "    <tr>\n",
       "      <th>0</th>\n",
       "      <td>RouteID_75aeec68-49fc-4ca5-9e0c-36dac98e2f13</td>\n",
       "      <td>190</td>\n",
       "      <td>2.727417</td>\n",
       "      <td>3.082610</td>\n",
       "      <td>0.798000</td>\n",
       "      <td>Boston, USA</td>\n",
       "      <td>155</td>\n",
       "    </tr>\n",
       "    <tr>\n",
       "      <th>1</th>\n",
       "      <td>RouteID_36cc3e07-cc8e-432b-9f63-85d0bc23ac79</td>\n",
       "      <td>252</td>\n",
       "      <td>4.026306</td>\n",
       "      <td>2.304639</td>\n",
       "      <td>1.115417</td>\n",
       "      <td>Los Angeles, USA</td>\n",
       "      <td>145</td>\n",
       "    </tr>\n",
       "    <tr>\n",
       "      <th>2</th>\n",
       "      <td>RouteID_dd9b57db-bfcd-4fbd-93d7-fac82e80d109</td>\n",
       "      <td>223</td>\n",
       "      <td>3.512417</td>\n",
       "      <td>1.122389</td>\n",
       "      <td>1.176028</td>\n",
       "      <td>Los Angeles, USA</td>\n",
       "      <td>109</td>\n",
       "    </tr>\n",
       "    <tr>\n",
       "      <th>3</th>\n",
       "      <td>RouteID_0ae40c8b-c169-473f-930e-91c73ac13374</td>\n",
       "      <td>285</td>\n",
       "      <td>5.317944</td>\n",
       "      <td>2.811000</td>\n",
       "      <td>0.928833</td>\n",
       "      <td>Austin, USA</td>\n",
       "      <td>171</td>\n",
       "    </tr>\n",
       "    <tr>\n",
       "      <th>4</th>\n",
       "      <td>RouteID_33bac1d8-1edc-4f1e-b3ef-b6f251626265</td>\n",
       "      <td>181</td>\n",
       "      <td>5.027389</td>\n",
       "      <td>2.951944</td>\n",
       "      <td>0.868806</td>\n",
       "      <td>Los Angeles, USA</td>\n",
       "      <td>121</td>\n",
       "    </tr>\n",
       "  </tbody>\n",
       "</table>\n",
       "</div>"
      ],
      "text/plain": [
       "                                       route_id  package_num  \\\n",
       "0  RouteID_75aeec68-49fc-4ca5-9e0c-36dac98e2f13          190   \n",
       "1  RouteID_36cc3e07-cc8e-432b-9f63-85d0bc23ac79          252   \n",
       "2  RouteID_dd9b57db-bfcd-4fbd-93d7-fac82e80d109          223   \n",
       "3  RouteID_0ae40c8b-c169-473f-930e-91c73ac13374          285   \n",
       "4  RouteID_33bac1d8-1edc-4f1e-b3ef-b6f251626265          181   \n",
       "\n",
       "   planned_service_time  travel_time  deadhead_time              city  \\\n",
       "0              2.727417     3.082610       0.798000       Boston, USA   \n",
       "1              4.026306     2.304639       1.115417  Los Angeles, USA   \n",
       "2              3.512417     1.122389       1.176028  Los Angeles, USA   \n",
       "3              5.317944     2.811000       0.928833       Austin, USA   \n",
       "4              5.027389     2.951944       0.868806  Los Angeles, USA   \n",
       "\n",
       "   num_deliveries  \n",
       "0             155  \n",
       "1             145  \n",
       "2             109  \n",
       "3             171  \n",
       "4             121  "
      ]
     },
     "execution_count": 16,
     "metadata": {},
     "output_type": "execute_result"
    }
   ],
   "source": [
    "outside_summary_df = (\n",
    "    outside_deliveries_df\n",
    "    # .filter(\n",
    "    #     pl.col('dataset') == 'almrrc2021-data-training'\n",
    "    # )\n",
    "    .group_by(\n",
    "        \"route_id\",\n",
    "    ).agg(\n",
    "        pl.col(\"package_num\").sum(),\n",
    "        pl.col(\"planned_service_time\").sum() / 3600,\n",
    "        pl.col(\"travel_time\").filter(pl.col('order') > 1).sum() / 3600,\n",
    "        (pl.col(\"travel_time\").filter(pl.col(\"order\") <= 1).sum() / 3600).alias(\n",
    "            \"deadhead_time\"\n",
    "        ),\n",
    "        pl.col(\"city\").first(),\n",
    "        (pl.col('order') >= 1).sum().alias('num_deliveries'),\n",
    "    )\n",
    ")\n",
    "\n",
    "outside_summary_df.head().to_pandas()"
   ]
  },
  {
   "cell_type": "markdown",
   "metadata": {},
   "source": [
    "### Groupby the City\n"
   ]
  },
  {
   "cell_type": "code",
   "execution_count": 17,
   "metadata": {},
   "outputs": [
    {
     "name": "stdout",
     "output_type": "stream",
     "text": [
      "\\begin{tabular}{lrrrrrr}\n",
      "\\toprule\n",
      "city & count & package_num & round_time & travel_time & planned_service_time & deadhead_time \\\\\n",
      "\\midrule\n",
      "Austin, USA & 335 & 236.9 & 7.7 & 2.7 & 4.3 & 0.8 \\\\\n",
      "Boston, USA & 1343 & 228.7 & 8.3 & 3.1 & 4.2 & 1.0 \\\\\n",
      "Chicago, USA & 1470 & 251.2 & 8.5 & 3.2 & 4.4 & 0.9 \\\\\n",
      "Los Angeles, USA & 4514 & 235.7 & 7.8 & 2.3 & 4.6 & 0.9 \\\\\n",
      "Seattle, USA & 1502 & 227.2 & 8.0 & 2.4 & 4.7 & 1.0 \\\\\n",
      "\\bottomrule\n",
      "\\end{tabular}\n",
      "\n"
     ]
    }
   ],
   "source": [
    "print(\n",
    "    outside_summary_df.group_by(\"city\")\n",
    "    .agg(\n",
    "        pl.count(),\n",
    "        pl.col(\"package_num\").mean(),\n",
    "        (\n",
    "            pl.col(\"planned_service_time\").mean()\n",
    "            + pl.col(\"travel_time\").mean()\n",
    "            + pl.col(\"deadhead_time\").mean()\n",
    "        ).alias(\"round_time\"),\n",
    "        pl.col(\"travel_time\").mean(),\n",
    "        pl.col(\"planned_service_time\").mean(),\n",
    "        pl.col(\"deadhead_time\").mean(),\n",
    "        # pl.col('num_deliveries').mean(),\n",
    "    )\n",
    "    .sort(\"city\")\n",
    "    .to_pandas()\n",
    "    .to_latex(\n",
    "        index=False,\n",
    "        float_format=\"%.1f\",\n",
    "    )\n",
    ")"
   ]
  },
  {
   "cell_type": "code",
   "execution_count": 18,
   "metadata": {},
   "outputs": [
    {
     "name": "stdout",
     "output_type": "stream",
     "text": [
      "\\begin{tabular}{rrrrrr}\n",
      "\\toprule\n",
      "count & package_num & round_time & travel_time & planned_service_time & deadhead_time \\\\\n",
      "\\midrule\n",
      "9164 & 235.8 & 8.0 & 2.6 & 4.5 & 0.9 \\\\\n",
      "\\bottomrule\n",
      "\\end{tabular}\n",
      "\n"
     ]
    }
   ],
   "source": [
    "print(\n",
    "    outside_summary_df\n",
    "    .select(\n",
    "        pl.count(),\n",
    "        # pl.col('num_deliveries').mean(),\n",
    "        pl.col(\"package_num\").mean(),\n",
    "        (\n",
    "            pl.col(\"planned_service_time\").mean()\n",
    "            + pl.col(\"travel_time\").mean()\n",
    "            + pl.col(\"deadhead_time\").mean()\n",
    "        ).alias(\"round_time\"),\n",
    "        pl.col(\"travel_time\").mean(),\n",
    "        pl.col(\"planned_service_time\").mean(),\n",
    "        pl.col(\"deadhead_time\").mean(),\n",
    "    )\n",
    "    .to_pandas()\n",
    "    .to_latex(\n",
    "        index=False,\n",
    "        float_format=\"%.1f\",\n",
    "    )\n",
    ")"
   ]
  }
 ],
 "metadata": {
  "kernelspec": {
   "display_name": "cargo-bike-analysis",
   "language": "python",
   "name": "python3"
  },
  "language_info": {
   "codemirror_mode": {
    "name": "ipython",
    "version": 3
   },
   "file_extension": ".py",
   "mimetype": "text/x-python",
   "name": "python",
   "nbconvert_exporter": "python",
   "pygments_lexer": "ipython3",
   "version": "3.9.10"
  }
 },
 "nbformat": 4,
 "nbformat_minor": 2
}
