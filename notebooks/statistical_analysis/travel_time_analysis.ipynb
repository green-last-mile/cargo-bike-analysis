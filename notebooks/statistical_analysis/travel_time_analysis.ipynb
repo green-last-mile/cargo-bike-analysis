{
 "cells": [
  {
   "cell_type": "markdown",
   "metadata": {},
   "source": [
    "# Travel Time Analysis"
   ]
  },
  {
   "cell_type": "code",
   "execution_count": 1,
   "metadata": {},
   "outputs": [],
   "source": [
    "%load_ext autoreload\n",
    "%autoreload 2"
   ]
  },
  {
   "cell_type": "code",
   "execution_count": 2,
   "metadata": {},
   "outputs": [],
   "source": [
    "import os\n",
    "import sys\n",
    "from pathlib import Path\n",
    "\n",
    "# add the\n",
    "ROOT = Path(os.getcwd())\n",
    "while not (ROOT / \".git\").exists():\n",
    "    ROOT = ROOT.parent\n",
    "\n",
    "sys.path.append(str(ROOT))\n",
    "\n",
    "from src.config import CargoBikeConfig, load_config\n",
    "from src.osm_tags import build_tag_filter\n",
    "\n",
    "\n",
    "import polars as pl\n",
    "import geopolars as gpl\n",
    "import geopandas as gpd\n",
    "import pandas as pd"
   ]
  },
  {
   "cell_type": "markdown",
   "metadata": {},
   "source": [
    "## Load Config\n"
   ]
  },
  {
   "cell_type": "code",
   "execution_count": 3,
   "metadata": {},
   "outputs": [],
   "source": [
    "config = load_config(ROOT / \"config\" / \"paper.yaml\")"
   ]
  },
  {
   "cell_type": "code",
   "execution_count": 4,
   "metadata": {},
   "outputs": [
    {
     "data": {
      "text/html": [
       "<div>\n",
       "<style scoped>\n",
       "    .dataframe tbody tr th:only-of-type {\n",
       "        vertical-align: middle;\n",
       "    }\n",
       "\n",
       "    .dataframe tbody tr th {\n",
       "        vertical-align: top;\n",
       "    }\n",
       "\n",
       "    .dataframe thead th {\n",
       "        text-align: right;\n",
       "    }\n",
       "</style>\n",
       "<table border=\"1\" class=\"dataframe\">\n",
       "  <thead>\n",
       "    <tr style=\"text-align: right;\">\n",
       "      <th></th>\n",
       "      <th>geometry</th>\n",
       "      <th>is_city</th>\n",
       "      <th>city</th>\n",
       "    </tr>\n",
       "    <tr>\n",
       "      <th>region_id</th>\n",
       "      <th></th>\n",
       "      <th></th>\n",
       "      <th></th>\n",
       "    </tr>\n",
       "  </thead>\n",
       "  <tbody>\n",
       "    <tr>\n",
       "      <th>892a339a5afffff</th>\n",
       "      <td>POLYGON ((-71.13572 42.23376, -71.13794 42.232...</td>\n",
       "      <td>True</td>\n",
       "      <td>Boston, USA</td>\n",
       "    </tr>\n",
       "    <tr>\n",
       "      <th>892a3066a3bffff</th>\n",
       "      <td>POLYGON ((-71.08114 42.30902, -71.08337 42.308...</td>\n",
       "      <td>True</td>\n",
       "      <td>Boston, USA</td>\n",
       "    </tr>\n",
       "    <tr>\n",
       "      <th>892a302a567ffff</th>\n",
       "      <td>POLYGON ((-70.82381 42.36269, -70.82604 42.361...</td>\n",
       "      <td>True</td>\n",
       "      <td>Boston, USA</td>\n",
       "    </tr>\n",
       "    <tr>\n",
       "      <th>892a3066e17ffff</th>\n",
       "      <td>POLYGON ((-71.06072 42.33323, -71.06295 42.332...</td>\n",
       "      <td>True</td>\n",
       "      <td>Boston, USA</td>\n",
       "    </tr>\n",
       "    <tr>\n",
       "      <th>892a3066b3bffff</th>\n",
       "      <td>POLYGON ((-71.06614 42.29023, -71.06837 42.289...</td>\n",
       "      <td>True</td>\n",
       "      <td>Boston, USA</td>\n",
       "    </tr>\n",
       "  </tbody>\n",
       "</table>\n",
       "</div>"
      ],
      "text/plain": [
       "                                                          geometry  is_city  \\\n",
       "region_id                                                                     \n",
       "892a339a5afffff  POLYGON ((-71.13572 42.23376, -71.13794 42.232...     True   \n",
       "892a3066a3bffff  POLYGON ((-71.08114 42.30902, -71.08337 42.308...     True   \n",
       "892a302a567ffff  POLYGON ((-70.82381 42.36269, -70.82604 42.361...     True   \n",
       "892a3066e17ffff  POLYGON ((-71.06072 42.33323, -71.06295 42.332...     True   \n",
       "892a3066b3bffff  POLYGON ((-71.06614 42.29023, -71.06837 42.289...     True   \n",
       "\n",
       "                        city  \n",
       "region_id                     \n",
       "892a339a5afffff  Boston, USA  \n",
       "892a3066a3bffff  Boston, USA  \n",
       "892a302a567ffff  Boston, USA  \n",
       "892a3066e17ffff  Boston, USA  \n",
       "892a3066b3bffff  Boston, USA  "
      ]
     },
     "execution_count": 4,
     "metadata": {},
     "output_type": "execute_result"
    }
   ],
   "source": [
    "h3_df = (\n",
    "    pd.concat([gpd.read_parquet(city.h3_file).assign(city=city.name) for city in config.Cities], axis=0)\n",
    "    .query(\"is_city\")\n",
    ")\n",
    "\n",
    "h3_df.head()"
   ]
  },
  {
   "cell_type": "markdown",
   "metadata": {},
   "source": [
    "## Load the Amazon Data"
   ]
  },
  {
   "cell_type": "code",
   "execution_count": 5,
   "metadata": {},
   "outputs": [],
   "source": [
    "## Load the Service Time Data \n",
    "service_time_city = CargoBikeConfig.get_service_time_city(config, 'amazon')\n",
    "# this does two things, one adds the city label and 2, it crops to the city limits\n",
    "\n",
    "service_time_df = pl.read_parquet(service_time_city.file).with_columns(\n",
    "    pl.col(service_time_city.service_time_col).alias('service_time'),\n",
    ")\n",
    "\n",
    "\n",
    "service_time_df.with_columns(\n",
    "    \n",
    ")\n",
    "\n",
    "service_time_df = service_time_df.join(\n",
    "    pl.DataFrame(h3_df.reset_index()[['region_id', 'is_city',]]), \n",
    "    left_on='h3', \n",
    "    right_on='region_id',\n",
    "    how='left'\n",
    ")"
   ]
  },
  {
   "cell_type": "markdown",
   "metadata": {},
   "source": [
    "### Identify Sequential Deliveries where Both in City Limits"
   ]
  },
  {
   "cell_type": "code",
   "execution_count": 6,
   "metadata": {},
   "outputs": [
    {
     "data": {
      "text/html": [
       "<div><style>\n",
       ".dataframe > thead > tr > th,\n",
       ".dataframe > tbody > tr > td {\n",
       "  text-align: right;\n",
       "  white-space: pre-wrap;\n",
       "}\n",
       "</style>\n",
       "<small>shape: (5, 25)</small><table border=\"1\" class=\"dataframe\"><thead><tr><th>stop_id</th><th>route_id</th><th>station_code</th><th>executor_capacity_cm3</th><th>lat</th><th>lng</th><th>type</th><th>dataset</th><th>h3</th><th>package_num</th><th>has_time_window</th><th>planned_service_time</th><th>width</th><th>depth</th><th>height</th><th>volume</th><th>status</th><th>order</th><th>travel_time</th><th>arrival_datetime</th><th>time_of_day</th><th>city</th><th>service_time</th><th>is_city</th><th>is_city_prev</th></tr><tr><td>str</td><td>str</td><td>str</td><td>f64</td><td>f64</td><td>f64</td><td>str</td><td>str</td><td>str</td><td>u32</td><td>bool</td><td>f64</td><td>f64</td><td>f64</td><td>f64</td><td>f64</td><td>bool</td><td>i64</td><td>f32</td><td>datetime[μs, EST]</td><td>u32</td><td>str</td><td>f64</td><td>bool</td><td>bool</td></tr></thead><tbody><tr><td>&quot;VO&quot;</td><td>&quot;RouteID_de15d6…</td><td>&quot;DBO2&quot;</td><td>4672279.5</td><td>42.332404</td><td>-71.028593</td><td>&quot;Dropoff&quot;</td><td>&quot;almrrc2021-dat…</td><td>&quot;892a3066c17fff…</td><td>2</td><td>false</td><td>190.0</td><td>36.55</td><td>50.5</td><td>20.3</td><td>93476.832</td><td>true</td><td>2</td><td>132.0</td><td>2018-06-17 09:33:04.699951 EST</td><td>34384</td><td>&quot;Boston, USA&quot;</td><td>190.0</td><td>true</td><td>true</td></tr><tr><td>&quot;YR&quot;</td><td>&quot;RouteID_de15d6…</td><td>&quot;DBO2&quot;</td><td>4672279.5</td><td>42.332391</td><td>-71.029564</td><td>&quot;Dropoff&quot;</td><td>&quot;almrrc2021-dat…</td><td>&quot;892a3066c17fff…</td><td>2</td><td>false</td><td>131.0</td><td>29.25</td><td>34.95</td><td>17.15</td><td>36364.866</td><td>true</td><td>3</td><td>16.0</td><td>2018-06-17 09:35:31.699951 EST</td><td>34531</td><td>&quot;Boston, USA&quot;</td><td>131.0</td><td>true</td><td>true</td></tr><tr><td>&quot;DT&quot;</td><td>&quot;RouteID_de15d6…</td><td>&quot;DBO2&quot;</td><td>4672279.5</td><td>42.332368</td><td>-71.030761</td><td>&quot;Dropoff&quot;</td><td>&quot;almrrc2021-dat…</td><td>&quot;892a3066c17fff…</td><td>3</td><td>false</td><td>108.9</td><td>22.6</td><td>33.633333</td><td>8.3</td><td>23890.056</td><td>true</td><td>4</td><td>19.700001</td><td>2018-06-17 09:37:40.299951 EST</td><td>34660</td><td>&quot;Boston, USA&quot;</td><td>108.9</td><td>true</td><td>true</td></tr><tr><td>&quot;DQ&quot;</td><td>&quot;RouteID_de15d6…</td><td>&quot;DBO2&quot;</td><td>4672279.5</td><td>42.332337</td><td>-71.032741</td><td>&quot;Dropoff&quot;</td><td>&quot;almrrc2021-dat…</td><td>&quot;892a3066c03fff…</td><td>1</td><td>false</td><td>49.0</td><td>25.1</td><td>27.7</td><td>5.3</td><td>3684.931</td><td>true</td><td>5</td><td>33.900002</td><td>2018-06-17 09:39:03.199953 EST</td><td>34743</td><td>&quot;Boston, USA&quot;</td><td>49.0</td><td>true</td><td>true</td></tr><tr><td>&quot;QT&quot;</td><td>&quot;RouteID_de15d6…</td><td>&quot;DBO2&quot;</td><td>4672279.5</td><td>42.33232</td><td>-71.033697</td><td>&quot;Dropoff&quot;</td><td>&quot;almrrc2021-dat…</td><td>&quot;892a3066c03fff…</td><td>2</td><td>false</td><td>42.0</td><td>17.55</td><td>27.45</td><td>5.7</td><td>6354.075</td><td>true</td><td>6</td><td>18.1</td><td>2018-06-17 09:40:03.299953 EST</td><td>34803</td><td>&quot;Boston, USA&quot;</td><td>42.0</td><td>true</td><td>true</td></tr></tbody></table></div>"
      ],
      "text/plain": [
       "shape: (5, 25)\n",
       "┌─────────┬────────────┬────────────┬────────────┬───┬───────────┬───────────┬─────────┬───────────┐\n",
       "│ stop_id ┆ route_id   ┆ station_co ┆ executor_c ┆ … ┆ city      ┆ service_t ┆ is_city ┆ is_city_p │\n",
       "│ ---     ┆ ---        ┆ de         ┆ apacity_cm ┆   ┆ ---       ┆ ime       ┆ ---     ┆ rev       │\n",
       "│ str     ┆ str        ┆ ---        ┆ 3          ┆   ┆ str       ┆ ---       ┆ bool    ┆ ---       │\n",
       "│         ┆            ┆ str        ┆ ---        ┆   ┆           ┆ f64       ┆         ┆ bool      │\n",
       "│         ┆            ┆            ┆ f64        ┆   ┆           ┆           ┆         ┆           │\n",
       "╞═════════╪════════════╪════════════╪════════════╪═══╪═══════════╪═══════════╪═════════╪═══════════╡\n",
       "│ VO      ┆ RouteID_de ┆ DBO2       ┆ 4672279.5  ┆ … ┆ Boston,   ┆ 190.0     ┆ true    ┆ true      │\n",
       "│         ┆ 15d64d-826 ┆            ┆            ┆   ┆ USA       ┆           ┆         ┆           │\n",
       "│         ┆ e-4080-8e6 ┆            ┆            ┆   ┆           ┆           ┆         ┆           │\n",
       "│         ┆ 4-…        ┆            ┆            ┆   ┆           ┆           ┆         ┆           │\n",
       "│ YR      ┆ RouteID_de ┆ DBO2       ┆ 4672279.5  ┆ … ┆ Boston,   ┆ 131.0     ┆ true    ┆ true      │\n",
       "│         ┆ 15d64d-826 ┆            ┆            ┆   ┆ USA       ┆           ┆         ┆           │\n",
       "│         ┆ e-4080-8e6 ┆            ┆            ┆   ┆           ┆           ┆         ┆           │\n",
       "│         ┆ 4-…        ┆            ┆            ┆   ┆           ┆           ┆         ┆           │\n",
       "│ DT      ┆ RouteID_de ┆ DBO2       ┆ 4672279.5  ┆ … ┆ Boston,   ┆ 108.9     ┆ true    ┆ true      │\n",
       "│         ┆ 15d64d-826 ┆            ┆            ┆   ┆ USA       ┆           ┆         ┆           │\n",
       "│         ┆ e-4080-8e6 ┆            ┆            ┆   ┆           ┆           ┆         ┆           │\n",
       "│         ┆ 4-…        ┆            ┆            ┆   ┆           ┆           ┆         ┆           │\n",
       "│ DQ      ┆ RouteID_de ┆ DBO2       ┆ 4672279.5  ┆ … ┆ Boston,   ┆ 49.0      ┆ true    ┆ true      │\n",
       "│         ┆ 15d64d-826 ┆            ┆            ┆   ┆ USA       ┆           ┆         ┆           │\n",
       "│         ┆ e-4080-8e6 ┆            ┆            ┆   ┆           ┆           ┆         ┆           │\n",
       "│         ┆ 4-…        ┆            ┆            ┆   ┆           ┆           ┆         ┆           │\n",
       "│ QT      ┆ RouteID_de ┆ DBO2       ┆ 4672279.5  ┆ … ┆ Boston,   ┆ 42.0      ┆ true    ┆ true      │\n",
       "│         ┆ 15d64d-826 ┆            ┆            ┆   ┆ USA       ┆           ┆         ┆           │\n",
       "│         ┆ e-4080-8e6 ┆            ┆            ┆   ┆           ┆           ┆         ┆           │\n",
       "│         ┆ 4-…        ┆            ┆            ┆   ┆           ┆           ┆         ┆           │\n",
       "└─────────┴────────────┴────────────┴────────────┴───┴───────────┴───────────┴─────────┴───────────┘"
      ]
     },
     "execution_count": 6,
     "metadata": {},
     "output_type": "execute_result"
    }
   ],
   "source": [
    "sequential_df = service_time_df.with_columns(\n",
    "    pl.col('is_city').sort_by(pl.col('order')).shift(1).over('route_id').alias('is_city_prev'),\n",
    ").filter(\n",
    "    pl.col('is_city_prev') & pl.col('is_city')\n",
    ")\n",
    "\n",
    "sequential_df.head()"
   ]
  },
  {
   "cell_type": "code",
   "execution_count": 7,
   "metadata": {},
   "outputs": [
    {
     "name": "stdout",
     "output_type": "stream",
     "text": [
      "\\begin{tabular}{lrrrrrr}\n",
      "\\toprule\n",
      "city & count & travel_time & std_travel_time & 10th_travel_time & median_travel_time & 90th_travel_time \\\\\n",
      "\\midrule\n",
      "Austin, USA & 29879 & 62.0 & 67.7 & 11.3 & 43.6 & 129.1 \\\\\n",
      "Boston, USA & 21495 & 107.1 & 85.5 & 14.6 & 90.1 & 224.9 \\\\\n",
      "Chicago, USA & 40306 & 114.3 & 81.6 & 16.0 & 110.7 & 218.7 \\\\\n",
      "Seattle, USA & 56441 & 55.2 & 50.7 & 12.0 & 41.7 & 112.9 \\\\\n",
      "\\bottomrule\n",
      "\\end{tabular}\n",
      "\n"
     ]
    }
   ],
   "source": [
    "print(sequential_df.group_by(['city']).agg(\n",
    "    pl.count(),\n",
    "    pl.mean('travel_time'),\n",
    "    pl.std('travel_time').alias('std_travel_time'),\n",
    "    pl.col('travel_time').quantile(0.1).alias('10th_travel_time'),\n",
    "    pl.col('travel_time').quantile(0.5).alias('median_travel_time'),\n",
    "    pl.col('travel_time').quantile(0.9).alias('90th_travel_time'),\n",
    ").sort('city').to_pandas().to_latex(\n",
    "    index=False,\n",
    "    float_format=\"%.1f\",\n",
    "))"
   ]
  },
  {
   "cell_type": "code",
   "execution_count": 8,
   "metadata": {},
   "outputs": [
    {
     "name": "stdout",
     "output_type": "stream",
     "text": [
      "\\begin{tabular}{rrrrrr}\n",
      "\\toprule\n",
      "count & travel_time & std_travel_time & 10th_travel_time & median_travel_time & 90th_travel_time \\\\\n",
      "\\midrule\n",
      "148121 & 80.2 & 74.2 & 12.8 & 55.5 & 181.9 \\\\\n",
      "\\bottomrule\n",
      "\\end{tabular}\n",
      "\n"
     ]
    }
   ],
   "source": [
    "print(sequential_df.select(\n",
    "    pl.count(),\n",
    "    pl.mean('travel_time'),\n",
    "    pl.std('travel_time').alias('std_travel_time'),\n",
    "    pl.col('travel_time').quantile(0.1).alias('10th_travel_time'),\n",
    "    pl.col('travel_time').quantile(0.5).alias('median_travel_time'),\n",
    "    pl.col('travel_time').quantile(0.9).alias('90th_travel_time'),\n",
    ").to_pandas().to_latex(\n",
    "    index=False,\n",
    "    float_format=\"%.1f\",\n",
    "))"
   ]
  },
  {
   "cell_type": "code",
   "execution_count": 11,
   "metadata": {},
   "outputs": [],
   "source": [
    "sequential_df[['travel_time']].write_parquet(\n",
    "    \"~/Downloads/amazon_travel_time.parquet\"\n",
    ")"
   ]
  }
 ],
 "metadata": {
  "kernelspec": {
   "display_name": "cargo-bike-analysis",
   "language": "python",
   "name": "python3"
  },
  "language_info": {
   "codemirror_mode": {
    "name": "ipython",
    "version": 3
   },
   "file_extension": ".py",
   "mimetype": "text/x-python",
   "name": "python",
   "nbconvert_exporter": "python",
   "pygments_lexer": "ipython3",
   "version": "3.9.10"
  }
 },
 "nbformat": 4,
 "nbformat_minor": 2
}
