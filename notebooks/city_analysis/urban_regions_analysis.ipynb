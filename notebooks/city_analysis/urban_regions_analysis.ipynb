{
 "cells": [
  {
   "cell_type": "code",
   "execution_count": 1,
   "metadata": {},
   "outputs": [],
   "source": [
    "%load_ext autoreload\n",
    "%autoreload 2"
   ]
  },
  {
   "cell_type": "code",
   "execution_count": 9,
   "metadata": {},
   "outputs": [],
   "source": [
    "import os\n",
    "import sys\n",
    "from pathlib import Path\n",
    "\n",
    "# add the\n",
    "ROOT = Path(os.getcwd())\n",
    "while not (ROOT / \".git\").exists():\n",
    "    ROOT = ROOT.parent\n",
    "\n",
    "sys.path.append(str(ROOT))\n",
    "\n",
    "from src.config import load_config\n",
    "\n",
    "import polars as pl\n",
    "import geopandas as gpd\n",
    "import pandas as pd\n",
    "\n",
    "import src.urban_tools as ut\n",
    "import src.plot.cities as plc\n",
    "\n",
    "import subprocess"
   ]
  },
  {
   "cell_type": "code",
   "execution_count": 3,
   "metadata": {},
   "outputs": [],
   "source": [
    "config = load_config(ROOT / \"config\" / \"paper.yaml\")"
   ]
  },
  {
   "cell_type": "code",
   "execution_count": 4,
   "metadata": {},
   "outputs": [],
   "source": [
    "# embeddings = pd.read_parquet(config.GeoVex.embedding_file)\n",
    "embeddings = pd.read_parquet(\n",
    "    ROOT / \"data/geovex/embeddings.parquet\"\n",
    ")"
   ]
  },
  {
   "cell_type": "code",
   "execution_count": 5,
   "metadata": {},
   "outputs": [],
   "source": [
    "clusters_df = pd.read_parquet(\n",
    "    config.GeoVex.cluster_file\n",
    ")\n",
    "\n",
    "clusters_df = clusters_df.rename(columns={\"region_id\":\"h3\"})"
   ]
  },
  {
   "cell_type": "code",
   "execution_count": 6,
   "metadata": {},
   "outputs": [],
   "source": [
    "# Convert 'h3' column in df_clusters to be the same as 'region_id' in df_embeddings\n",
    "df_clusters = clusters_df.rename(columns={'h3': 'region_id'})\n",
    "\n",
    "# Merge the DataFrames on the 'region_id' column\n",
    "merged_df = df_clusters.merge(embeddings, on='region_id', how='left')\n",
    "\n",
    "# Filter out rows where embeddings are NaN (i.e., no match found)\n",
    "embeddings_clusters_df = merged_df.dropna(subset=embeddings.columns)"
   ]
  },
  {
   "cell_type": "code",
   "execution_count": 8,
   "metadata": {},
   "outputs": [],
   "source": [
    "cluster_centroids = ut.find_cluster_centroids(embeddings_clusters_df)"
   ]
  },
  {
   "cell_type": "code",
   "execution_count": 14,
   "metadata": {},
   "outputs": [],
   "source": [
    "cluster_centroids.to_csv(\"../../out/cluster_centroids.csv\")"
   ]
  },
  {
   "cell_type": "code",
   "execution_count": 10,
   "metadata": {},
   "outputs": [],
   "source": [
    "\n",
    "# Set the full path to the generate_image.py script\n",
    "script_path = \"/Users/nicolascollignon/kalecollective/greenlastmile/h3-images/generate_image.py\""
   ]
  },
  {
   "cell_type": "code",
   "execution_count": 13,
   "metadata": {},
   "outputs": [
    {
     "name": "stderr",
     "output_type": "stream",
     "text": [
      "Traceback (most recent call last):\n",
      "  File \"/Users/nicolascollignon/kalecollective/greenlastmile/h3-images/generate_image.py\", line 10, in <module>\n",
      "    import cv2\n",
      "ModuleNotFoundError: No module named 'cv2'\n"
     ]
    },
    {
     "name": "stdout",
     "output_type": "stream",
     "text": [
      "Failed to create image for Austin_USA, cluster 0 (H3: 89489e265d7ffff)\n"
     ]
    },
    {
     "name": "stderr",
     "output_type": "stream",
     "text": [
      "Traceback (most recent call last):\n",
      "  File \"/Users/nicolascollignon/kalecollective/greenlastmile/h3-images/generate_image.py\", line 10, in <module>\n",
      "    import cv2\n",
      "ModuleNotFoundError: No module named 'cv2'\n"
     ]
    },
    {
     "name": "stdout",
     "output_type": "stream",
     "text": [
      "Failed to create image for Austin_USA, cluster 1 (H3: 89489eace2fffff)\n"
     ]
    },
    {
     "name": "stderr",
     "output_type": "stream",
     "text": [
      "Traceback (most recent call last):\n",
      "  File \"/Users/nicolascollignon/kalecollective/greenlastmile/h3-images/generate_image.py\", line 10, in <module>\n",
      "    import cv2\n",
      "ModuleNotFoundError: No module named 'cv2'\n"
     ]
    },
    {
     "name": "stdout",
     "output_type": "stream",
     "text": [
      "Failed to create image for Austin_USA, cluster 2 (H3: 89489e35a87ffff)\n"
     ]
    },
    {
     "name": "stderr",
     "output_type": "stream",
     "text": [
      "Traceback (most recent call last):\n",
      "  File \"/Users/nicolascollignon/kalecollective/greenlastmile/h3-images/generate_image.py\", line 10, in <module>\n",
      "    import cv2\n",
      "ModuleNotFoundError: No module named 'cv2'\n"
     ]
    },
    {
     "name": "stdout",
     "output_type": "stream",
     "text": [
      "Failed to create image for Austin_USA, cluster 3 (H3: 89489e25003ffff)\n"
     ]
    },
    {
     "name": "stderr",
     "output_type": "stream",
     "text": [
      "Traceback (most recent call last):\n",
      "  File \"/Users/nicolascollignon/kalecollective/greenlastmile/h3-images/generate_image.py\", line 10, in <module>\n",
      "    import cv2\n",
      "ModuleNotFoundError: No module named 'cv2'\n"
     ]
    },
    {
     "name": "stdout",
     "output_type": "stream",
     "text": [
      "Failed to create image for Boston_USA, cluster 0 (H3: 892a30648afffff)\n"
     ]
    },
    {
     "name": "stderr",
     "output_type": "stream",
     "text": [
      "Traceback (most recent call last):\n",
      "  File \"/Users/nicolascollignon/kalecollective/greenlastmile/h3-images/generate_image.py\", line 10, in <module>\n",
      "    import cv2\n",
      "ModuleNotFoundError: No module named 'cv2'\n"
     ]
    },
    {
     "name": "stdout",
     "output_type": "stream",
     "text": [
      "Failed to create image for Boston_USA, cluster 1 (H3: 892a30663a3ffff)\n"
     ]
    },
    {
     "name": "stderr",
     "output_type": "stream",
     "text": [
      "Traceback (most recent call last):\n",
      "  File \"/Users/nicolascollignon/kalecollective/greenlastmile/h3-images/generate_image.py\", line 10, in <module>\n",
      "    import cv2\n",
      "ModuleNotFoundError: No module named 'cv2'\n"
     ]
    },
    {
     "name": "stdout",
     "output_type": "stream",
     "text": [
      "Failed to create image for Boston_USA, cluster 2 (H3: 892a30664a7ffff)\n"
     ]
    },
    {
     "name": "stderr",
     "output_type": "stream",
     "text": [
      "Traceback (most recent call last):\n",
      "  File \"/Users/nicolascollignon/kalecollective/greenlastmile/h3-images/generate_image.py\", line 10, in <module>\n",
      "    import cv2\n",
      "ModuleNotFoundError: No module named 'cv2'\n"
     ]
    },
    {
     "name": "stdout",
     "output_type": "stream",
     "text": [
      "Failed to create image for Boston_USA, cluster 3 (H3: 892a3064097ffff)\n"
     ]
    },
    {
     "name": "stderr",
     "output_type": "stream",
     "text": [
      "Traceback (most recent call last):\n",
      "  File \"/Users/nicolascollignon/kalecollective/greenlastmile/h3-images/generate_image.py\", line 10, in <module>\n",
      "    import cv2\n",
      "ModuleNotFoundError: No module named 'cv2'\n"
     ]
    },
    {
     "name": "stdout",
     "output_type": "stream",
     "text": [
      "Failed to create image for Brussels_Belgium, cluster 0 (H3: 891fa44e417ffff)\n"
     ]
    },
    {
     "name": "stderr",
     "output_type": "stream",
     "text": [
      "Traceback (most recent call last):\n",
      "  File \"/Users/nicolascollignon/kalecollective/greenlastmile/h3-images/generate_image.py\", line 10, in <module>\n",
      "    import cv2\n",
      "ModuleNotFoundError: No module named 'cv2'\n"
     ]
    },
    {
     "name": "stdout",
     "output_type": "stream",
     "text": [
      "Failed to create image for Brussels_Belgium, cluster 1 (H3: 891fa441b5bffff)\n"
     ]
    },
    {
     "name": "stderr",
     "output_type": "stream",
     "text": [
      "Traceback (most recent call last):\n",
      "  File \"/Users/nicolascollignon/kalecollective/greenlastmile/h3-images/generate_image.py\", line 10, in <module>\n",
      "    import cv2\n",
      "ModuleNotFoundError: No module named 'cv2'\n"
     ]
    },
    {
     "name": "stdout",
     "output_type": "stream",
     "text": [
      "Failed to create image for Brussels_Belgium, cluster 2 (H3: 891fa44f2d7ffff)\n"
     ]
    },
    {
     "name": "stderr",
     "output_type": "stream",
     "text": [
      "Traceback (most recent call last):\n",
      "  File \"/Users/nicolascollignon/kalecollective/greenlastmile/h3-images/generate_image.py\", line 10, in <module>\n",
      "    import cv2\n",
      "ModuleNotFoundError: No module named 'cv2'\n"
     ]
    },
    {
     "name": "stdout",
     "output_type": "stream",
     "text": [
      "Failed to create image for Brussels_Belgium, cluster 3 (H3: 891fa44f193ffff)\n"
     ]
    },
    {
     "name": "stderr",
     "output_type": "stream",
     "text": [
      "Traceback (most recent call last):\n",
      "  File \"/Users/nicolascollignon/kalecollective/greenlastmile/h3-images/generate_image.py\", line 10, in <module>\n",
      "    import cv2\n",
      "ModuleNotFoundError: No module named 'cv2'\n"
     ]
    },
    {
     "name": "stdout",
     "output_type": "stream",
     "text": [
      "Failed to create image for Chicago_USA, cluster 0 (H3: 892664cf527ffff)\n"
     ]
    },
    {
     "name": "stderr",
     "output_type": "stream",
     "text": [
      "Traceback (most recent call last):\n",
      "  File \"/Users/nicolascollignon/kalecollective/greenlastmile/h3-images/generate_image.py\", line 10, in <module>\n",
      "    import cv2\n",
      "ModuleNotFoundError: No module named 'cv2'\n"
     ]
    },
    {
     "name": "stdout",
     "output_type": "stream",
     "text": [
      "Failed to create image for Chicago_USA, cluster 1 (H3: 892664562abffff)\n"
     ]
    },
    {
     "name": "stderr",
     "output_type": "stream",
     "text": [
      "Traceback (most recent call last):\n",
      "  File \"/Users/nicolascollignon/kalecollective/greenlastmile/h3-images/generate_image.py\", line 10, in <module>\n",
      "    import cv2\n",
      "ModuleNotFoundError: No module named 'cv2'\n"
     ]
    },
    {
     "name": "stdout",
     "output_type": "stream",
     "text": [
      "Failed to create image for Chicago_USA, cluster 2 (H3: 892664cdc93ffff)\n"
     ]
    },
    {
     "name": "stderr",
     "output_type": "stream",
     "text": [
      "Traceback (most recent call last):\n",
      "  File \"/Users/nicolascollignon/kalecollective/greenlastmile/h3-images/generate_image.py\", line 10, in <module>\n",
      "    import cv2\n",
      "ModuleNotFoundError: No module named 'cv2'\n"
     ]
    },
    {
     "name": "stdout",
     "output_type": "stream",
     "text": [
      "Failed to create image for Chicago_USA, cluster 3 (H3: 89266456683ffff)\n"
     ]
    },
    {
     "name": "stderr",
     "output_type": "stream",
     "text": [
      "Traceback (most recent call last):\n",
      "  File \"/Users/nicolascollignon/kalecollective/greenlastmile/h3-images/generate_image.py\", line 10, in <module>\n",
      "    import cv2\n",
      "ModuleNotFoundError: No module named 'cv2'\n"
     ]
    },
    {
     "name": "stdout",
     "output_type": "stream",
     "text": [
      "Failed to create image for London_UK, cluster 0 (H3: 89194ad358bffff)\n"
     ]
    },
    {
     "name": "stderr",
     "output_type": "stream",
     "text": [
      "Traceback (most recent call last):\n",
      "  File \"/Users/nicolascollignon/kalecollective/greenlastmile/h3-images/generate_image.py\", line 10, in <module>\n",
      "    import cv2\n",
      "ModuleNotFoundError: No module named 'cv2'\n"
     ]
    },
    {
     "name": "stdout",
     "output_type": "stream",
     "text": [
      "Failed to create image for London_UK, cluster 1 (H3: 89195da686bffff)\n"
     ]
    },
    {
     "name": "stderr",
     "output_type": "stream",
     "text": [
      "Traceback (most recent call last):\n",
      "  File \"/Users/nicolascollignon/kalecollective/greenlastmile/h3-images/generate_image.py\", line 10, in <module>\n",
      "    import cv2\n",
      "ModuleNotFoundError: No module named 'cv2'\n"
     ]
    },
    {
     "name": "stdout",
     "output_type": "stream",
     "text": [
      "Failed to create image for London_UK, cluster 2 (H3: 89194e69693ffff)\n"
     ]
    },
    {
     "name": "stderr",
     "output_type": "stream",
     "text": [
      "Traceback (most recent call last):\n",
      "  File \"/Users/nicolascollignon/kalecollective/greenlastmile/h3-images/generate_image.py\", line 10, in <module>\n",
      "    import cv2\n",
      "ModuleNotFoundError: No module named 'cv2'\n"
     ]
    },
    {
     "name": "stdout",
     "output_type": "stream",
     "text": [
      "Failed to create image for London_UK, cluster 3 (H3: 89194ad2ebbffff)\n"
     ]
    },
    {
     "name": "stderr",
     "output_type": "stream",
     "text": [
      "Traceback (most recent call last):\n",
      "  File \"/Users/nicolascollignon/kalecollective/greenlastmile/h3-images/generate_image.py\", line 10, in <module>\n",
      "    import cv2\n",
      "ModuleNotFoundError: No module named 'cv2'\n"
     ]
    },
    {
     "name": "stdout",
     "output_type": "stream",
     "text": [
      "Failed to create image for Seattle_USA, cluster 0 (H3: 8928d542507ffff)\n"
     ]
    },
    {
     "name": "stderr",
     "output_type": "stream",
     "text": [
      "Traceback (most recent call last):\n",
      "  File \"/Users/nicolascollignon/kalecollective/greenlastmile/h3-images/generate_image.py\", line 10, in <module>\n",
      "    import cv2\n",
      "ModuleNotFoundError: No module named 'cv2'\n"
     ]
    },
    {
     "name": "stdout",
     "output_type": "stream",
     "text": [
      "Failed to create image for Seattle_USA, cluster 1 (H3: 8928d5452b3ffff)\n"
     ]
    },
    {
     "name": "stderr",
     "output_type": "stream",
     "text": [
      "Traceback (most recent call last):\n",
      "  File \"/Users/nicolascollignon/kalecollective/greenlastmile/h3-images/generate_image.py\", line 10, in <module>\n",
      "    import cv2\n",
      "ModuleNotFoundError: No module named 'cv2'\n"
     ]
    },
    {
     "name": "stdout",
     "output_type": "stream",
     "text": [
      "Failed to create image for Seattle_USA, cluster 2 (H3: 8928d547653ffff)\n"
     ]
    },
    {
     "name": "stderr",
     "output_type": "stream",
     "text": [
      "Traceback (most recent call last):\n",
      "  File \"/Users/nicolascollignon/kalecollective/greenlastmile/h3-images/generate_image.py\", line 10, in <module>\n",
      "    import cv2\n",
      "ModuleNotFoundError: No module named 'cv2'\n"
     ]
    },
    {
     "ename": "KeyboardInterrupt",
     "evalue": "",
     "output_type": "error",
     "traceback": [
      "\u001b[0;31m---------------------------------------------------------------------------\u001b[0m",
      "\u001b[0;31mKeyboardInterrupt\u001b[0m                         Traceback (most recent call last)",
      "Cell \u001b[0;32mIn[13], line 14\u001b[0m\n\u001b[1;32m     11\u001b[0m command \u001b[38;5;241m=\u001b[39m \u001b[38;5;124mf\u001b[39m\u001b[38;5;124m\"\u001b[39m\u001b[38;5;124mpython \u001b[39m\u001b[38;5;132;01m{\u001b[39;00mscript_path\u001b[38;5;132;01m}\u001b[39;00m\u001b[38;5;124m --h3 \u001b[39m\u001b[38;5;132;01m{\u001b[39;00mh3_index\u001b[38;5;132;01m}\u001b[39;00m\u001b[38;5;124m --output \u001b[39m\u001b[38;5;132;01m{\u001b[39;00moutput_path\u001b[38;5;132;01m}\u001b[39;00m\u001b[38;5;124m --tile-res 512 --style satellite-v9\u001b[39m\u001b[38;5;124m\"\u001b[39m\n\u001b[1;32m     13\u001b[0m \u001b[38;5;66;03m# Run the command\u001b[39;00m\n\u001b[0;32m---> 14\u001b[0m \u001b[43msubprocess\u001b[49m\u001b[38;5;241;43m.\u001b[39;49m\u001b[43mrun\u001b[49m\u001b[43m(\u001b[49m\u001b[43mcommand\u001b[49m\u001b[43m,\u001b[49m\u001b[43m \u001b[49m\u001b[43mshell\u001b[49m\u001b[38;5;241;43m=\u001b[39;49m\u001b[38;5;28;43;01mTrue\u001b[39;49;00m\u001b[43m)\u001b[49m\n\u001b[1;32m     16\u001b[0m \u001b[38;5;66;03m# Optional: Check if the file was created to confirm successful execution\u001b[39;00m\n\u001b[1;32m     17\u001b[0m \u001b[38;5;28;01mif\u001b[39;00m \u001b[38;5;129;01mnot\u001b[39;00m os\u001b[38;5;241m.\u001b[39mpath\u001b[38;5;241m.\u001b[39mexists(output_path):\n",
      "File \u001b[0;32m~/.pyenv/versions/3.10.12/lib/python3.10/subprocess.py:505\u001b[0m, in \u001b[0;36mrun\u001b[0;34m(input, capture_output, timeout, check, *popenargs, **kwargs)\u001b[0m\n\u001b[1;32m    503\u001b[0m \u001b[38;5;28;01mwith\u001b[39;00m Popen(\u001b[38;5;241m*\u001b[39mpopenargs, \u001b[38;5;241m*\u001b[39m\u001b[38;5;241m*\u001b[39mkwargs) \u001b[38;5;28;01mas\u001b[39;00m process:\n\u001b[1;32m    504\u001b[0m     \u001b[38;5;28;01mtry\u001b[39;00m:\n\u001b[0;32m--> 505\u001b[0m         stdout, stderr \u001b[38;5;241m=\u001b[39m \u001b[43mprocess\u001b[49m\u001b[38;5;241;43m.\u001b[39;49m\u001b[43mcommunicate\u001b[49m\u001b[43m(\u001b[49m\u001b[38;5;28;43minput\u001b[39;49m\u001b[43m,\u001b[49m\u001b[43m \u001b[49m\u001b[43mtimeout\u001b[49m\u001b[38;5;241;43m=\u001b[39;49m\u001b[43mtimeout\u001b[49m\u001b[43m)\u001b[49m\n\u001b[1;32m    506\u001b[0m     \u001b[38;5;28;01mexcept\u001b[39;00m TimeoutExpired \u001b[38;5;28;01mas\u001b[39;00m exc:\n\u001b[1;32m    507\u001b[0m         process\u001b[38;5;241m.\u001b[39mkill()\n",
      "File \u001b[0;32m~/.pyenv/versions/3.10.12/lib/python3.10/subprocess.py:1146\u001b[0m, in \u001b[0;36mPopen.communicate\u001b[0;34m(self, input, timeout)\u001b[0m\n\u001b[1;32m   1144\u001b[0m         stderr \u001b[38;5;241m=\u001b[39m \u001b[38;5;28mself\u001b[39m\u001b[38;5;241m.\u001b[39mstderr\u001b[38;5;241m.\u001b[39mread()\n\u001b[1;32m   1145\u001b[0m         \u001b[38;5;28mself\u001b[39m\u001b[38;5;241m.\u001b[39mstderr\u001b[38;5;241m.\u001b[39mclose()\n\u001b[0;32m-> 1146\u001b[0m     \u001b[38;5;28;43mself\u001b[39;49m\u001b[38;5;241;43m.\u001b[39;49m\u001b[43mwait\u001b[49m\u001b[43m(\u001b[49m\u001b[43m)\u001b[49m\n\u001b[1;32m   1147\u001b[0m \u001b[38;5;28;01melse\u001b[39;00m:\n\u001b[1;32m   1148\u001b[0m     \u001b[38;5;28;01mif\u001b[39;00m timeout \u001b[38;5;129;01mis\u001b[39;00m \u001b[38;5;129;01mnot\u001b[39;00m \u001b[38;5;28;01mNone\u001b[39;00m:\n",
      "File \u001b[0;32m~/.pyenv/versions/3.10.12/lib/python3.10/subprocess.py:1209\u001b[0m, in \u001b[0;36mPopen.wait\u001b[0;34m(self, timeout)\u001b[0m\n\u001b[1;32m   1207\u001b[0m     endtime \u001b[38;5;241m=\u001b[39m _time() \u001b[38;5;241m+\u001b[39m timeout\n\u001b[1;32m   1208\u001b[0m \u001b[38;5;28;01mtry\u001b[39;00m:\n\u001b[0;32m-> 1209\u001b[0m     \u001b[38;5;28;01mreturn\u001b[39;00m \u001b[38;5;28;43mself\u001b[39;49m\u001b[38;5;241;43m.\u001b[39;49m\u001b[43m_wait\u001b[49m\u001b[43m(\u001b[49m\u001b[43mtimeout\u001b[49m\u001b[38;5;241;43m=\u001b[39;49m\u001b[43mtimeout\u001b[49m\u001b[43m)\u001b[49m\n\u001b[1;32m   1210\u001b[0m \u001b[38;5;28;01mexcept\u001b[39;00m \u001b[38;5;167;01mKeyboardInterrupt\u001b[39;00m:\n\u001b[1;32m   1211\u001b[0m     \u001b[38;5;66;03m# https://bugs.python.org/issue25942\u001b[39;00m\n\u001b[1;32m   1212\u001b[0m     \u001b[38;5;66;03m# The first keyboard interrupt waits briefly for the child to\u001b[39;00m\n\u001b[1;32m   1213\u001b[0m     \u001b[38;5;66;03m# exit under the common assumption that it also received the ^C\u001b[39;00m\n\u001b[1;32m   1214\u001b[0m     \u001b[38;5;66;03m# generated SIGINT and will exit rapidly.\u001b[39;00m\n\u001b[1;32m   1215\u001b[0m     \u001b[38;5;28;01mif\u001b[39;00m timeout \u001b[38;5;129;01mis\u001b[39;00m \u001b[38;5;129;01mnot\u001b[39;00m \u001b[38;5;28;01mNone\u001b[39;00m:\n",
      "File \u001b[0;32m~/.pyenv/versions/3.10.12/lib/python3.10/subprocess.py:1959\u001b[0m, in \u001b[0;36mPopen._wait\u001b[0;34m(self, timeout)\u001b[0m\n\u001b[1;32m   1957\u001b[0m \u001b[38;5;28;01mif\u001b[39;00m \u001b[38;5;28mself\u001b[39m\u001b[38;5;241m.\u001b[39mreturncode \u001b[38;5;129;01mis\u001b[39;00m \u001b[38;5;129;01mnot\u001b[39;00m \u001b[38;5;28;01mNone\u001b[39;00m:\n\u001b[1;32m   1958\u001b[0m     \u001b[38;5;28;01mbreak\u001b[39;00m  \u001b[38;5;66;03m# Another thread waited.\u001b[39;00m\n\u001b[0;32m-> 1959\u001b[0m (pid, sts) \u001b[38;5;241m=\u001b[39m \u001b[38;5;28;43mself\u001b[39;49m\u001b[38;5;241;43m.\u001b[39;49m\u001b[43m_try_wait\u001b[49m\u001b[43m(\u001b[49m\u001b[38;5;241;43m0\u001b[39;49m\u001b[43m)\u001b[49m\n\u001b[1;32m   1960\u001b[0m \u001b[38;5;66;03m# Check the pid and loop as waitpid has been known to\u001b[39;00m\n\u001b[1;32m   1961\u001b[0m \u001b[38;5;66;03m# return 0 even without WNOHANG in odd situations.\u001b[39;00m\n\u001b[1;32m   1962\u001b[0m \u001b[38;5;66;03m# http://bugs.python.org/issue14396.\u001b[39;00m\n\u001b[1;32m   1963\u001b[0m \u001b[38;5;28;01mif\u001b[39;00m pid \u001b[38;5;241m==\u001b[39m \u001b[38;5;28mself\u001b[39m\u001b[38;5;241m.\u001b[39mpid:\n",
      "File \u001b[0;32m~/.pyenv/versions/3.10.12/lib/python3.10/subprocess.py:1917\u001b[0m, in \u001b[0;36mPopen._try_wait\u001b[0;34m(self, wait_flags)\u001b[0m\n\u001b[1;32m   1915\u001b[0m \u001b[38;5;250m\u001b[39m\u001b[38;5;124;03m\"\"\"All callers to this function MUST hold self._waitpid_lock.\"\"\"\u001b[39;00m\n\u001b[1;32m   1916\u001b[0m \u001b[38;5;28;01mtry\u001b[39;00m:\n\u001b[0;32m-> 1917\u001b[0m     (pid, sts) \u001b[38;5;241m=\u001b[39m \u001b[43mos\u001b[49m\u001b[38;5;241;43m.\u001b[39;49m\u001b[43mwaitpid\u001b[49m\u001b[43m(\u001b[49m\u001b[38;5;28;43mself\u001b[39;49m\u001b[38;5;241;43m.\u001b[39;49m\u001b[43mpid\u001b[49m\u001b[43m,\u001b[49m\u001b[43m \u001b[49m\u001b[43mwait_flags\u001b[49m\u001b[43m)\u001b[49m\n\u001b[1;32m   1918\u001b[0m \u001b[38;5;28;01mexcept\u001b[39;00m \u001b[38;5;167;01mChildProcessError\u001b[39;00m:\n\u001b[1;32m   1919\u001b[0m     \u001b[38;5;66;03m# This happens if SIGCLD is set to be ignored or waiting\u001b[39;00m\n\u001b[1;32m   1920\u001b[0m     \u001b[38;5;66;03m# for child processes has otherwise been disabled for our\u001b[39;00m\n\u001b[1;32m   1921\u001b[0m     \u001b[38;5;66;03m# process.  This child is dead, we can't get the status.\u001b[39;00m\n\u001b[1;32m   1922\u001b[0m     pid \u001b[38;5;241m=\u001b[39m \u001b[38;5;28mself\u001b[39m\u001b[38;5;241m.\u001b[39mpid\n",
      "\u001b[0;31mKeyboardInterrupt\u001b[0m: "
     ]
    }
   ],
   "source": [
    "\n",
    "# Assuming centroid_df is your DataFrame\n",
    "for index, row in cluster_centroids.iterrows():\n",
    "    h3_index = row['centroid_h3']\n",
    "    city = row['city'].replace(\", \", \"_\").replace(\" \", \"_\")  # Format city name for file naming\n",
    "    cluster = row['cluster']\n",
    "    \n",
    "    # Define the output path\n",
    "    output_path = f\"../../data/hex_images/{city}_cluster_{cluster}.png\"\n",
    "    \n",
    "    # Prepare the command with the full path\n",
    "    command = f\"python {script_path} --h3 {h3_index} --output {output_path} --tile-res 512 --style satellite-v9\"\n",
    "    \n",
    "    # Run the command\n",
    "    subprocess.run(command, shell=True)\n",
    "\n",
    "    # Optional: Check if the file was created to confirm successful execution\n",
    "    if not os.path.exists(output_path):\n",
    "        print(f\"Failed to create image for {city}, cluster {cluster} (H3: {h3_index})\")\n",
    "    else:\n",
    "        print(f\"Image created for {city}, cluster {cluster} (H3: {h3_index})\")\n"
   ]
  },
  {
   "cell_type": "code",
   "execution_count": null,
   "metadata": {},
   "outputs": [],
   "source": []
  }
 ],
 "metadata": {
  "kernelspec": {
   "display_name": ".venv",
   "language": "python",
   "name": "python3"
  },
  "language_info": {
   "codemirror_mode": {
    "name": "ipython",
    "version": 3
   },
   "file_extension": ".py",
   "mimetype": "text/x-python",
   "name": "python",
   "nbconvert_exporter": "python",
   "pygments_lexer": "ipython3",
   "version": "3.10.12"
  }
 },
 "nbformat": 4,
 "nbformat_minor": 2
}
